{
  "nbformat": 4,
  "nbformat_minor": 0,
  "metadata": {
    "colab": {
      "name": "Untitled4.ipynb",
      "provenance": [],
      "collapsed_sections": []
    },
    "kernelspec": {
      "name": "python3",
      "display_name": "Python 3"
    },
    "language_info": {
      "name": "python"
    }
  },
  "cells": [
    {
      "cell_type": "code",
      "metadata": {
        "colab": {
          "base_uri": "https://localhost:8080/"
        },
        "id": "K-I7j8i2lZBd",
        "outputId": "73ebfb0b-e839-4648-c3bf-24f2fb26011f"
      },
      "source": [
        "from google.colab import drive\n",
        "drive.mount('/content/drive')"
      ],
      "execution_count": 2,
      "outputs": [
        {
          "output_type": "stream",
          "name": "stdout",
          "text": [
            "Drive already mounted at /content/drive; to attempt to forcibly remount, call drive.mount(\"/content/drive\", force_remount=True).\n"
          ]
        }
      ]
    },
    {
      "cell_type": "code",
      "metadata": {
        "id": "RBKQVIWu1Jrs"
      },
      "source": [
        "import pandas as pd\n",
        "import numpy as np\n",
        "\n",
        "import seaborn as sns \n",
        "import matplotlib.pyplot as plt \n",
        "\n",
        "from sklearn.preprocessing import OneHotEncoder, StandardScaler, OrdinalEncoder\n",
        "from sklearn.metrics import  r2_score, mean_squared_error\n",
        "from sklearn.model_selection import train_test_split, GridSearchCV\n",
        "from sklearn.preprocessing import StandardScaler, RobustScaler, LabelEncoder, OneHotEncoder"
      ],
      "execution_count": 3,
      "outputs": []
    },
    {
      "cell_type": "code",
      "metadata": {
        "colab": {
          "base_uri": "https://localhost:8080/"
        },
        "id": "zrd14Ems1QKR",
        "outputId": "6d4b0d57-2924-4e5e-91f4-b24bc19bede6"
      },
      "source": [
        "df = pd.read_csv('./drive/MyDrive/train.csv')\n"
      ],
      "execution_count": 4,
      "outputs": [
        {
          "output_type": "stream",
          "name": "stderr",
          "text": [
            "/usr/local/lib/python3.7/dist-packages/IPython/core/interactiveshell.py:2718: DtypeWarning: Columns (1) have mixed types.Specify dtype option on import or set low_memory=False.\n",
            "  interactivity=interactivity, compiler=compiler, result=result)\n"
          ]
        }
      ]
    },
    {
      "cell_type": "code",
      "metadata": {
        "id": "S1HMkLhL2R6E"
      },
      "source": [
        "features_with_nan = [feature for feature in df. columns if df[feature].isnull().sum()>1]"
      ],
      "execution_count": 5,
      "outputs": []
    },
    {
      "cell_type": "code",
      "metadata": {
        "colab": {
          "base_uri": "https://localhost:8080/"
        },
        "id": "1kBHxS6D1RPJ",
        "outputId": "9ac0a6f5-9e47-4a3d-c43b-c41a6ff10f82"
      },
      "source": [
        "for feature in features_with_nan:\n",
        "    print(feature, np.round(df[feature].isnull().mean()*100, 2), '% missing')"
      ],
      "execution_count": 6,
      "outputs": [
        {
          "output_type": "stream",
          "name": "stdout",
          "text": [
            "floor 62.99 % missing\n",
            "osm_city_nearest_population 0.02 % missing\n",
            "reform_house_population_1000 5.22 % missing\n",
            "reform_house_population_500 9.73 % missing\n",
            "reform_mean_floor_count_1000 5.97 % missing\n",
            "reform_mean_floor_count_500 10.78 % missing\n",
            "reform_mean_year_building_1000 5.8 % missing\n",
            "reform_mean_year_building_500 10.59 % missing\n",
            "street 0.57 % missing\n"
          ]
        }
      ]
    },
    {
      "cell_type": "code",
      "metadata": {
        "id": "RyOZMfbv2Ay-"
      },
      "source": [
        "X_df, y_series = df.drop(['floor', 'per_square_meter_price'], axis=1), df['per_square_meter_price']"
      ],
      "execution_count": 7,
      "outputs": []
    },
    {
      "cell_type": "code",
      "metadata": {
        "colab": {
          "base_uri": "https://localhost:8080/"
        },
        "id": "dO5fB5_U2A35",
        "outputId": "f41262b4-9585-49f7-be1a-a288eab858ff"
      },
      "source": [
        "numerical_feat=[features for features in df.columns if df[features].dtypes!='O']\n",
        "print('The number of numerical features are', len(numerical_feat))"
      ],
      "execution_count": 8,
      "outputs": [
        {
          "output_type": "stream",
          "name": "stdout",
          "text": [
            "The number of numerical features are 70\n"
          ]
        }
      ]
    },
    {
      "cell_type": "code",
      "metadata": {
        "id": "Bha6BP5R2A7Z"
      },
      "source": [
        "from sklearn.cluster import KMeans\n",
        "from sklearn.preprocessing import StandardScaler"
      ],
      "execution_count": 9,
      "outputs": []
    },
    {
      "cell_type": "code",
      "metadata": {
        "id": "cED-xXHJ1RXo"
      },
      "source": [
        "df_dropped = df.drop(features_with_nan, axis = 1)"
      ],
      "execution_count": 10,
      "outputs": []
    },
    {
      "cell_type": "code",
      "metadata": {
        "id": "78Bjhyhg1Rxu"
      },
      "source": [
        "cat_features = []\n",
        "for i in df_dropped.columns:\n",
        "    if i not in numerical_feat:\n",
        "        cat_features.append(i)"
      ],
      "execution_count": 11,
      "outputs": []
    },
    {
      "cell_type": "code",
      "metadata": {
        "id": "1ZtZx_Uz2ij_"
      },
      "source": [
        "df_dropped = df_dropped.drop(cat_features, axis = 1)"
      ],
      "execution_count": 12,
      "outputs": []
    },
    {
      "cell_type": "code",
      "metadata": {
        "id": "BUSUPmZn2ipW"
      },
      "source": [
        "scaler = StandardScaler()\n",
        "support_scaled = scaler.fit_transform(df_dropped)"
      ],
      "execution_count": 13,
      "outputs": []
    },
    {
      "cell_type": "code",
      "metadata": {
        "colab": {
          "base_uri": "https://localhost:8080/"
        },
        "id": "_8K-_GHi2itP",
        "outputId": "6684cac7-a446-463f-c106-c316b69529b5"
      },
      "source": [
        "clust = KMeans()\n",
        "\n",
        "clst_labels = clust.fit_predict(support_scaled)\n",
        "labels_set = list(set(clst_labels))\n",
        "print(labels_set)"
      ],
      "execution_count": 14,
      "outputs": [
        {
          "output_type": "stream",
          "name": "stdout",
          "text": [
            "[0, 1, 2, 3, 4, 5, 6, 7]\n"
          ]
        }
      ]
    },
    {
      "cell_type": "code",
      "metadata": {
        "colab": {
          "base_uri": "https://localhost:8080/"
        },
        "id": "XCGPLVba2iwo",
        "outputId": "f826155f-5b0d-42ea-8e0e-88a92adda7a9"
      },
      "source": [
        "clst_labels.shape"
      ],
      "execution_count": 17,
      "outputs": [
        {
          "output_type": "execute_result",
          "data": {
            "text/plain": [
              "(279792,)"
            ]
          },
          "metadata": {},
          "execution_count": 17
        }
      ]
    },
    {
      "cell_type": "code",
      "metadata": {
        "id": "SAvHLOQx3eaZ"
      },
      "source": [
        "X_df['cluster'] = clst_labels"
      ],
      "execution_count": 22,
      "outputs": []
    },
    {
      "cell_type": "code",
      "metadata": {
        "id": "jH_st-Ag3efV"
      },
      "source": [
        "features_nan_num = []\n",
        "for i in features_with_nan:\n",
        "  if i in numerical_feat:\n",
        "    features_nan_num.append(i)"
      ],
      "execution_count": 23,
      "outputs": []
    },
    {
      "cell_type": "code",
      "metadata": {
        "id": "MBbWUDuf7J5M"
      },
      "source": [
        "features_with_nan.remove('floor')"
      ],
      "execution_count": 30,
      "outputs": []
    },
    {
      "cell_type": "code",
      "metadata": {
        "colab": {
          "base_uri": "https://localhost:8080/"
        },
        "id": "NUTc9iye4WE-",
        "outputId": "c5fb2d08-6598-4eb7-bccd-98d533c39cee"
      },
      "source": [
        "X_df.groupby('cluster')['cluster']"
      ],
      "execution_count": 34,
      "outputs": [
        {
          "output_type": "execute_result",
          "data": {
            "text/plain": [
              "<pandas.core.groupby.generic.SeriesGroupBy object at 0x7ff8a8211210>"
            ]
          },
          "metadata": {},
          "execution_count": 34
        }
      ]
    },
    {
      "cell_type": "code",
      "metadata": {
        "id": "3syEOX-F4WIM"
      },
      "source": [
        "sub_df = X_df[X_df[features_with_nan].isnull()]"
      ],
      "execution_count": 35,
      "outputs": []
    },
    {
      "cell_type": "code",
      "metadata": {
        "id": "YQsLzUse3el1"
      },
      "source": [
        "for drop in features_nan_num:\n",
        "  sub_df = X_df[X_df[drop].isnull()]\n",
        "  for clust in sub_df.groupby('cluster')['cluster'].unique():\n",
        "    similar_val_list = X_df[X_df['cluster'] == clust[0]][drop]\n",
        "    if len(similar_val_list) > 1:\n",
        "      missed_val = similar_val_list.dropna().mean()\n",
        "      X_df.loc[similar_val_list[similar_val_list.isnull()].index, drop] = missed_val"
      ],
      "execution_count": 39,
      "outputs": []
    },
    {
      "cell_type": "code",
      "metadata": {
        "colab": {
          "base_uri": "https://localhost:8080/"
        },
        "id": "kln35rHL9z9E",
        "outputId": "35882d82-3f0f-4403-dc7a-a13f0bfb7fb4"
      },
      "source": [
        "X_df.info()"
      ],
      "execution_count": 41,
      "outputs": [
        {
          "output_type": "stream",
          "name": "stdout",
          "text": [
            "<class 'pandas.core.frame.DataFrame'>\n",
            "RangeIndex: 279792 entries, 0 to 279791\n",
            "Data columns (total 76 columns):\n",
            " #   Column                               Non-Null Count   Dtype  \n",
            "---  ------                               --------------   -----  \n",
            " 0   city                                 279792 non-null  object \n",
            " 1   id                                   279792 non-null  object \n",
            " 2   lat                                  279792 non-null  float64\n",
            " 3   lng                                  279792 non-null  float64\n",
            " 4   osm_amenity_points_in_0.001          279792 non-null  int64  \n",
            " 5   osm_amenity_points_in_0.005          279792 non-null  int64  \n",
            " 6   osm_amenity_points_in_0.0075         279792 non-null  int64  \n",
            " 7   osm_amenity_points_in_0.01           279792 non-null  int64  \n",
            " 8   osm_building_points_in_0.001         279792 non-null  int64  \n",
            " 9   osm_building_points_in_0.005         279792 non-null  int64  \n",
            " 10  osm_building_points_in_0.0075        279792 non-null  int64  \n",
            " 11  osm_building_points_in_0.01          279792 non-null  int64  \n",
            " 12  osm_catering_points_in_0.001         279792 non-null  int64  \n",
            " 13  osm_catering_points_in_0.005         279792 non-null  int64  \n",
            " 14  osm_catering_points_in_0.0075        279792 non-null  int64  \n",
            " 15  osm_catering_points_in_0.01          279792 non-null  int64  \n",
            " 16  osm_city_closest_dist                279792 non-null  float64\n",
            " 17  osm_city_nearest_name                279792 non-null  object \n",
            " 18  osm_city_nearest_population          279792 non-null  float64\n",
            " 19  osm_crossing_closest_dist            279792 non-null  float64\n",
            " 20  osm_crossing_points_in_0.001         279792 non-null  int64  \n",
            " 21  osm_crossing_points_in_0.005         279792 non-null  int64  \n",
            " 22  osm_crossing_points_in_0.0075        279792 non-null  int64  \n",
            " 23  osm_crossing_points_in_0.01          279792 non-null  int64  \n",
            " 24  osm_culture_points_in_0.001          279792 non-null  int64  \n",
            " 25  osm_culture_points_in_0.005          279792 non-null  int64  \n",
            " 26  osm_culture_points_in_0.0075         279792 non-null  int64  \n",
            " 27  osm_culture_points_in_0.01           279792 non-null  int64  \n",
            " 28  osm_finance_points_in_0.001          279792 non-null  int64  \n",
            " 29  osm_finance_points_in_0.005          279792 non-null  int64  \n",
            " 30  osm_finance_points_in_0.0075         279792 non-null  int64  \n",
            " 31  osm_finance_points_in_0.01           279792 non-null  int64  \n",
            " 32  osm_healthcare_points_in_0.005       279792 non-null  int64  \n",
            " 33  osm_healthcare_points_in_0.0075      279792 non-null  int64  \n",
            " 34  osm_healthcare_points_in_0.01        279792 non-null  int64  \n",
            " 35  osm_historic_points_in_0.005         279792 non-null  int64  \n",
            " 36  osm_historic_points_in_0.0075        279792 non-null  int64  \n",
            " 37  osm_historic_points_in_0.01          279792 non-null  int64  \n",
            " 38  osm_hotels_points_in_0.005           279792 non-null  int64  \n",
            " 39  osm_hotels_points_in_0.0075          279792 non-null  int64  \n",
            " 40  osm_hotels_points_in_0.01            279792 non-null  int64  \n",
            " 41  osm_leisure_points_in_0.005          279792 non-null  int64  \n",
            " 42  osm_leisure_points_in_0.0075         279792 non-null  int64  \n",
            " 43  osm_leisure_points_in_0.01           279792 non-null  int64  \n",
            " 44  osm_offices_points_in_0.001          279792 non-null  int64  \n",
            " 45  osm_offices_points_in_0.005          279792 non-null  int64  \n",
            " 46  osm_offices_points_in_0.0075         279792 non-null  int64  \n",
            " 47  osm_offices_points_in_0.01           279792 non-null  int64  \n",
            " 48  osm_shops_points_in_0.001            279792 non-null  int64  \n",
            " 49  osm_shops_points_in_0.005            279792 non-null  int64  \n",
            " 50  osm_shops_points_in_0.0075           279792 non-null  int64  \n",
            " 51  osm_shops_points_in_0.01             279792 non-null  int64  \n",
            " 52  osm_subway_closest_dist              279792 non-null  float64\n",
            " 53  osm_train_stop_closest_dist          279792 non-null  float64\n",
            " 54  osm_train_stop_points_in_0.005       279792 non-null  int64  \n",
            " 55  osm_train_stop_points_in_0.0075      279792 non-null  int64  \n",
            " 56  osm_train_stop_points_in_0.01        279792 non-null  int64  \n",
            " 57  osm_transport_stop_closest_dist      279792 non-null  float64\n",
            " 58  osm_transport_stop_points_in_0.005   279792 non-null  int64  \n",
            " 59  osm_transport_stop_points_in_0.0075  279792 non-null  int64  \n",
            " 60  osm_transport_stop_points_in_0.01    279792 non-null  int64  \n",
            " 61  reform_count_of_houses_1000          279792 non-null  int64  \n",
            " 62  reform_count_of_houses_500           279792 non-null  int64  \n",
            " 63  reform_house_population_1000         279792 non-null  float64\n",
            " 64  reform_house_population_500          279792 non-null  float64\n",
            " 65  reform_mean_floor_count_1000         279792 non-null  float64\n",
            " 66  reform_mean_floor_count_500          279792 non-null  float64\n",
            " 67  reform_mean_year_building_1000       279792 non-null  float64\n",
            " 68  reform_mean_year_building_500        279792 non-null  float64\n",
            " 69  region                               279792 non-null  object \n",
            " 70  total_square                         279792 non-null  float64\n",
            " 71  street                               278186 non-null  object \n",
            " 72  date                                 279792 non-null  object \n",
            " 73  realty_type                          279792 non-null  int64  \n",
            " 74  price_type                           279792 non-null  int64  \n",
            " 75  cluster                              279792 non-null  int32  \n",
            "dtypes: float64(15), int32(1), int64(54), object(6)\n",
            "memory usage: 161.2+ MB\n"
          ]
        }
      ]
    },
    {
      "cell_type": "code",
      "metadata": {
        "id": "I2v_PiMC90Sr"
      },
      "source": [
        "features_nan_cat = [feature for feature in X_df. columns if X_df[feature].isnull().sum()>1]"
      ],
      "execution_count": 43,
      "outputs": []
    },
    {
      "cell_type": "code",
      "metadata": {
        "colab": {
          "base_uri": "https://localhost:8080/"
        },
        "id": "X__SErcl90Xt",
        "outputId": "8199c0b7-33c2-4764-b4a4-4e68d1e5ec30"
      },
      "source": [
        "features_nan_cat"
      ],
      "execution_count": 44,
      "outputs": [
        {
          "output_type": "execute_result",
          "data": {
            "text/plain": [
              "['street']"
            ]
          },
          "metadata": {},
          "execution_count": 44
        }
      ]
    },
    {
      "cell_type": "code",
      "metadata": {
        "colab": {
          "base_uri": "https://localhost:8080/"
        },
        "id": "LWBddLRQ90bE",
        "outputId": "26bc66b7-0e8a-4341-c78b-067f3df61437"
      },
      "source": [
        "len(X_df['street'].unique())"
      ],
      "execution_count": 47,
      "outputs": [
        {
          "output_type": "execute_result",
          "data": {
            "text/plain": [
              "28842"
            ]
          },
          "metadata": {},
          "execution_count": 47
        }
      ]
    },
    {
      "cell_type": "code",
      "metadata": {
        "id": "O6h6IkrQALa9"
      },
      "source": [
        "X_df['street'] = X_df['street'].str[1:]"
      ],
      "execution_count": 56,
      "outputs": []
    },
    {
      "cell_type": "code",
      "metadata": {
        "colab": {
          "base_uri": "https://localhost:8080/"
        },
        "id": "DW-xWdWwAZ2U",
        "outputId": "9d03b223-0cc4-4102-d045-afdb1d27de64"
      },
      "source": [
        "X_df['street']"
      ],
      "execution_count": 57,
      "outputs": [
        {
          "output_type": "execute_result",
          "data": {
            "text/plain": [
              "0         27289\n",
              "1         17052\n",
              "2         16913\n",
              "3         10148\n",
              "4          1338\n",
              "          ...  \n",
              "279787    11114\n",
              "279788    28440\n",
              "279789     6671\n",
              "279790    17667\n",
              "279791     5611\n",
              "Name: street, Length: 279792, dtype: object"
            ]
          },
          "metadata": {},
          "execution_count": 57
        }
      ]
    },
    {
      "cell_type": "code",
      "metadata": {
        "colab": {
          "base_uri": "https://localhost:8080/"
        },
        "id": "NwS13inSAleN",
        "outputId": "d4f9fe08-adbc-42f2-ce2e-859bb97f720f"
      },
      "source": [
        "X_df['street'].fillna(0)"
      ],
      "execution_count": 58,
      "outputs": [
        {
          "output_type": "execute_result",
          "data": {
            "text/plain": [
              "0         27289\n",
              "1         17052\n",
              "2         16913\n",
              "3         10148\n",
              "4          1338\n",
              "          ...  \n",
              "279787    11114\n",
              "279788    28440\n",
              "279789     6671\n",
              "279790    17667\n",
              "279791     5611\n",
              "Name: street, Length: 279792, dtype: object"
            ]
          },
          "metadata": {},
          "execution_count": 58
        }
      ]
    },
    {
      "cell_type": "code",
      "metadata": {
        "id": "ShREQf9HA44O"
      },
      "source": [
        "X_df['street'] = pd.to_numeric(X_df['street'])"
      ],
      "execution_count": 59,
      "outputs": []
    },
    {
      "cell_type": "code",
      "metadata": {
        "colab": {
          "base_uri": "https://localhost:8080/"
        },
        "id": "UFqmzenOBB0A",
        "outputId": "b677cd65-daee-4979-ce41-1c336b23ed44"
      },
      "source": [
        "X_df['street'].replace({0:X_df['street'].median()})"
      ],
      "execution_count": 60,
      "outputs": [
        {
          "output_type": "execute_result",
          "data": {
            "text/plain": [
              "0         27289.0\n",
              "1         17052.0\n",
              "2         16913.0\n",
              "3         10148.0\n",
              "4          1338.0\n",
              "           ...   \n",
              "279787    11114.0\n",
              "279788    28440.0\n",
              "279789     6671.0\n",
              "279790    17667.0\n",
              "279791     5611.0\n",
              "Name: street, Length: 279792, dtype: float64"
            ]
          },
          "metadata": {},
          "execution_count": 60
        }
      ]
    },
    {
      "cell_type": "code",
      "metadata": {
        "colab": {
          "base_uri": "https://localhost:8080/"
        },
        "id": "ZvTMVmerBmhn",
        "outputId": "4d7085ab-22bd-45b8-fb10-0dd972a3384f"
      },
      "source": [
        "X_df['street']"
      ],
      "execution_count": 61,
      "outputs": [
        {
          "output_type": "execute_result",
          "data": {
            "text/plain": [
              "0         27289.0\n",
              "1         17052.0\n",
              "2         16913.0\n",
              "3         10148.0\n",
              "4          1338.0\n",
              "           ...   \n",
              "279787    11114.0\n",
              "279788    28440.0\n",
              "279789     6671.0\n",
              "279790    17667.0\n",
              "279791     5611.0\n",
              "Name: street, Length: 279792, dtype: float64"
            ]
          },
          "metadata": {},
          "execution_count": 61
        }
      ]
    },
    {
      "cell_type": "code",
      "metadata": {
        "id": "8p32bbeHCu5H"
      },
      "source": [
        ""
      ],
      "execution_count": null,
      "outputs": []
    },
    {
      "cell_type": "code",
      "metadata": {
        "id": "vDzL4iOPCvGC"
      },
      "source": [
        ""
      ],
      "execution_count": null,
      "outputs": []
    },
    {
      "cell_type": "code",
      "metadata": {
        "id": "pXKAnNeGCwSS"
      },
      "source": [
        ""
      ],
      "execution_count": null,
      "outputs": []
    },
    {
      "cell_type": "code",
      "metadata": {
        "id": "8O7_BVZpCwDJ"
      },
      "source": [
        ""
      ],
      "execution_count": null,
      "outputs": []
    },
    {
      "cell_type": "code",
      "metadata": {
        "id": "udpHfpnwCvy6"
      },
      "source": [
        ""
      ],
      "execution_count": null,
      "outputs": []
    },
    {
      "cell_type": "code",
      "metadata": {
        "id": "xRG03tv4CvMU"
      },
      "source": [
        ""
      ],
      "execution_count": null,
      "outputs": []
    }
  ]
}