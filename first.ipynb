{
  "nbformat": 4,
  "nbformat_minor": 0,
  "metadata": {
    "colab": {
      "name": "Untitled4.ipynb",
      "provenance": [],
      "collapsed_sections": []
    },
    "kernelspec": {
      "name": "python3",
      "display_name": "Python 3"
    },
    "language_info": {
      "name": "python"
    }
  },
  "cells": [
    {
      "cell_type": "code",
      "metadata": {
        "colab": {
          "base_uri": "https://localhost:8080/"
        },
        "id": "K-I7j8i2lZBd",
        "outputId": "70ec8e00-7bfa-473e-edd9-2cab09e6a56b"
      },
      "source": [
        "from google.colab import drive\n",
        "drive.mount('/content/drive')"
      ],
      "execution_count": 212,
      "outputs": [
        {
          "output_type": "stream",
          "name": "stdout",
          "text": [
            "Drive already mounted at /content/drive; to attempt to forcibly remount, call drive.mount(\"/content/drive\", force_remount=True).\n"
          ]
        }
      ]
    },
    {
      "cell_type": "code",
      "metadata": {
        "id": "RBKQVIWu1Jrs"
      },
      "source": [
        "import pandas as pd\n",
        "import numpy as np\n",
        "\n",
        "import seaborn as sns \n",
        "import matplotlib.pyplot as plt \n",
        "\n",
        "from sklearn.preprocessing import OneHotEncoder, StandardScaler, OrdinalEncoder\n",
        "from sklearn.metrics import  r2_score, mean_squared_error\n",
        "from sklearn.model_selection import train_test_split, GridSearchCV\n",
        "from sklearn.preprocessing import StandardScaler, RobustScaler, LabelEncoder, OneHotEncoder"
      ],
      "execution_count": 213,
      "outputs": []
    },
    {
      "cell_type": "code",
      "metadata": {
        "colab": {
          "base_uri": "https://localhost:8080/"
        },
        "id": "zrd14Ems1QKR",
        "outputId": "16cfda39-f73d-4d1f-ab34-9b2035ec1664"
      },
      "source": [
        "df = pd.read_csv('./drive/MyDrive/train.csv')\n"
      ],
      "execution_count": 214,
      "outputs": [
        {
          "output_type": "stream",
          "name": "stderr",
          "text": [
            "/usr/local/lib/python3.7/dist-packages/IPython/core/interactiveshell.py:2718: DtypeWarning: Columns (1) have mixed types.Specify dtype option on import or set low_memory=False.\n",
            "  interactivity=interactivity, compiler=compiler, result=result)\n"
          ]
        }
      ]
    },
    {
      "cell_type": "code",
      "metadata": {
        "id": "S1HMkLhL2R6E"
      },
      "source": [
        "features_with_nan = [feature for feature in df. columns if df[feature].isnull().sum()>1]"
      ],
      "execution_count": 215,
      "outputs": []
    },
    {
      "cell_type": "code",
      "metadata": {
        "id": "ZPokmg2ZPdR6"
      },
      "source": [
        "features_with_nan.remove('floor')"
      ],
      "execution_count": 216,
      "outputs": []
    },
    {
      "cell_type": "code",
      "metadata": {
        "colab": {
          "base_uri": "https://localhost:8080/"
        },
        "id": "1kBHxS6D1RPJ",
        "outputId": "48ee2ddf-cf85-4edb-b55a-65b4629a70e8"
      },
      "source": [
        "for feature in features_with_nan:\n",
        "    print(feature, np.round(df[feature].isnull().mean()*100, 2), '% missing')"
      ],
      "execution_count": 217,
      "outputs": [
        {
          "output_type": "stream",
          "name": "stdout",
          "text": [
            "osm_city_nearest_population 0.02 % missing\n",
            "reform_house_population_1000 5.22 % missing\n",
            "reform_house_population_500 9.73 % missing\n",
            "reform_mean_floor_count_1000 5.97 % missing\n",
            "reform_mean_floor_count_500 10.78 % missing\n",
            "reform_mean_year_building_1000 5.8 % missing\n",
            "reform_mean_year_building_500 10.59 % missing\n",
            "street 0.57 % missing\n"
          ]
        }
      ]
    },
    {
      "cell_type": "code",
      "metadata": {
        "id": "RyOZMfbv2Ay-"
      },
      "source": [
        "X_df, y_series = df.drop(['floor', 'per_square_meter_price'], axis=1), df['per_square_meter_price']"
      ],
      "execution_count": 218,
      "outputs": []
    },
    {
      "cell_type": "code",
      "metadata": {
        "colab": {
          "base_uri": "https://localhost:8080/"
        },
        "id": "dO5fB5_U2A35",
        "outputId": "71562f54-d4e3-42a5-d6e3-e4c235f1d9df"
      },
      "source": [
        "numerical_feat=[features for features in df.columns if df[features].dtypes!='O']\n",
        "print('The number of numerical features are', len(numerical_feat))"
      ],
      "execution_count": 219,
      "outputs": [
        {
          "output_type": "stream",
          "name": "stdout",
          "text": [
            "The number of numerical features are 70\n"
          ]
        }
      ]
    },
    {
      "cell_type": "code",
      "metadata": {
        "id": "Bha6BP5R2A7Z"
      },
      "source": [
        "from sklearn.cluster import KMeans\n",
        "from sklearn.preprocessing import StandardScaler"
      ],
      "execution_count": 220,
      "outputs": []
    },
    {
      "cell_type": "code",
      "metadata": {
        "id": "cED-xXHJ1RXo"
      },
      "source": [
        "df_dropped = X_df.drop(features_with_nan, axis = 1)"
      ],
      "execution_count": 221,
      "outputs": []
    },
    {
      "cell_type": "code",
      "metadata": {
        "id": "78Bjhyhg1Rxu"
      },
      "source": [
        "cat_features = []\n",
        "for i in df_dropped.columns:\n",
        "    if i not in numerical_feat:\n",
        "        cat_features.append(i)"
      ],
      "execution_count": 222,
      "outputs": []
    },
    {
      "cell_type": "code",
      "metadata": {
        "id": "1ZtZx_Uz2ij_"
      },
      "source": [
        "df_dropped = df_dropped.drop(cat_features, axis = 1)"
      ],
      "execution_count": 223,
      "outputs": []
    },
    {
      "cell_type": "code",
      "metadata": {
        "id": "BUSUPmZn2ipW"
      },
      "source": [
        "scaler = StandardScaler()\n",
        "support_scaled = scaler.fit_transform(df_dropped)"
      ],
      "execution_count": 224,
      "outputs": []
    },
    {
      "cell_type": "code",
      "metadata": {
        "colab": {
          "base_uri": "https://localhost:8080/"
        },
        "id": "_8K-_GHi2itP",
        "outputId": "36f4a323-770a-4657-fe88-998b600fc41d"
      },
      "source": [
        "clust = KMeans()\n",
        "\n",
        "clst_labels = clust.fit_predict(support_scaled)\n",
        "labels_set = list(set(clst_labels))\n",
        "print(labels_set)"
      ],
      "execution_count": 225,
      "outputs": [
        {
          "output_type": "stream",
          "name": "stdout",
          "text": [
            "[0, 1, 2, 3, 4, 5, 6, 7]\n"
          ]
        }
      ]
    },
    {
      "cell_type": "code",
      "metadata": {
        "colab": {
          "base_uri": "https://localhost:8080/"
        },
        "id": "XCGPLVba2iwo",
        "outputId": "df79a758-d08a-4064-f900-7b0e8c53060d"
      },
      "source": [
        "clst_labels.shape"
      ],
      "execution_count": 226,
      "outputs": [
        {
          "output_type": "execute_result",
          "data": {
            "text/plain": [
              "(279792,)"
            ]
          },
          "metadata": {},
          "execution_count": 226
        }
      ]
    },
    {
      "cell_type": "code",
      "metadata": {
        "id": "SAvHLOQx3eaZ"
      },
      "source": [
        "X_df['cluster'] = clst_labels"
      ],
      "execution_count": 227,
      "outputs": []
    },
    {
      "cell_type": "code",
      "metadata": {
        "id": "jH_st-Ag3efV"
      },
      "source": [
        "features_nan_num = []\n",
        "for i in features_with_nan:\n",
        "  if i in numerical_feat:\n",
        "    features_nan_num.append(i)"
      ],
      "execution_count": 228,
      "outputs": []
    },
    {
      "cell_type": "code",
      "metadata": {
        "colab": {
          "base_uri": "https://localhost:8080/"
        },
        "id": "NUTc9iye4WE-",
        "outputId": "a7ae48a9-9f66-4756-f7d1-0de943d60b47"
      },
      "source": [
        "X_df.groupby('cluster')['cluster']"
      ],
      "execution_count": 229,
      "outputs": [
        {
          "output_type": "execute_result",
          "data": {
            "text/plain": [
              "<pandas.core.groupby.generic.SeriesGroupBy object at 0x7ff8bc465d90>"
            ]
          },
          "metadata": {},
          "execution_count": 229
        }
      ]
    },
    {
      "cell_type": "code",
      "metadata": {
        "id": "3syEOX-F4WIM"
      },
      "source": [
        "sub_df = X_df[X_df[features_with_nan].isnull()]"
      ],
      "execution_count": 230,
      "outputs": []
    },
    {
      "cell_type": "code",
      "metadata": {
        "id": "YQsLzUse3el1"
      },
      "source": [
        "for drop in features_nan_num:\n",
        "  sub_df = X_df[X_df[drop].isnull()]\n",
        "  for clust in sub_df.groupby('cluster')['cluster'].unique():\n",
        "    similar_val_list = X_df[X_df['cluster'] == clust[0]][drop]\n",
        "    if len(similar_val_list) > 1:\n",
        "      missed_val = similar_val_list.dropna().mean()\n",
        "      X_df.loc[similar_val_list[similar_val_list.isnull()].index, drop] = missed_val"
      ],
      "execution_count": 231,
      "outputs": []
    },
    {
      "cell_type": "code",
      "metadata": {
        "colab": {
          "base_uri": "https://localhost:8080/"
        },
        "id": "kln35rHL9z9E",
        "outputId": "928c8e11-323a-41fa-d5d7-7c52546103c2"
      },
      "source": [
        "X_df.info()"
      ],
      "execution_count": 232,
      "outputs": [
        {
          "output_type": "stream",
          "name": "stdout",
          "text": [
            "<class 'pandas.core.frame.DataFrame'>\n",
            "RangeIndex: 279792 entries, 0 to 279791\n",
            "Data columns (total 76 columns):\n",
            " #   Column                               Non-Null Count   Dtype  \n",
            "---  ------                               --------------   -----  \n",
            " 0   city                                 279792 non-null  object \n",
            " 1   id                                   279792 non-null  object \n",
            " 2   lat                                  279792 non-null  float64\n",
            " 3   lng                                  279792 non-null  float64\n",
            " 4   osm_amenity_points_in_0.001          279792 non-null  int64  \n",
            " 5   osm_amenity_points_in_0.005          279792 non-null  int64  \n",
            " 6   osm_amenity_points_in_0.0075         279792 non-null  int64  \n",
            " 7   osm_amenity_points_in_0.01           279792 non-null  int64  \n",
            " 8   osm_building_points_in_0.001         279792 non-null  int64  \n",
            " 9   osm_building_points_in_0.005         279792 non-null  int64  \n",
            " 10  osm_building_points_in_0.0075        279792 non-null  int64  \n",
            " 11  osm_building_points_in_0.01          279792 non-null  int64  \n",
            " 12  osm_catering_points_in_0.001         279792 non-null  int64  \n",
            " 13  osm_catering_points_in_0.005         279792 non-null  int64  \n",
            " 14  osm_catering_points_in_0.0075        279792 non-null  int64  \n",
            " 15  osm_catering_points_in_0.01          279792 non-null  int64  \n",
            " 16  osm_city_closest_dist                279792 non-null  float64\n",
            " 17  osm_city_nearest_name                279792 non-null  object \n",
            " 18  osm_city_nearest_population          279792 non-null  float64\n",
            " 19  osm_crossing_closest_dist            279792 non-null  float64\n",
            " 20  osm_crossing_points_in_0.001         279792 non-null  int64  \n",
            " 21  osm_crossing_points_in_0.005         279792 non-null  int64  \n",
            " 22  osm_crossing_points_in_0.0075        279792 non-null  int64  \n",
            " 23  osm_crossing_points_in_0.01          279792 non-null  int64  \n",
            " 24  osm_culture_points_in_0.001          279792 non-null  int64  \n",
            " 25  osm_culture_points_in_0.005          279792 non-null  int64  \n",
            " 26  osm_culture_points_in_0.0075         279792 non-null  int64  \n",
            " 27  osm_culture_points_in_0.01           279792 non-null  int64  \n",
            " 28  osm_finance_points_in_0.001          279792 non-null  int64  \n",
            " 29  osm_finance_points_in_0.005          279792 non-null  int64  \n",
            " 30  osm_finance_points_in_0.0075         279792 non-null  int64  \n",
            " 31  osm_finance_points_in_0.01           279792 non-null  int64  \n",
            " 32  osm_healthcare_points_in_0.005       279792 non-null  int64  \n",
            " 33  osm_healthcare_points_in_0.0075      279792 non-null  int64  \n",
            " 34  osm_healthcare_points_in_0.01        279792 non-null  int64  \n",
            " 35  osm_historic_points_in_0.005         279792 non-null  int64  \n",
            " 36  osm_historic_points_in_0.0075        279792 non-null  int64  \n",
            " 37  osm_historic_points_in_0.01          279792 non-null  int64  \n",
            " 38  osm_hotels_points_in_0.005           279792 non-null  int64  \n",
            " 39  osm_hotels_points_in_0.0075          279792 non-null  int64  \n",
            " 40  osm_hotels_points_in_0.01            279792 non-null  int64  \n",
            " 41  osm_leisure_points_in_0.005          279792 non-null  int64  \n",
            " 42  osm_leisure_points_in_0.0075         279792 non-null  int64  \n",
            " 43  osm_leisure_points_in_0.01           279792 non-null  int64  \n",
            " 44  osm_offices_points_in_0.001          279792 non-null  int64  \n",
            " 45  osm_offices_points_in_0.005          279792 non-null  int64  \n",
            " 46  osm_offices_points_in_0.0075         279792 non-null  int64  \n",
            " 47  osm_offices_points_in_0.01           279792 non-null  int64  \n",
            " 48  osm_shops_points_in_0.001            279792 non-null  int64  \n",
            " 49  osm_shops_points_in_0.005            279792 non-null  int64  \n",
            " 50  osm_shops_points_in_0.0075           279792 non-null  int64  \n",
            " 51  osm_shops_points_in_0.01             279792 non-null  int64  \n",
            " 52  osm_subway_closest_dist              279792 non-null  float64\n",
            " 53  osm_train_stop_closest_dist          279792 non-null  float64\n",
            " 54  osm_train_stop_points_in_0.005       279792 non-null  int64  \n",
            " 55  osm_train_stop_points_in_0.0075      279792 non-null  int64  \n",
            " 56  osm_train_stop_points_in_0.01        279792 non-null  int64  \n",
            " 57  osm_transport_stop_closest_dist      279792 non-null  float64\n",
            " 58  osm_transport_stop_points_in_0.005   279792 non-null  int64  \n",
            " 59  osm_transport_stop_points_in_0.0075  279792 non-null  int64  \n",
            " 60  osm_transport_stop_points_in_0.01    279792 non-null  int64  \n",
            " 61  reform_count_of_houses_1000          279792 non-null  int64  \n",
            " 62  reform_count_of_houses_500           279792 non-null  int64  \n",
            " 63  reform_house_population_1000         279792 non-null  float64\n",
            " 64  reform_house_population_500          279792 non-null  float64\n",
            " 65  reform_mean_floor_count_1000         279792 non-null  float64\n",
            " 66  reform_mean_floor_count_500          279792 non-null  float64\n",
            " 67  reform_mean_year_building_1000       279792 non-null  float64\n",
            " 68  reform_mean_year_building_500        279792 non-null  float64\n",
            " 69  region                               279792 non-null  object \n",
            " 70  total_square                         279792 non-null  float64\n",
            " 71  street                               278186 non-null  object \n",
            " 72  date                                 279792 non-null  object \n",
            " 73  realty_type                          279792 non-null  int64  \n",
            " 74  price_type                           279792 non-null  int64  \n",
            " 75  cluster                              279792 non-null  int32  \n",
            "dtypes: float64(15), int32(1), int64(54), object(6)\n",
            "memory usage: 161.2+ MB\n"
          ]
        }
      ]
    },
    {
      "cell_type": "code",
      "metadata": {
        "id": "I2v_PiMC90Sr"
      },
      "source": [
        "features_nan_cat = [feature for feature in X_df. columns if X_df[feature].isnull().sum()>1]"
      ],
      "execution_count": 233,
      "outputs": []
    },
    {
      "cell_type": "code",
      "metadata": {
        "colab": {
          "base_uri": "https://localhost:8080/"
        },
        "id": "X__SErcl90Xt",
        "outputId": "aa348035-4b29-431b-e3b8-973941ca0bff"
      },
      "source": [
        "features_nan_cat"
      ],
      "execution_count": 234,
      "outputs": [
        {
          "output_type": "execute_result",
          "data": {
            "text/plain": [
              "['street']"
            ]
          },
          "metadata": {},
          "execution_count": 234
        }
      ]
    },
    {
      "cell_type": "code",
      "metadata": {
        "colab": {
          "base_uri": "https://localhost:8080/"
        },
        "id": "LWBddLRQ90bE",
        "outputId": "741803c5-871f-48ac-9907-86bb1420c67a"
      },
      "source": [
        "len(X_df['street'].unique())"
      ],
      "execution_count": 235,
      "outputs": [
        {
          "output_type": "execute_result",
          "data": {
            "text/plain": [
              "28842"
            ]
          },
          "metadata": {},
          "execution_count": 235
        }
      ]
    },
    {
      "cell_type": "code",
      "metadata": {
        "id": "O6h6IkrQALa9"
      },
      "source": [
        "X_df['street'] = X_df['street'].str[1:]"
      ],
      "execution_count": 236,
      "outputs": []
    },
    {
      "cell_type": "code",
      "metadata": {
        "colab": {
          "base_uri": "https://localhost:8080/"
        },
        "id": "DW-xWdWwAZ2U",
        "outputId": "050624f4-70c2-4347-ca48-ec6e959d5a1d"
      },
      "source": [
        "X_df['street']"
      ],
      "execution_count": 237,
      "outputs": [
        {
          "output_type": "execute_result",
          "data": {
            "text/plain": [
              "0         27289\n",
              "1         17052\n",
              "2         16913\n",
              "3         10148\n",
              "4          1338\n",
              "          ...  \n",
              "279787    11114\n",
              "279788    28440\n",
              "279789     6671\n",
              "279790    17667\n",
              "279791     5611\n",
              "Name: street, Length: 279792, dtype: object"
            ]
          },
          "metadata": {},
          "execution_count": 237
        }
      ]
    },
    {
      "cell_type": "code",
      "metadata": {
        "colab": {
          "base_uri": "https://localhost:8080/"
        },
        "id": "NwS13inSAleN",
        "outputId": "4ce5a377-a608-4e0b-f2e8-1079a2eee4fb"
      },
      "source": [
        "X_df['street'].fillna(0)"
      ],
      "execution_count": 238,
      "outputs": [
        {
          "output_type": "execute_result",
          "data": {
            "text/plain": [
              "0         27289\n",
              "1         17052\n",
              "2         16913\n",
              "3         10148\n",
              "4          1338\n",
              "          ...  \n",
              "279787    11114\n",
              "279788    28440\n",
              "279789     6671\n",
              "279790    17667\n",
              "279791     5611\n",
              "Name: street, Length: 279792, dtype: object"
            ]
          },
          "metadata": {},
          "execution_count": 238
        }
      ]
    },
    {
      "cell_type": "code",
      "metadata": {
        "id": "ShREQf9HA44O"
      },
      "source": [
        "X_df['street'] = pd.to_numeric(X_df['street'])"
      ],
      "execution_count": 239,
      "outputs": []
    },
    {
      "cell_type": "code",
      "metadata": {
        "colab": {
          "base_uri": "https://localhost:8080/"
        },
        "id": "UFqmzenOBB0A",
        "outputId": "4a25da26-ddb6-4e43-9c12-be373485757d"
      },
      "source": [
        "X_df['street'].replace({0:X_df['street'].median()})"
      ],
      "execution_count": 240,
      "outputs": [
        {
          "output_type": "execute_result",
          "data": {
            "text/plain": [
              "0         27289.0\n",
              "1         17052.0\n",
              "2         16913.0\n",
              "3         10148.0\n",
              "4          1338.0\n",
              "           ...   \n",
              "279787    11114.0\n",
              "279788    28440.0\n",
              "279789     6671.0\n",
              "279790    17667.0\n",
              "279791     5611.0\n",
              "Name: street, Length: 279792, dtype: float64"
            ]
          },
          "metadata": {},
          "execution_count": 240
        }
      ]
    },
    {
      "cell_type": "code",
      "metadata": {
        "colab": {
          "base_uri": "https://localhost:8080/"
        },
        "id": "ZvTMVmerBmhn",
        "outputId": "0d42af44-2cfd-4edc-a42f-011353190281"
      },
      "source": [
        "X_df['street']"
      ],
      "execution_count": 241,
      "outputs": [
        {
          "output_type": "execute_result",
          "data": {
            "text/plain": [
              "0         27289.0\n",
              "1         17052.0\n",
              "2         16913.0\n",
              "3         10148.0\n",
              "4          1338.0\n",
              "           ...   \n",
              "279787    11114.0\n",
              "279788    28440.0\n",
              "279789     6671.0\n",
              "279790    17667.0\n",
              "279791     5611.0\n",
              "Name: street, Length: 279792, dtype: float64"
            ]
          },
          "metadata": {},
          "execution_count": 241
        }
      ]
    },
    {
      "cell_type": "code",
      "metadata": {
        "id": "8p32bbeHCu5H"
      },
      "source": [
        ""
      ],
      "execution_count": 241,
      "outputs": []
    },
    {
      "cell_type": "markdown",
      "metadata": {
        "id": "hA1zwzFWEldB"
      },
      "source": [
        "### CatBoost"
      ]
    },
    {
      "cell_type": "code",
      "metadata": {
        "colab": {
          "base_uri": "https://localhost:8080/"
        },
        "id": "yxjFdbcuEsV0",
        "outputId": "31dcd423-0d95-437e-cc1b-42f7ba532f6f"
      },
      "source": [
        "pip install catboost"
      ],
      "execution_count": 242,
      "outputs": [
        {
          "output_type": "stream",
          "name": "stdout",
          "text": [
            "Requirement already satisfied: catboost in /usr/local/lib/python3.7/dist-packages (0.26.1)\n",
            "Requirement already satisfied: numpy>=1.16.0 in /usr/local/lib/python3.7/dist-packages (from catboost) (1.19.5)\n",
            "Requirement already satisfied: plotly in /usr/local/lib/python3.7/dist-packages (from catboost) (4.4.1)\n",
            "Requirement already satisfied: six in /usr/local/lib/python3.7/dist-packages (from catboost) (1.15.0)\n",
            "Requirement already satisfied: pandas>=0.24.0 in /usr/local/lib/python3.7/dist-packages (from catboost) (1.1.5)\n",
            "Requirement already satisfied: matplotlib in /usr/local/lib/python3.7/dist-packages (from catboost) (3.2.2)\n",
            "Requirement already satisfied: scipy in /usr/local/lib/python3.7/dist-packages (from catboost) (1.4.1)\n",
            "Requirement already satisfied: graphviz in /usr/local/lib/python3.7/dist-packages (from catboost) (0.10.1)\n",
            "Requirement already satisfied: pytz>=2017.2 in /usr/local/lib/python3.7/dist-packages (from pandas>=0.24.0->catboost) (2018.9)\n",
            "Requirement already satisfied: python-dateutil>=2.7.3 in /usr/local/lib/python3.7/dist-packages (from pandas>=0.24.0->catboost) (2.8.2)\n",
            "Requirement already satisfied: kiwisolver>=1.0.1 in /usr/local/lib/python3.7/dist-packages (from matplotlib->catboost) (1.3.2)\n",
            "Requirement already satisfied: cycler>=0.10 in /usr/local/lib/python3.7/dist-packages (from matplotlib->catboost) (0.10.0)\n",
            "Requirement already satisfied: pyparsing!=2.0.4,!=2.1.2,!=2.1.6,>=2.0.1 in /usr/local/lib/python3.7/dist-packages (from matplotlib->catboost) (2.4.7)\n",
            "Requirement already satisfied: retrying>=1.3.3 in /usr/local/lib/python3.7/dist-packages (from plotly->catboost) (1.3.3)\n"
          ]
        }
      ]
    },
    {
      "cell_type": "code",
      "metadata": {
        "id": "002QR-4AFG-B"
      },
      "source": [
        "X_df = X_df.drop(['id','date'], axis=1)"
      ],
      "execution_count": 243,
      "outputs": []
    },
    {
      "cell_type": "code",
      "metadata": {
        "id": "WL0waQXiGU03"
      },
      "source": [
        "X_df_num = X_df.drop(['region', 'city'], axis=1)"
      ],
      "execution_count": 244,
      "outputs": []
    },
    {
      "cell_type": "code",
      "metadata": {
        "id": "9l7c-BKTGg49"
      },
      "source": [
        "X_df_num = X_df_num.drop(['osm_city_nearest_name'], axis=1)"
      ],
      "execution_count": 245,
      "outputs": []
    },
    {
      "cell_type": "code",
      "metadata": {
        "id": "vDzL4iOPCvGC"
      },
      "source": [
        "from catboost import CatBoostRegressor"
      ],
      "execution_count": 166,
      "outputs": []
    },
    {
      "cell_type": "code",
      "metadata": {
        "id": "pXKAnNeGCwSS"
      },
      "source": [
        "ctb = CatBoostRegressor(random_seed=17)"
      ],
      "execution_count": 167,
      "outputs": []
    },
    {
      "cell_type": "code",
      "metadata": {
        "id": "8O7_BVZpCwDJ"
      },
      "source": [
        "train_df, valid_df, y_train, y_valid = train_test_split(X_df_num, y_series, \n",
        "                                                                  test_size=0.7, random_state=42)"
      ],
      "execution_count": 168,
      "outputs": []
    },
    {
      "cell_type": "code",
      "metadata": {
        "colab": {
          "base_uri": "https://localhost:8080/"
        },
        "id": "udpHfpnwCvy6",
        "outputId": "b7656e5e-8951-44b9-b00a-e3927bee8657"
      },
      "source": [
        "ctb.fit(train_df, y_train)"
      ],
      "execution_count": 169,
      "outputs": [
        {
          "output_type": "stream",
          "name": "stdout",
          "text": [
            "Learning rate set to 0.085875\n",
            "0:\tlearn: 165015.7314249\ttotal: 44.3ms\tremaining: 44.3s\n",
            "1:\tlearn: 158834.3633295\ttotal: 84.8ms\tremaining: 42.3s\n",
            "2:\tlearn: 153232.2160497\ttotal: 126ms\tremaining: 41.8s\n",
            "3:\tlearn: 148401.6127198\ttotal: 166ms\tremaining: 41.4s\n",
            "4:\tlearn: 143978.4721452\ttotal: 230ms\tremaining: 45.8s\n",
            "5:\tlearn: 140063.9117664\ttotal: 272ms\tremaining: 45.1s\n",
            "6:\tlearn: 136640.1877040\ttotal: 311ms\tremaining: 44.1s\n",
            "7:\tlearn: 133604.4013688\ttotal: 351ms\tremaining: 43.5s\n",
            "8:\tlearn: 130933.1606575\ttotal: 400ms\tremaining: 44.1s\n",
            "9:\tlearn: 128576.8748327\ttotal: 446ms\tremaining: 44.2s\n",
            "10:\tlearn: 126513.7543105\ttotal: 489ms\tremaining: 44s\n",
            "11:\tlearn: 124625.1410843\ttotal: 532ms\tremaining: 43.8s\n",
            "12:\tlearn: 122851.2693669\ttotal: 568ms\tremaining: 43.1s\n",
            "13:\tlearn: 121228.6803651\ttotal: 613ms\tremaining: 43.2s\n",
            "14:\tlearn: 119929.5673946\ttotal: 657ms\tremaining: 43.2s\n",
            "15:\tlearn: 118761.7274259\ttotal: 695ms\tremaining: 42.7s\n",
            "16:\tlearn: 117693.7871870\ttotal: 737ms\tremaining: 42.6s\n",
            "17:\tlearn: 116788.5903948\ttotal: 802ms\tremaining: 43.7s\n",
            "18:\tlearn: 115911.3196306\ttotal: 839ms\tremaining: 43.3s\n",
            "19:\tlearn: 115063.2441935\ttotal: 887ms\tremaining: 43.5s\n",
            "20:\tlearn: 114366.3870322\ttotal: 927ms\tremaining: 43.2s\n",
            "21:\tlearn: 113730.3620052\ttotal: 975ms\tremaining: 43.3s\n",
            "22:\tlearn: 113080.7026722\ttotal: 1.01s\tremaining: 43.1s\n",
            "23:\tlearn: 112459.5248306\ttotal: 1.05s\tremaining: 42.8s\n",
            "24:\tlearn: 112009.6484541\ttotal: 1.1s\tremaining: 42.9s\n",
            "25:\tlearn: 111507.1668412\ttotal: 1.15s\tremaining: 43s\n",
            "26:\tlearn: 111138.2384110\ttotal: 1.19s\tremaining: 42.9s\n",
            "27:\tlearn: 110734.0965801\ttotal: 1.23s\tremaining: 42.6s\n",
            "28:\tlearn: 110333.0232257\ttotal: 1.27s\tremaining: 42.4s\n",
            "29:\tlearn: 109923.5154159\ttotal: 1.31s\tremaining: 42.4s\n",
            "30:\tlearn: 109492.5346079\ttotal: 1.35s\tremaining: 42.3s\n",
            "31:\tlearn: 109259.2802249\ttotal: 1.39s\tremaining: 42.2s\n",
            "32:\tlearn: 108971.3880382\ttotal: 1.44s\tremaining: 42.1s\n",
            "33:\tlearn: 108680.3015141\ttotal: 1.47s\tremaining: 41.8s\n",
            "34:\tlearn: 108407.4934377\ttotal: 1.52s\tremaining: 42s\n",
            "35:\tlearn: 108226.2201241\ttotal: 1.56s\tremaining: 41.7s\n",
            "36:\tlearn: 108027.5078748\ttotal: 1.59s\tremaining: 41.5s\n",
            "37:\tlearn: 107791.4579753\ttotal: 1.63s\tremaining: 41.4s\n",
            "38:\tlearn: 107540.4323688\ttotal: 1.67s\tremaining: 41.2s\n",
            "39:\tlearn: 107340.8153276\ttotal: 1.72s\tremaining: 41.2s\n",
            "40:\tlearn: 107138.0726030\ttotal: 1.77s\tremaining: 41.4s\n",
            "41:\tlearn: 106936.9080376\ttotal: 1.8s\tremaining: 41.1s\n",
            "42:\tlearn: 106769.7823382\ttotal: 1.83s\tremaining: 40.8s\n",
            "43:\tlearn: 106581.1896026\ttotal: 1.87s\tremaining: 40.7s\n",
            "44:\tlearn: 106453.4163175\ttotal: 1.9s\tremaining: 40.4s\n",
            "45:\tlearn: 106319.7191229\ttotal: 1.94s\tremaining: 40.3s\n",
            "46:\tlearn: 106000.6792406\ttotal: 1.98s\tremaining: 40.2s\n",
            "47:\tlearn: 105780.3786243\ttotal: 2.02s\tremaining: 40.1s\n",
            "48:\tlearn: 105630.6736564\ttotal: 2.06s\tremaining: 40s\n",
            "49:\tlearn: 105488.2295040\ttotal: 2.09s\tremaining: 39.7s\n",
            "50:\tlearn: 105352.8300991\ttotal: 2.12s\tremaining: 39.5s\n",
            "51:\tlearn: 105239.6365515\ttotal: 2.15s\tremaining: 39.3s\n",
            "52:\tlearn: 105076.2088460\ttotal: 2.2s\tremaining: 39.3s\n",
            "53:\tlearn: 104948.5251073\ttotal: 2.24s\tremaining: 39.2s\n",
            "54:\tlearn: 104706.3108278\ttotal: 2.27s\tremaining: 39.1s\n",
            "55:\tlearn: 104591.5737515\ttotal: 2.31s\tremaining: 39s\n",
            "56:\tlearn: 104534.0982911\ttotal: 2.34s\tremaining: 38.8s\n",
            "57:\tlearn: 104461.4395604\ttotal: 2.38s\tremaining: 38.6s\n",
            "58:\tlearn: 104372.9658542\ttotal: 2.41s\tremaining: 38.5s\n",
            "59:\tlearn: 104333.0628345\ttotal: 2.44s\tremaining: 38.3s\n",
            "60:\tlearn: 104202.6718771\ttotal: 2.47s\tremaining: 38.1s\n",
            "61:\tlearn: 104150.8695372\ttotal: 2.5s\tremaining: 37.9s\n",
            "62:\tlearn: 103962.2350301\ttotal: 2.54s\tremaining: 37.8s\n",
            "63:\tlearn: 103727.1909579\ttotal: 2.58s\tremaining: 37.7s\n",
            "64:\tlearn: 103596.2680910\ttotal: 2.61s\tremaining: 37.6s\n",
            "65:\tlearn: 103511.4756937\ttotal: 2.65s\tremaining: 37.5s\n",
            "66:\tlearn: 103399.2379014\ttotal: 2.68s\tremaining: 37.3s\n",
            "67:\tlearn: 103278.5066143\ttotal: 2.71s\tremaining: 37.2s\n",
            "68:\tlearn: 103149.8320681\ttotal: 2.76s\tremaining: 37.2s\n",
            "69:\tlearn: 103031.0755737\ttotal: 2.79s\tremaining: 37.1s\n",
            "70:\tlearn: 102879.6734384\ttotal: 2.83s\tremaining: 37s\n",
            "71:\tlearn: 102802.8770596\ttotal: 2.87s\tremaining: 36.9s\n",
            "72:\tlearn: 102672.7510956\ttotal: 2.9s\tremaining: 36.8s\n",
            "73:\tlearn: 102637.1333181\ttotal: 2.93s\tremaining: 36.7s\n",
            "74:\tlearn: 102627.8153146\ttotal: 2.96s\tremaining: 36.5s\n",
            "75:\tlearn: 102487.1983043\ttotal: 2.99s\tremaining: 36.4s\n",
            "76:\tlearn: 102413.4151350\ttotal: 3.02s\tremaining: 36.2s\n",
            "77:\tlearn: 102299.3051874\ttotal: 3.06s\tremaining: 36.2s\n",
            "78:\tlearn: 102201.9430867\ttotal: 3.1s\tremaining: 36.1s\n",
            "79:\tlearn: 102149.0473762\ttotal: 3.12s\tremaining: 35.9s\n",
            "80:\tlearn: 102100.8434211\ttotal: 3.15s\tremaining: 35.8s\n",
            "81:\tlearn: 102053.1465103\ttotal: 3.18s\tremaining: 35.6s\n",
            "82:\tlearn: 101920.7320579\ttotal: 3.22s\tremaining: 35.6s\n",
            "83:\tlearn: 101858.7295804\ttotal: 3.25s\tremaining: 35.5s\n",
            "84:\tlearn: 101838.8237307\ttotal: 3.29s\tremaining: 35.4s\n",
            "85:\tlearn: 101778.6683472\ttotal: 3.32s\tremaining: 35.3s\n",
            "86:\tlearn: 101592.8239847\ttotal: 3.36s\tremaining: 35.3s\n",
            "87:\tlearn: 101552.7647489\ttotal: 3.4s\tremaining: 35.2s\n",
            "88:\tlearn: 101423.8629889\ttotal: 3.44s\tremaining: 35.2s\n",
            "89:\tlearn: 101342.2630002\ttotal: 3.46s\tremaining: 35s\n",
            "90:\tlearn: 101188.3691867\ttotal: 3.51s\tremaining: 35.1s\n",
            "91:\tlearn: 101078.3522534\ttotal: 3.54s\tremaining: 35s\n",
            "92:\tlearn: 100979.6224035\ttotal: 3.59s\tremaining: 35s\n",
            "93:\tlearn: 100797.6058536\ttotal: 3.62s\tremaining: 34.9s\n",
            "94:\tlearn: 100740.8410142\ttotal: 3.65s\tremaining: 34.8s\n",
            "95:\tlearn: 100618.9477542\ttotal: 3.68s\tremaining: 34.7s\n",
            "96:\tlearn: 100547.7329924\ttotal: 3.72s\tremaining: 34.6s\n",
            "97:\tlearn: 100490.3561371\ttotal: 3.75s\tremaining: 34.6s\n",
            "98:\tlearn: 100439.8347080\ttotal: 3.79s\tremaining: 34.5s\n",
            "99:\tlearn: 100359.1902526\ttotal: 3.83s\tremaining: 34.5s\n",
            "100:\tlearn: 100308.0242098\ttotal: 3.86s\tremaining: 34.4s\n",
            "101:\tlearn: 100197.6993606\ttotal: 3.89s\tremaining: 34.3s\n",
            "102:\tlearn: 100065.6106503\ttotal: 3.94s\tremaining: 34.3s\n",
            "103:\tlearn: 99919.4256890\ttotal: 3.98s\tremaining: 34.3s\n",
            "104:\tlearn: 99850.1032464\ttotal: 4.01s\tremaining: 34.2s\n",
            "105:\tlearn: 99685.1712671\ttotal: 4.05s\tremaining: 34.2s\n",
            "106:\tlearn: 99614.4421436\ttotal: 4.09s\tremaining: 34.2s\n",
            "107:\tlearn: 99531.0037525\ttotal: 4.13s\tremaining: 34.1s\n",
            "108:\tlearn: 99418.7726589\ttotal: 4.17s\tremaining: 34.1s\n",
            "109:\tlearn: 99353.5010841\ttotal: 4.2s\tremaining: 34s\n",
            "110:\tlearn: 99249.5705428\ttotal: 4.24s\tremaining: 33.9s\n",
            "111:\tlearn: 99132.9589532\ttotal: 4.28s\tremaining: 33.9s\n",
            "112:\tlearn: 99023.6318522\ttotal: 4.31s\tremaining: 33.8s\n",
            "113:\tlearn: 98958.7032743\ttotal: 4.35s\tremaining: 33.8s\n",
            "114:\tlearn: 98932.8734200\ttotal: 4.39s\tremaining: 33.8s\n",
            "115:\tlearn: 98824.6400059\ttotal: 4.43s\tremaining: 33.7s\n",
            "116:\tlearn: 98689.1971050\ttotal: 4.46s\tremaining: 33.7s\n",
            "117:\tlearn: 98545.9218045\ttotal: 4.51s\tremaining: 33.7s\n",
            "118:\tlearn: 98514.6485648\ttotal: 4.54s\tremaining: 33.6s\n",
            "119:\tlearn: 98407.6538712\ttotal: 4.57s\tremaining: 33.5s\n",
            "120:\tlearn: 98261.2364939\ttotal: 4.61s\tremaining: 33.5s\n",
            "121:\tlearn: 98216.2491373\ttotal: 4.65s\tremaining: 33.4s\n",
            "122:\tlearn: 98206.8118466\ttotal: 4.67s\tremaining: 33.3s\n",
            "123:\tlearn: 98156.7687178\ttotal: 4.71s\tremaining: 33.3s\n",
            "124:\tlearn: 98091.0666553\ttotal: 4.75s\tremaining: 33.3s\n",
            "125:\tlearn: 97979.0276253\ttotal: 4.8s\tremaining: 33.3s\n",
            "126:\tlearn: 97891.3616326\ttotal: 4.83s\tremaining: 33.2s\n",
            "127:\tlearn: 97860.4806562\ttotal: 4.86s\tremaining: 33.1s\n",
            "128:\tlearn: 97778.4727645\ttotal: 4.89s\tremaining: 33s\n",
            "129:\tlearn: 97757.7294850\ttotal: 4.92s\tremaining: 32.9s\n",
            "130:\tlearn: 97663.7722006\ttotal: 4.95s\tremaining: 32.9s\n",
            "131:\tlearn: 97660.4634924\ttotal: 4.97s\tremaining: 32.7s\n",
            "132:\tlearn: 97567.6606972\ttotal: 5.01s\tremaining: 32.7s\n",
            "133:\tlearn: 97535.1144175\ttotal: 5.05s\tremaining: 32.6s\n",
            "134:\tlearn: 97404.5201628\ttotal: 5.08s\tremaining: 32.5s\n",
            "135:\tlearn: 97363.8516630\ttotal: 5.11s\tremaining: 32.5s\n",
            "136:\tlearn: 97312.3889160\ttotal: 5.14s\tremaining: 32.4s\n",
            "137:\tlearn: 97303.7495129\ttotal: 5.17s\tremaining: 32.3s\n",
            "138:\tlearn: 97288.0996004\ttotal: 5.2s\tremaining: 32.2s\n",
            "139:\tlearn: 97252.4428856\ttotal: 5.24s\tremaining: 32.2s\n",
            "140:\tlearn: 97148.4243214\ttotal: 5.28s\tremaining: 32.2s\n",
            "141:\tlearn: 97104.1748902\ttotal: 5.31s\tremaining: 32.1s\n",
            "142:\tlearn: 97100.0868665\ttotal: 5.34s\tremaining: 32s\n",
            "143:\tlearn: 97080.0285881\ttotal: 5.37s\tremaining: 31.9s\n",
            "144:\tlearn: 97008.1159767\ttotal: 5.4s\tremaining: 31.9s\n",
            "145:\tlearn: 96904.2958576\ttotal: 5.44s\tremaining: 31.8s\n",
            "146:\tlearn: 96780.4991248\ttotal: 5.48s\tremaining: 31.8s\n",
            "147:\tlearn: 96686.7853693\ttotal: 5.52s\tremaining: 31.8s\n",
            "148:\tlearn: 96597.0702579\ttotal: 5.56s\tremaining: 31.7s\n",
            "149:\tlearn: 96492.2314646\ttotal: 5.59s\tremaining: 31.7s\n",
            "150:\tlearn: 96438.3125294\ttotal: 5.62s\tremaining: 31.6s\n",
            "151:\tlearn: 96341.4632454\ttotal: 5.66s\tremaining: 31.6s\n",
            "152:\tlearn: 96225.3018265\ttotal: 5.7s\tremaining: 31.5s\n",
            "153:\tlearn: 96118.9232308\ttotal: 5.73s\tremaining: 31.5s\n",
            "154:\tlearn: 96113.9164471\ttotal: 5.76s\tremaining: 31.4s\n",
            "155:\tlearn: 96019.9462532\ttotal: 5.79s\tremaining: 31.4s\n",
            "156:\tlearn: 95956.4712101\ttotal: 5.83s\tremaining: 31.3s\n",
            "157:\tlearn: 95897.7809497\ttotal: 5.87s\tremaining: 31.3s\n",
            "158:\tlearn: 95844.5690673\ttotal: 5.9s\tremaining: 31.2s\n",
            "159:\tlearn: 95756.9902147\ttotal: 5.94s\tremaining: 31.2s\n",
            "160:\tlearn: 95751.9095793\ttotal: 5.96s\tremaining: 31.1s\n",
            "161:\tlearn: 95671.1781113\ttotal: 6s\tremaining: 31s\n",
            "162:\tlearn: 95666.7728736\ttotal: 6.03s\tremaining: 30.9s\n",
            "163:\tlearn: 95566.7085596\ttotal: 6.06s\tremaining: 30.9s\n",
            "164:\tlearn: 95517.0890294\ttotal: 6.09s\tremaining: 30.8s\n",
            "165:\tlearn: 95427.5359166\ttotal: 6.13s\tremaining: 30.8s\n",
            "166:\tlearn: 95345.2279293\ttotal: 6.17s\tremaining: 30.8s\n",
            "167:\tlearn: 95244.4211929\ttotal: 6.21s\tremaining: 30.8s\n",
            "168:\tlearn: 95240.2622565\ttotal: 6.24s\tremaining: 30.7s\n",
            "169:\tlearn: 95237.1301686\ttotal: 6.26s\tremaining: 30.6s\n",
            "170:\tlearn: 95108.4139575\ttotal: 6.3s\tremaining: 30.5s\n",
            "171:\tlearn: 95033.9630632\ttotal: 6.34s\tremaining: 30.5s\n",
            "172:\tlearn: 94996.1032779\ttotal: 6.37s\tremaining: 30.5s\n",
            "173:\tlearn: 94955.4539196\ttotal: 6.41s\tremaining: 30.4s\n",
            "174:\tlearn: 94878.3571953\ttotal: 6.45s\tremaining: 30.4s\n",
            "175:\tlearn: 94799.1125750\ttotal: 6.48s\tremaining: 30.4s\n",
            "176:\tlearn: 94796.8697689\ttotal: 6.51s\tremaining: 30.3s\n",
            "177:\tlearn: 94741.1569402\ttotal: 6.55s\tremaining: 30.2s\n",
            "178:\tlearn: 94710.8656137\ttotal: 6.58s\tremaining: 30.2s\n",
            "179:\tlearn: 94604.0463754\ttotal: 6.62s\tremaining: 30.1s\n",
            "180:\tlearn: 94545.0985421\ttotal: 6.65s\tremaining: 30.1s\n",
            "181:\tlearn: 94508.0940648\ttotal: 6.68s\tremaining: 30s\n",
            "182:\tlearn: 94396.6484649\ttotal: 6.72s\tremaining: 30s\n",
            "183:\tlearn: 94333.5317615\ttotal: 6.75s\tremaining: 29.9s\n",
            "184:\tlearn: 94328.3473090\ttotal: 6.79s\tremaining: 29.9s\n",
            "185:\tlearn: 94286.3909327\ttotal: 6.82s\tremaining: 29.9s\n",
            "186:\tlearn: 94265.6857284\ttotal: 6.85s\tremaining: 29.8s\n",
            "187:\tlearn: 94182.3247903\ttotal: 6.89s\tremaining: 29.8s\n",
            "188:\tlearn: 94146.0403968\ttotal: 6.92s\tremaining: 29.7s\n",
            "189:\tlearn: 94038.9816061\ttotal: 6.96s\tremaining: 29.7s\n",
            "190:\tlearn: 93962.3831228\ttotal: 7s\tremaining: 29.6s\n",
            "191:\tlearn: 93892.4980680\ttotal: 7.05s\tremaining: 29.7s\n",
            "192:\tlearn: 93890.4952542\ttotal: 7.07s\tremaining: 29.6s\n",
            "193:\tlearn: 93815.9436949\ttotal: 7.11s\tremaining: 29.5s\n",
            "194:\tlearn: 93782.5683108\ttotal: 7.14s\tremaining: 29.5s\n",
            "195:\tlearn: 93706.0753451\ttotal: 7.18s\tremaining: 29.4s\n",
            "196:\tlearn: 93636.2677261\ttotal: 7.22s\tremaining: 29.4s\n",
            "197:\tlearn: 93594.4676634\ttotal: 7.25s\tremaining: 29.4s\n",
            "198:\tlearn: 93563.4203878\ttotal: 7.28s\tremaining: 29.3s\n",
            "199:\tlearn: 93466.3747128\ttotal: 7.31s\tremaining: 29.3s\n",
            "200:\tlearn: 93442.7128085\ttotal: 7.34s\tremaining: 29.2s\n",
            "201:\tlearn: 93434.6854188\ttotal: 7.37s\tremaining: 29.1s\n",
            "202:\tlearn: 93375.9078013\ttotal: 7.41s\tremaining: 29.1s\n",
            "203:\tlearn: 93338.8649208\ttotal: 7.45s\tremaining: 29.1s\n",
            "204:\tlearn: 93283.2990665\ttotal: 7.48s\tremaining: 29s\n",
            "205:\tlearn: 93225.7955694\ttotal: 7.52s\tremaining: 29s\n",
            "206:\tlearn: 93153.3977192\ttotal: 7.55s\tremaining: 28.9s\n",
            "207:\tlearn: 93099.4379955\ttotal: 7.58s\tremaining: 28.9s\n",
            "208:\tlearn: 93050.4876131\ttotal: 7.62s\tremaining: 28.8s\n",
            "209:\tlearn: 93028.9795692\ttotal: 7.65s\tremaining: 28.8s\n",
            "210:\tlearn: 93027.0255894\ttotal: 7.68s\tremaining: 28.7s\n",
            "211:\tlearn: 92966.8015706\ttotal: 7.72s\tremaining: 28.7s\n",
            "212:\tlearn: 92896.2263674\ttotal: 7.75s\tremaining: 28.6s\n",
            "213:\tlearn: 92786.5458540\ttotal: 7.79s\tremaining: 28.6s\n",
            "214:\tlearn: 92751.4181667\ttotal: 7.83s\tremaining: 28.6s\n",
            "215:\tlearn: 92671.9311344\ttotal: 7.87s\tremaining: 28.6s\n",
            "216:\tlearn: 92669.2594673\ttotal: 7.9s\tremaining: 28.5s\n",
            "217:\tlearn: 92633.9629770\ttotal: 7.93s\tremaining: 28.4s\n",
            "218:\tlearn: 92611.8660850\ttotal: 7.96s\tremaining: 28.4s\n",
            "219:\tlearn: 92577.3342982\ttotal: 7.99s\tremaining: 28.3s\n",
            "220:\tlearn: 92575.5154629\ttotal: 8.02s\tremaining: 28.3s\n",
            "221:\tlearn: 92531.3203156\ttotal: 8.05s\tremaining: 28.2s\n",
            "222:\tlearn: 92510.7560470\ttotal: 8.08s\tremaining: 28.2s\n",
            "223:\tlearn: 92452.1266979\ttotal: 8.11s\tremaining: 28.1s\n",
            "224:\tlearn: 92381.7548331\ttotal: 8.14s\tremaining: 28.1s\n",
            "225:\tlearn: 92299.8405296\ttotal: 8.18s\tremaining: 28s\n",
            "226:\tlearn: 92231.9102878\ttotal: 8.22s\tremaining: 28s\n",
            "227:\tlearn: 92183.1190468\ttotal: 8.25s\tremaining: 27.9s\n",
            "228:\tlearn: 92134.3991242\ttotal: 8.29s\tremaining: 27.9s\n",
            "229:\tlearn: 92031.6974121\ttotal: 8.32s\tremaining: 27.9s\n",
            "230:\tlearn: 92006.9396736\ttotal: 8.36s\tremaining: 27.8s\n",
            "231:\tlearn: 91920.7422253\ttotal: 8.4s\tremaining: 27.8s\n",
            "232:\tlearn: 91866.9932155\ttotal: 8.43s\tremaining: 27.8s\n",
            "233:\tlearn: 91837.8035115\ttotal: 8.46s\tremaining: 27.7s\n",
            "234:\tlearn: 91802.0983631\ttotal: 8.5s\tremaining: 27.7s\n",
            "235:\tlearn: 91714.7048390\ttotal: 8.54s\tremaining: 27.7s\n",
            "236:\tlearn: 91648.8332721\ttotal: 8.58s\tremaining: 27.6s\n",
            "237:\tlearn: 91620.6847249\ttotal: 8.61s\tremaining: 27.6s\n",
            "238:\tlearn: 91548.3837215\ttotal: 8.65s\tremaining: 27.5s\n",
            "239:\tlearn: 91474.8169018\ttotal: 8.68s\tremaining: 27.5s\n",
            "240:\tlearn: 91473.2813368\ttotal: 8.7s\tremaining: 27.4s\n",
            "241:\tlearn: 91435.1853062\ttotal: 8.74s\tremaining: 27.4s\n",
            "242:\tlearn: 91338.1311440\ttotal: 8.78s\tremaining: 27.3s\n",
            "243:\tlearn: 91297.2954218\ttotal: 8.81s\tremaining: 27.3s\n",
            "244:\tlearn: 91292.7042316\ttotal: 8.85s\tremaining: 27.3s\n",
            "245:\tlearn: 91210.7401515\ttotal: 8.88s\tremaining: 27.2s\n",
            "246:\tlearn: 91135.2982684\ttotal: 8.92s\tremaining: 27.2s\n",
            "247:\tlearn: 91048.5505965\ttotal: 8.97s\tremaining: 27.2s\n",
            "248:\tlearn: 91001.0024574\ttotal: 9s\tremaining: 27.1s\n",
            "249:\tlearn: 90946.6234239\ttotal: 9.03s\tremaining: 27.1s\n",
            "250:\tlearn: 90922.1965837\ttotal: 9.06s\tremaining: 27s\n",
            "251:\tlearn: 90875.2111880\ttotal: 9.09s\tremaining: 27s\n",
            "252:\tlearn: 90850.8467341\ttotal: 9.13s\tremaining: 27s\n",
            "253:\tlearn: 90785.8126980\ttotal: 9.16s\tremaining: 26.9s\n",
            "254:\tlearn: 90738.4266898\ttotal: 9.2s\tremaining: 26.9s\n",
            "255:\tlearn: 90670.8774074\ttotal: 9.23s\tremaining: 26.8s\n",
            "256:\tlearn: 90600.6174890\ttotal: 9.28s\tremaining: 26.8s\n",
            "257:\tlearn: 90549.4803068\ttotal: 9.32s\tremaining: 26.8s\n",
            "258:\tlearn: 90501.8327322\ttotal: 9.35s\tremaining: 26.8s\n",
            "259:\tlearn: 90437.0905337\ttotal: 9.39s\tremaining: 26.7s\n",
            "260:\tlearn: 90391.6498854\ttotal: 9.43s\tremaining: 26.7s\n",
            "261:\tlearn: 90359.9748473\ttotal: 9.46s\tremaining: 26.7s\n",
            "262:\tlearn: 90276.7880001\ttotal: 9.5s\tremaining: 26.6s\n",
            "263:\tlearn: 90254.7995655\ttotal: 9.54s\tremaining: 26.6s\n",
            "264:\tlearn: 90212.7435308\ttotal: 9.57s\tremaining: 26.6s\n",
            "265:\tlearn: 90185.6679560\ttotal: 9.61s\tremaining: 26.5s\n",
            "266:\tlearn: 90154.6891200\ttotal: 9.64s\tremaining: 26.5s\n",
            "267:\tlearn: 90074.9340694\ttotal: 9.67s\tremaining: 26.4s\n",
            "268:\tlearn: 90050.4805101\ttotal: 9.7s\tremaining: 26.4s\n",
            "269:\tlearn: 90015.1760160\ttotal: 9.73s\tremaining: 26.3s\n",
            "270:\tlearn: 89968.0909667\ttotal: 9.76s\tremaining: 26.3s\n",
            "271:\tlearn: 89898.4534224\ttotal: 9.81s\tremaining: 26.3s\n",
            "272:\tlearn: 89837.7848529\ttotal: 9.85s\tremaining: 26.2s\n",
            "273:\tlearn: 89794.8160794\ttotal: 9.88s\tremaining: 26.2s\n",
            "274:\tlearn: 89766.2243421\ttotal: 9.91s\tremaining: 26.1s\n",
            "275:\tlearn: 89721.6926707\ttotal: 9.95s\tremaining: 26.1s\n",
            "276:\tlearn: 89644.6599409\ttotal: 9.98s\tremaining: 26.1s\n",
            "277:\tlearn: 89574.1100382\ttotal: 10s\tremaining: 26.1s\n",
            "278:\tlearn: 89521.1541518\ttotal: 10.1s\tremaining: 26.1s\n",
            "279:\tlearn: 89505.7604628\ttotal: 10.1s\tremaining: 26s\n",
            "280:\tlearn: 89487.7772227\ttotal: 10.2s\tremaining: 26s\n",
            "281:\tlearn: 89464.3487281\ttotal: 10.2s\tremaining: 25.9s\n",
            "282:\tlearn: 89442.9170010\ttotal: 10.2s\tremaining: 25.9s\n",
            "283:\tlearn: 89377.9560793\ttotal: 10.3s\tremaining: 25.9s\n",
            "284:\tlearn: 89346.5741949\ttotal: 10.3s\tremaining: 25.9s\n",
            "285:\tlearn: 89291.8266259\ttotal: 10.3s\tremaining: 25.8s\n",
            "286:\tlearn: 89264.7989092\ttotal: 10.4s\tremaining: 25.8s\n",
            "287:\tlearn: 89216.0253552\ttotal: 10.4s\tremaining: 25.7s\n",
            "288:\tlearn: 89191.0095537\ttotal: 10.4s\tremaining: 25.7s\n",
            "289:\tlearn: 89189.7229419\ttotal: 10.5s\tremaining: 25.6s\n",
            "290:\tlearn: 89166.5119458\ttotal: 10.5s\tremaining: 25.6s\n",
            "291:\tlearn: 89125.8072559\ttotal: 10.5s\tremaining: 25.6s\n",
            "292:\tlearn: 89062.7132957\ttotal: 10.6s\tremaining: 25.6s\n",
            "293:\tlearn: 89016.4886582\ttotal: 10.6s\tremaining: 25.5s\n",
            "294:\tlearn: 88996.8370455\ttotal: 10.7s\tremaining: 25.5s\n",
            "295:\tlearn: 88977.0022512\ttotal: 10.7s\tremaining: 25.4s\n",
            "296:\tlearn: 88957.6661286\ttotal: 10.7s\tremaining: 25.4s\n",
            "297:\tlearn: 88902.7558017\ttotal: 10.8s\tremaining: 25.3s\n",
            "298:\tlearn: 88873.5145508\ttotal: 10.8s\tremaining: 25.3s\n",
            "299:\tlearn: 88822.9115472\ttotal: 10.8s\tremaining: 25.3s\n",
            "300:\tlearn: 88782.9299048\ttotal: 10.9s\tremaining: 25.3s\n",
            "301:\tlearn: 88725.8218214\ttotal: 10.9s\tremaining: 25.2s\n",
            "302:\tlearn: 88711.9056734\ttotal: 11s\tremaining: 25.2s\n",
            "303:\tlearn: 88700.2808138\ttotal: 11s\tremaining: 25.1s\n",
            "304:\tlearn: 88677.9256196\ttotal: 11s\tremaining: 25.1s\n",
            "305:\tlearn: 88591.5581119\ttotal: 11s\tremaining: 25.1s\n",
            "306:\tlearn: 88590.0735067\ttotal: 11.1s\tremaining: 25s\n",
            "307:\tlearn: 88545.4177424\ttotal: 11.1s\tremaining: 25s\n",
            "308:\tlearn: 88509.6009509\ttotal: 11.1s\tremaining: 24.9s\n",
            "309:\tlearn: 88464.6789068\ttotal: 11.2s\tremaining: 24.9s\n",
            "310:\tlearn: 88429.2450573\ttotal: 11.2s\tremaining: 24.9s\n",
            "311:\tlearn: 88346.0788072\ttotal: 11.3s\tremaining: 24.8s\n",
            "312:\tlearn: 88310.4391560\ttotal: 11.3s\tremaining: 24.8s\n",
            "313:\tlearn: 88288.5500679\ttotal: 11.3s\tremaining: 24.7s\n",
            "314:\tlearn: 88255.8810171\ttotal: 11.4s\tremaining: 24.7s\n",
            "315:\tlearn: 88226.4553295\ttotal: 11.4s\tremaining: 24.7s\n",
            "316:\tlearn: 88178.3224318\ttotal: 11.4s\tremaining: 24.7s\n",
            "317:\tlearn: 88164.2167257\ttotal: 11.5s\tremaining: 24.6s\n",
            "318:\tlearn: 88126.2264058\ttotal: 11.5s\tremaining: 24.6s\n",
            "319:\tlearn: 88054.9248888\ttotal: 11.6s\tremaining: 24.5s\n",
            "320:\tlearn: 88001.5639277\ttotal: 11.6s\tremaining: 24.5s\n",
            "321:\tlearn: 88000.1546226\ttotal: 11.6s\tremaining: 24.5s\n",
            "322:\tlearn: 87947.2202847\ttotal: 11.7s\tremaining: 24.4s\n",
            "323:\tlearn: 87877.0165528\ttotal: 11.7s\tremaining: 24.4s\n",
            "324:\tlearn: 87829.0509215\ttotal: 11.7s\tremaining: 24.4s\n",
            "325:\tlearn: 87790.2717004\ttotal: 11.8s\tremaining: 24.3s\n",
            "326:\tlearn: 87758.7777233\ttotal: 11.8s\tremaining: 24.3s\n",
            "327:\tlearn: 87744.7349983\ttotal: 11.8s\tremaining: 24.3s\n",
            "328:\tlearn: 87722.9666006\ttotal: 11.9s\tremaining: 24.2s\n",
            "329:\tlearn: 87682.2187627\ttotal: 11.9s\tremaining: 24.2s\n",
            "330:\tlearn: 87650.1694841\ttotal: 12s\tremaining: 24.2s\n",
            "331:\tlearn: 87628.4641405\ttotal: 12s\tremaining: 24.1s\n",
            "332:\tlearn: 87603.3933628\ttotal: 12s\tremaining: 24.1s\n",
            "333:\tlearn: 87575.8516910\ttotal: 12.1s\tremaining: 24.1s\n",
            "334:\tlearn: 87534.6620042\ttotal: 12.1s\tremaining: 24s\n",
            "335:\tlearn: 87504.4729855\ttotal: 12.1s\tremaining: 24s\n",
            "336:\tlearn: 87468.9671974\ttotal: 12.2s\tremaining: 23.9s\n",
            "337:\tlearn: 87439.2261314\ttotal: 12.2s\tremaining: 23.9s\n",
            "338:\tlearn: 87340.9572867\ttotal: 12.2s\tremaining: 23.9s\n",
            "339:\tlearn: 87313.5049183\ttotal: 12.3s\tremaining: 23.8s\n",
            "340:\tlearn: 87282.1701584\ttotal: 12.3s\tremaining: 23.8s\n",
            "341:\tlearn: 87211.6728089\ttotal: 12.4s\tremaining: 23.8s\n",
            "342:\tlearn: 87146.5532652\ttotal: 12.4s\tremaining: 23.8s\n",
            "343:\tlearn: 87091.4001117\ttotal: 12.4s\tremaining: 23.7s\n",
            "344:\tlearn: 87029.8770556\ttotal: 12.5s\tremaining: 23.7s\n",
            "345:\tlearn: 87002.2272087\ttotal: 12.5s\tremaining: 23.7s\n",
            "346:\tlearn: 86963.7352278\ttotal: 12.5s\tremaining: 23.6s\n",
            "347:\tlearn: 86923.7631786\ttotal: 12.6s\tremaining: 23.6s\n",
            "348:\tlearn: 86880.8856104\ttotal: 12.6s\tremaining: 23.5s\n",
            "349:\tlearn: 86879.4312336\ttotal: 12.6s\tremaining: 23.5s\n",
            "350:\tlearn: 86832.9225365\ttotal: 12.7s\tremaining: 23.5s\n",
            "351:\tlearn: 86831.7435211\ttotal: 12.7s\tremaining: 23.4s\n",
            "352:\tlearn: 86787.8296916\ttotal: 12.8s\tremaining: 23.4s\n",
            "353:\tlearn: 86785.2818175\ttotal: 12.8s\tremaining: 23.3s\n",
            "354:\tlearn: 86767.8727558\ttotal: 12.8s\tremaining: 23.3s\n",
            "355:\tlearn: 86740.8655706\ttotal: 12.9s\tremaining: 23.3s\n",
            "356:\tlearn: 86719.4714823\ttotal: 12.9s\tremaining: 23.2s\n",
            "357:\tlearn: 86718.3731037\ttotal: 12.9s\tremaining: 23.2s\n",
            "358:\tlearn: 86686.7899840\ttotal: 13s\tremaining: 23.1s\n",
            "359:\tlearn: 86630.7339897\ttotal: 13s\tremaining: 23.1s\n",
            "360:\tlearn: 86607.0365159\ttotal: 13s\tremaining: 23.1s\n",
            "361:\tlearn: 86579.7158627\ttotal: 13.1s\tremaining: 23s\n",
            "362:\tlearn: 86539.3038445\ttotal: 13.1s\tremaining: 23s\n",
            "363:\tlearn: 86517.5520355\ttotal: 13.1s\tremaining: 22.9s\n",
            "364:\tlearn: 86454.2468688\ttotal: 13.2s\tremaining: 22.9s\n",
            "365:\tlearn: 86405.6714905\ttotal: 13.2s\tremaining: 22.9s\n",
            "366:\tlearn: 86362.6452884\ttotal: 13.2s\tremaining: 22.8s\n",
            "367:\tlearn: 86338.0072578\ttotal: 13.3s\tremaining: 22.8s\n",
            "368:\tlearn: 86336.5482599\ttotal: 13.3s\tremaining: 22.8s\n",
            "369:\tlearn: 86324.0259021\ttotal: 13.4s\tremaining: 22.7s\n",
            "370:\tlearn: 86296.5989168\ttotal: 13.4s\tremaining: 22.7s\n",
            "371:\tlearn: 86270.3478348\ttotal: 13.4s\tremaining: 22.7s\n",
            "372:\tlearn: 86225.3265932\ttotal: 13.5s\tremaining: 22.6s\n",
            "373:\tlearn: 86187.8202154\ttotal: 13.5s\tremaining: 22.6s\n",
            "374:\tlearn: 86165.0482181\ttotal: 13.5s\tremaining: 22.5s\n",
            "375:\tlearn: 86163.7683515\ttotal: 13.5s\tremaining: 22.5s\n",
            "376:\tlearn: 86132.3031051\ttotal: 13.6s\tremaining: 22.4s\n",
            "377:\tlearn: 86119.1517267\ttotal: 13.6s\tremaining: 22.4s\n",
            "378:\tlearn: 86096.7203185\ttotal: 13.6s\tremaining: 22.4s\n",
            "379:\tlearn: 86081.2952618\ttotal: 13.7s\tremaining: 22.3s\n",
            "380:\tlearn: 86032.0947797\ttotal: 13.7s\tremaining: 22.3s\n",
            "381:\tlearn: 85986.4301386\ttotal: 13.7s\tremaining: 22.2s\n",
            "382:\tlearn: 85945.6803114\ttotal: 13.8s\tremaining: 22.2s\n",
            "383:\tlearn: 85889.7566380\ttotal: 13.8s\tremaining: 22.2s\n",
            "384:\tlearn: 85878.8351384\ttotal: 13.9s\tremaining: 22.2s\n",
            "385:\tlearn: 85849.0703518\ttotal: 13.9s\tremaining: 22.1s\n",
            "386:\tlearn: 85825.7983356\ttotal: 13.9s\tremaining: 22.1s\n",
            "387:\tlearn: 85800.1636252\ttotal: 14s\tremaining: 22.1s\n",
            "388:\tlearn: 85748.5046119\ttotal: 14s\tremaining: 22s\n",
            "389:\tlearn: 85713.8448562\ttotal: 14.1s\tremaining: 22s\n",
            "390:\tlearn: 85697.1849789\ttotal: 14.1s\tremaining: 21.9s\n",
            "391:\tlearn: 85640.2529827\ttotal: 14.1s\tremaining: 21.9s\n",
            "392:\tlearn: 85599.4385642\ttotal: 14.2s\tremaining: 21.9s\n",
            "393:\tlearn: 85584.9475641\ttotal: 14.2s\tremaining: 21.8s\n",
            "394:\tlearn: 85568.2115627\ttotal: 14.2s\tremaining: 21.8s\n",
            "395:\tlearn: 85539.9624056\ttotal: 14.3s\tremaining: 21.8s\n",
            "396:\tlearn: 85468.1671092\ttotal: 14.3s\tremaining: 21.7s\n",
            "397:\tlearn: 85434.2680356\ttotal: 14.4s\tremaining: 21.7s\n",
            "398:\tlearn: 85378.9498286\ttotal: 14.4s\tremaining: 21.7s\n",
            "399:\tlearn: 85356.2855284\ttotal: 14.4s\tremaining: 21.6s\n",
            "400:\tlearn: 85332.1626695\ttotal: 14.5s\tremaining: 21.6s\n",
            "401:\tlearn: 85265.5700192\ttotal: 14.5s\tremaining: 21.6s\n",
            "402:\tlearn: 85264.3484627\ttotal: 14.5s\tremaining: 21.5s\n",
            "403:\tlearn: 85228.2435042\ttotal: 14.6s\tremaining: 21.5s\n",
            "404:\tlearn: 85198.8529986\ttotal: 14.6s\tremaining: 21.4s\n",
            "405:\tlearn: 85179.0301156\ttotal: 14.6s\tremaining: 21.4s\n",
            "406:\tlearn: 85153.2987577\ttotal: 14.7s\tremaining: 21.4s\n",
            "407:\tlearn: 85101.0701100\ttotal: 14.7s\tremaining: 21.3s\n",
            "408:\tlearn: 85062.4151926\ttotal: 14.7s\tremaining: 21.3s\n",
            "409:\tlearn: 85050.7890599\ttotal: 14.8s\tremaining: 21.3s\n",
            "410:\tlearn: 85043.4634000\ttotal: 14.8s\tremaining: 21.2s\n",
            "411:\tlearn: 85002.0750211\ttotal: 14.9s\tremaining: 21.2s\n",
            "412:\tlearn: 85000.9029879\ttotal: 14.9s\tremaining: 21.2s\n",
            "413:\tlearn: 84980.7395691\ttotal: 14.9s\tremaining: 21.1s\n",
            "414:\tlearn: 84948.5865151\ttotal: 15s\tremaining: 21.1s\n",
            "415:\tlearn: 84929.2425824\ttotal: 15s\tremaining: 21s\n",
            "416:\tlearn: 84914.0861060\ttotal: 15s\tremaining: 21s\n",
            "417:\tlearn: 84894.2229417\ttotal: 15.1s\tremaining: 21s\n",
            "418:\tlearn: 84892.9919984\ttotal: 15.1s\tremaining: 20.9s\n",
            "419:\tlearn: 84865.7160728\ttotal: 15.1s\tremaining: 20.9s\n",
            "420:\tlearn: 84779.5520226\ttotal: 15.2s\tremaining: 20.9s\n",
            "421:\tlearn: 84778.8272412\ttotal: 15.2s\tremaining: 20.8s\n",
            "422:\tlearn: 84753.0351534\ttotal: 15.2s\tremaining: 20.8s\n",
            "423:\tlearn: 84716.5361592\ttotal: 15.3s\tremaining: 20.7s\n",
            "424:\tlearn: 84680.6118474\ttotal: 15.3s\tremaining: 20.7s\n",
            "425:\tlearn: 84650.3502315\ttotal: 15.3s\tremaining: 20.7s\n",
            "426:\tlearn: 84635.6971362\ttotal: 15.4s\tremaining: 20.6s\n",
            "427:\tlearn: 84604.9436212\ttotal: 15.4s\tremaining: 20.6s\n",
            "428:\tlearn: 84604.2481570\ttotal: 15.4s\tremaining: 20.5s\n",
            "429:\tlearn: 84583.0732204\ttotal: 15.5s\tremaining: 20.5s\n",
            "430:\tlearn: 84523.1323935\ttotal: 15.5s\tremaining: 20.5s\n",
            "431:\tlearn: 84493.9333677\ttotal: 15.6s\tremaining: 20.4s\n",
            "432:\tlearn: 84474.4638507\ttotal: 15.6s\tremaining: 20.4s\n",
            "433:\tlearn: 84457.2592056\ttotal: 15.6s\tremaining: 20.4s\n",
            "434:\tlearn: 84407.2978488\ttotal: 15.7s\tremaining: 20.3s\n",
            "435:\tlearn: 84369.5216170\ttotal: 15.7s\tremaining: 20.3s\n",
            "436:\tlearn: 84310.2656627\ttotal: 15.7s\tremaining: 20.3s\n",
            "437:\tlearn: 84269.0538629\ttotal: 15.8s\tremaining: 20.2s\n",
            "438:\tlearn: 84245.4637258\ttotal: 15.8s\tremaining: 20.2s\n",
            "439:\tlearn: 84237.8266593\ttotal: 15.8s\tremaining: 20.2s\n",
            "440:\tlearn: 84185.0417598\ttotal: 15.9s\tremaining: 20.1s\n",
            "441:\tlearn: 84159.2902771\ttotal: 15.9s\tremaining: 20.1s\n",
            "442:\tlearn: 84138.7893035\ttotal: 15.9s\tremaining: 20.1s\n",
            "443:\tlearn: 84116.1061120\ttotal: 16s\tremaining: 20s\n",
            "444:\tlearn: 84076.8829308\ttotal: 16s\tremaining: 20s\n",
            "445:\tlearn: 84057.3967802\ttotal: 16.1s\tremaining: 19.9s\n",
            "446:\tlearn: 84041.7606459\ttotal: 16.1s\tremaining: 19.9s\n",
            "447:\tlearn: 84007.3012750\ttotal: 16.1s\tremaining: 19.9s\n",
            "448:\tlearn: 83966.4307099\ttotal: 16.2s\tremaining: 19.9s\n",
            "449:\tlearn: 83964.9584942\ttotal: 16.2s\tremaining: 19.8s\n",
            "450:\tlearn: 83936.9851193\ttotal: 16.2s\tremaining: 19.8s\n",
            "451:\tlearn: 83912.2685678\ttotal: 16.3s\tremaining: 19.7s\n",
            "452:\tlearn: 83891.8599664\ttotal: 16.3s\tremaining: 19.7s\n",
            "453:\tlearn: 83847.1378112\ttotal: 16.4s\tremaining: 19.7s\n",
            "454:\tlearn: 83832.7995029\ttotal: 16.4s\tremaining: 19.6s\n",
            "455:\tlearn: 83810.9896086\ttotal: 16.4s\tremaining: 19.6s\n",
            "456:\tlearn: 83796.4835117\ttotal: 16.5s\tremaining: 19.5s\n",
            "457:\tlearn: 83768.1479626\ttotal: 16.5s\tremaining: 19.5s\n",
            "458:\tlearn: 83732.9374754\ttotal: 16.5s\tremaining: 19.5s\n",
            "459:\tlearn: 83713.3327220\ttotal: 16.6s\tremaining: 19.4s\n",
            "460:\tlearn: 83684.3664226\ttotal: 16.6s\tremaining: 19.4s\n",
            "461:\tlearn: 83665.4207433\ttotal: 16.6s\tremaining: 19.4s\n",
            "462:\tlearn: 83655.7836610\ttotal: 16.7s\tremaining: 19.3s\n",
            "463:\tlearn: 83625.4793344\ttotal: 16.7s\tremaining: 19.3s\n",
            "464:\tlearn: 83609.4345703\ttotal: 16.7s\tremaining: 19.3s\n",
            "465:\tlearn: 83583.5239840\ttotal: 16.8s\tremaining: 19.2s\n",
            "466:\tlearn: 83534.5595001\ttotal: 16.8s\tremaining: 19.2s\n",
            "467:\tlearn: 83513.4764502\ttotal: 16.9s\tremaining: 19.2s\n",
            "468:\tlearn: 83499.7684473\ttotal: 16.9s\tremaining: 19.1s\n",
            "469:\tlearn: 83461.4032382\ttotal: 16.9s\tremaining: 19.1s\n",
            "470:\tlearn: 83455.7751864\ttotal: 17s\tremaining: 19s\n",
            "471:\tlearn: 83447.9956650\ttotal: 17s\tremaining: 19s\n",
            "472:\tlearn: 83424.4791595\ttotal: 17s\tremaining: 19s\n",
            "473:\tlearn: 83408.4856244\ttotal: 17.1s\tremaining: 18.9s\n",
            "474:\tlearn: 83401.7233623\ttotal: 17.1s\tremaining: 18.9s\n",
            "475:\tlearn: 83396.6057145\ttotal: 17.1s\tremaining: 18.9s\n",
            "476:\tlearn: 83359.1131268\ttotal: 17.2s\tremaining: 18.8s\n",
            "477:\tlearn: 83318.3907605\ttotal: 17.2s\tremaining: 18.8s\n",
            "478:\tlearn: 83313.3388440\ttotal: 17.2s\tremaining: 18.8s\n",
            "479:\tlearn: 83292.5618542\ttotal: 17.3s\tremaining: 18.7s\n",
            "480:\tlearn: 83286.0525936\ttotal: 17.3s\tremaining: 18.7s\n",
            "481:\tlearn: 83249.7522284\ttotal: 17.4s\tremaining: 18.7s\n",
            "482:\tlearn: 83222.4550362\ttotal: 17.4s\tremaining: 18.6s\n",
            "483:\tlearn: 83180.5228092\ttotal: 17.4s\tremaining: 18.6s\n",
            "484:\tlearn: 83140.8364959\ttotal: 17.5s\tremaining: 18.6s\n",
            "485:\tlearn: 83134.9452633\ttotal: 17.5s\tremaining: 18.5s\n",
            "486:\tlearn: 83108.5679257\ttotal: 17.5s\tremaining: 18.5s\n",
            "487:\tlearn: 83073.2353195\ttotal: 17.6s\tremaining: 18.4s\n",
            "488:\tlearn: 83048.8828195\ttotal: 17.6s\tremaining: 18.4s\n",
            "489:\tlearn: 83007.7888465\ttotal: 17.6s\tremaining: 18.4s\n",
            "490:\tlearn: 82991.3604302\ttotal: 17.7s\tremaining: 18.3s\n",
            "491:\tlearn: 82960.0082798\ttotal: 17.7s\tremaining: 18.3s\n",
            "492:\tlearn: 82924.6064623\ttotal: 17.8s\tremaining: 18.3s\n",
            "493:\tlearn: 82884.2295198\ttotal: 17.8s\tremaining: 18.2s\n",
            "494:\tlearn: 82854.6905673\ttotal: 17.8s\tremaining: 18.2s\n",
            "495:\tlearn: 82842.2434952\ttotal: 17.9s\tremaining: 18.2s\n",
            "496:\tlearn: 82778.9298015\ttotal: 17.9s\tremaining: 18.1s\n",
            "497:\tlearn: 82746.8323214\ttotal: 18s\tremaining: 18.1s\n",
            "498:\tlearn: 82717.4733056\ttotal: 18s\tremaining: 18.1s\n",
            "499:\tlearn: 82667.0077653\ttotal: 18s\tremaining: 18s\n",
            "500:\tlearn: 82652.8786062\ttotal: 18.1s\tremaining: 18s\n",
            "501:\tlearn: 82628.5785927\ttotal: 18.1s\tremaining: 18s\n",
            "502:\tlearn: 82596.0560101\ttotal: 18.2s\tremaining: 17.9s\n",
            "503:\tlearn: 82562.8419994\ttotal: 18.2s\tremaining: 17.9s\n",
            "504:\tlearn: 82557.8004366\ttotal: 18.2s\tremaining: 17.9s\n",
            "505:\tlearn: 82537.1453792\ttotal: 18.3s\tremaining: 17.8s\n",
            "506:\tlearn: 82492.2654897\ttotal: 18.3s\tremaining: 17.8s\n",
            "507:\tlearn: 82469.6450930\ttotal: 18.3s\tremaining: 17.8s\n",
            "508:\tlearn: 82438.8534438\ttotal: 18.4s\tremaining: 17.7s\n",
            "509:\tlearn: 82413.5725399\ttotal: 18.4s\tremaining: 17.7s\n",
            "510:\tlearn: 82400.5603365\ttotal: 18.4s\tremaining: 17.7s\n",
            "511:\tlearn: 82359.4556772\ttotal: 18.5s\tremaining: 17.6s\n",
            "512:\tlearn: 82316.7314041\ttotal: 18.5s\tremaining: 17.6s\n",
            "513:\tlearn: 82285.7512717\ttotal: 18.6s\tremaining: 17.5s\n",
            "514:\tlearn: 82250.0859363\ttotal: 18.6s\tremaining: 17.5s\n",
            "515:\tlearn: 82203.8250605\ttotal: 18.6s\tremaining: 17.5s\n",
            "516:\tlearn: 82176.6226627\ttotal: 18.7s\tremaining: 17.5s\n",
            "517:\tlearn: 82146.6175032\ttotal: 18.7s\tremaining: 17.4s\n",
            "518:\tlearn: 82126.2651295\ttotal: 18.8s\tremaining: 17.4s\n",
            "519:\tlearn: 82099.3254147\ttotal: 18.8s\tremaining: 17.3s\n",
            "520:\tlearn: 82076.4709604\ttotal: 18.8s\tremaining: 17.3s\n",
            "521:\tlearn: 82033.1819409\ttotal: 18.9s\tremaining: 17.3s\n",
            "522:\tlearn: 82000.9379841\ttotal: 18.9s\tremaining: 17.2s\n",
            "523:\tlearn: 81994.3520023\ttotal: 18.9s\tremaining: 17.2s\n",
            "524:\tlearn: 81945.2573327\ttotal: 19s\tremaining: 17.2s\n",
            "525:\tlearn: 81900.8327994\ttotal: 19s\tremaining: 17.1s\n",
            "526:\tlearn: 81887.9555299\ttotal: 19.1s\tremaining: 17.1s\n",
            "527:\tlearn: 81864.0007281\ttotal: 19.1s\tremaining: 17.1s\n",
            "528:\tlearn: 81822.0220679\ttotal: 19.1s\tremaining: 17s\n",
            "529:\tlearn: 81803.4954242\ttotal: 19.2s\tremaining: 17s\n",
            "530:\tlearn: 81792.6535930\ttotal: 19.2s\tremaining: 17s\n",
            "531:\tlearn: 81777.3563494\ttotal: 19.2s\tremaining: 16.9s\n",
            "532:\tlearn: 81736.8950445\ttotal: 19.3s\tremaining: 16.9s\n",
            "533:\tlearn: 81730.6559471\ttotal: 19.3s\tremaining: 16.9s\n",
            "534:\tlearn: 81707.5153678\ttotal: 19.4s\tremaining: 16.8s\n",
            "535:\tlearn: 81689.9034615\ttotal: 19.4s\tremaining: 16.8s\n",
            "536:\tlearn: 81654.0066456\ttotal: 19.4s\tremaining: 16.7s\n",
            "537:\tlearn: 81623.0153752\ttotal: 19.5s\tremaining: 16.7s\n",
            "538:\tlearn: 81600.1993009\ttotal: 19.5s\tremaining: 16.7s\n",
            "539:\tlearn: 81561.8441355\ttotal: 19.5s\tremaining: 16.6s\n",
            "540:\tlearn: 81540.5682306\ttotal: 19.6s\tremaining: 16.6s\n",
            "541:\tlearn: 81516.4406065\ttotal: 19.6s\tremaining: 16.6s\n",
            "542:\tlearn: 81468.3968444\ttotal: 19.7s\tremaining: 16.5s\n",
            "543:\tlearn: 81445.7702066\ttotal: 19.7s\tremaining: 16.5s\n",
            "544:\tlearn: 81417.7787011\ttotal: 19.7s\tremaining: 16.5s\n",
            "545:\tlearn: 81386.4996193\ttotal: 19.8s\tremaining: 16.4s\n",
            "546:\tlearn: 81367.3280565\ttotal: 19.8s\tremaining: 16.4s\n",
            "547:\tlearn: 81363.7713764\ttotal: 19.8s\tremaining: 16.4s\n",
            "548:\tlearn: 81343.0857928\ttotal: 19.9s\tremaining: 16.3s\n",
            "549:\tlearn: 81320.8599940\ttotal: 19.9s\tremaining: 16.3s\n",
            "550:\tlearn: 81301.7364348\ttotal: 20s\tremaining: 16.3s\n",
            "551:\tlearn: 81275.8002569\ttotal: 20s\tremaining: 16.2s\n",
            "552:\tlearn: 81244.4865960\ttotal: 20s\tremaining: 16.2s\n",
            "553:\tlearn: 81226.0594087\ttotal: 20.1s\tremaining: 16.2s\n",
            "554:\tlearn: 81221.0472121\ttotal: 20.1s\tremaining: 16.1s\n",
            "555:\tlearn: 81179.3223663\ttotal: 20.1s\tremaining: 16.1s\n",
            "556:\tlearn: 81154.6372979\ttotal: 20.2s\tremaining: 16.1s\n",
            "557:\tlearn: 81152.7149114\ttotal: 20.2s\tremaining: 16s\n",
            "558:\tlearn: 81148.8702058\ttotal: 20.2s\tremaining: 16s\n",
            "559:\tlearn: 81140.0024296\ttotal: 20.3s\tremaining: 15.9s\n",
            "560:\tlearn: 81104.3166992\ttotal: 20.3s\tremaining: 15.9s\n",
            "561:\tlearn: 81096.4328352\ttotal: 20.3s\tremaining: 15.9s\n",
            "562:\tlearn: 81072.8593089\ttotal: 20.4s\tremaining: 15.8s\n",
            "563:\tlearn: 81033.9088176\ttotal: 20.5s\tremaining: 15.8s\n",
            "564:\tlearn: 81025.9073236\ttotal: 20.5s\tremaining: 15.8s\n",
            "565:\tlearn: 81019.0165291\ttotal: 20.5s\tremaining: 15.7s\n",
            "566:\tlearn: 80998.6455426\ttotal: 20.5s\tremaining: 15.7s\n",
            "567:\tlearn: 80986.1227529\ttotal: 20.6s\tremaining: 15.7s\n",
            "568:\tlearn: 80978.1337243\ttotal: 20.6s\tremaining: 15.6s\n",
            "569:\tlearn: 80949.6897545\ttotal: 20.7s\tremaining: 15.6s\n",
            "570:\tlearn: 80933.3279185\ttotal: 20.7s\tremaining: 15.5s\n",
            "571:\tlearn: 80910.7719434\ttotal: 20.7s\tremaining: 15.5s\n",
            "572:\tlearn: 80888.2430718\ttotal: 20.8s\tremaining: 15.5s\n",
            "573:\tlearn: 80855.7069824\ttotal: 20.8s\tremaining: 15.4s\n",
            "574:\tlearn: 80842.9018559\ttotal: 20.8s\tremaining: 15.4s\n",
            "575:\tlearn: 80815.2025755\ttotal: 20.9s\tremaining: 15.4s\n",
            "576:\tlearn: 80788.4571440\ttotal: 20.9s\tremaining: 15.3s\n",
            "577:\tlearn: 80748.3977381\ttotal: 21s\tremaining: 15.3s\n",
            "578:\tlearn: 80732.7160116\ttotal: 21s\tremaining: 15.3s\n",
            "579:\tlearn: 80696.0141716\ttotal: 21s\tremaining: 15.2s\n",
            "580:\tlearn: 80653.0603241\ttotal: 21.1s\tremaining: 15.2s\n",
            "581:\tlearn: 80628.5681082\ttotal: 21.1s\tremaining: 15.2s\n",
            "582:\tlearn: 80589.5426837\ttotal: 21.2s\tremaining: 15.1s\n",
            "583:\tlearn: 80588.7076397\ttotal: 21.2s\tremaining: 15.1s\n",
            "584:\tlearn: 80562.2578079\ttotal: 21.2s\tremaining: 15.1s\n",
            "585:\tlearn: 80552.9729167\ttotal: 21.3s\tremaining: 15s\n",
            "586:\tlearn: 80528.2199191\ttotal: 21.3s\tremaining: 15s\n",
            "587:\tlearn: 80508.0871939\ttotal: 21.3s\tremaining: 14.9s\n",
            "588:\tlearn: 80491.2503914\ttotal: 21.4s\tremaining: 14.9s\n",
            "589:\tlearn: 80452.0086678\ttotal: 21.4s\tremaining: 14.9s\n",
            "590:\tlearn: 80418.8679661\ttotal: 21.4s\tremaining: 14.8s\n",
            "591:\tlearn: 80404.1443879\ttotal: 21.5s\tremaining: 14.8s\n",
            "592:\tlearn: 80391.6830339\ttotal: 21.5s\tremaining: 14.8s\n",
            "593:\tlearn: 80359.6071781\ttotal: 21.6s\tremaining: 14.7s\n",
            "594:\tlearn: 80338.5400743\ttotal: 21.6s\tremaining: 14.7s\n",
            "595:\tlearn: 80316.1915602\ttotal: 21.6s\tremaining: 14.7s\n",
            "596:\tlearn: 80286.4495038\ttotal: 21.7s\tremaining: 14.6s\n",
            "597:\tlearn: 80250.5945061\ttotal: 21.7s\tremaining: 14.6s\n",
            "598:\tlearn: 80236.3897192\ttotal: 21.7s\tremaining: 14.6s\n",
            "599:\tlearn: 80208.4449549\ttotal: 21.8s\tremaining: 14.5s\n",
            "600:\tlearn: 80186.1393158\ttotal: 21.8s\tremaining: 14.5s\n",
            "601:\tlearn: 80155.4179964\ttotal: 21.9s\tremaining: 14.4s\n",
            "602:\tlearn: 80142.6248250\ttotal: 21.9s\tremaining: 14.4s\n",
            "603:\tlearn: 80090.7022077\ttotal: 21.9s\tremaining: 14.4s\n",
            "604:\tlearn: 80065.9574394\ttotal: 22s\tremaining: 14.3s\n",
            "605:\tlearn: 80046.2100649\ttotal: 22s\tremaining: 14.3s\n",
            "606:\tlearn: 80020.5661774\ttotal: 22s\tremaining: 14.3s\n",
            "607:\tlearn: 80001.5759987\ttotal: 22.1s\tremaining: 14.2s\n",
            "608:\tlearn: 80000.9181541\ttotal: 22.1s\tremaining: 14.2s\n",
            "609:\tlearn: 79997.6067462\ttotal: 22.1s\tremaining: 14.2s\n",
            "610:\tlearn: 79978.7736584\ttotal: 22.2s\tremaining: 14.1s\n",
            "611:\tlearn: 79942.0477256\ttotal: 22.2s\tremaining: 14.1s\n",
            "612:\tlearn: 79934.5824230\ttotal: 22.3s\tremaining: 14.1s\n",
            "613:\tlearn: 79905.6425135\ttotal: 22.3s\tremaining: 14s\n",
            "614:\tlearn: 79889.1480378\ttotal: 22.3s\tremaining: 14s\n",
            "615:\tlearn: 79882.1279197\ttotal: 22.4s\tremaining: 13.9s\n",
            "616:\tlearn: 79871.5379452\ttotal: 22.4s\tremaining: 13.9s\n",
            "617:\tlearn: 79843.1174819\ttotal: 22.4s\tremaining: 13.9s\n",
            "618:\tlearn: 79813.3025172\ttotal: 22.5s\tremaining: 13.8s\n",
            "619:\tlearn: 79793.9328669\ttotal: 22.5s\tremaining: 13.8s\n",
            "620:\tlearn: 79788.4511026\ttotal: 22.5s\tremaining: 13.8s\n",
            "621:\tlearn: 79774.9480059\ttotal: 22.6s\tremaining: 13.7s\n",
            "622:\tlearn: 79748.2587950\ttotal: 22.6s\tremaining: 13.7s\n",
            "623:\tlearn: 79730.9557423\ttotal: 22.7s\tremaining: 13.7s\n",
            "624:\tlearn: 79703.1691653\ttotal: 22.7s\tremaining: 13.6s\n",
            "625:\tlearn: 79693.1979709\ttotal: 22.7s\tremaining: 13.6s\n",
            "626:\tlearn: 79676.1088429\ttotal: 22.8s\tremaining: 13.5s\n",
            "627:\tlearn: 79655.0931070\ttotal: 22.8s\tremaining: 13.5s\n",
            "628:\tlearn: 79626.7007556\ttotal: 22.8s\tremaining: 13.5s\n",
            "629:\tlearn: 79616.7082493\ttotal: 22.9s\tremaining: 13.4s\n",
            "630:\tlearn: 79588.3703429\ttotal: 22.9s\tremaining: 13.4s\n",
            "631:\tlearn: 79577.1365451\ttotal: 23s\tremaining: 13.4s\n",
            "632:\tlearn: 79555.3840406\ttotal: 23s\tremaining: 13.3s\n",
            "633:\tlearn: 79528.3589293\ttotal: 23s\tremaining: 13.3s\n",
            "634:\tlearn: 79496.4012097\ttotal: 23.1s\tremaining: 13.3s\n",
            "635:\tlearn: 79485.0255338\ttotal: 23.1s\tremaining: 13.2s\n",
            "636:\tlearn: 79467.4879449\ttotal: 23.2s\tremaining: 13.2s\n",
            "637:\tlearn: 79436.8946108\ttotal: 23.2s\tremaining: 13.2s\n",
            "638:\tlearn: 79412.8935003\ttotal: 23.2s\tremaining: 13.1s\n",
            "639:\tlearn: 79395.1793507\ttotal: 23.3s\tremaining: 13.1s\n",
            "640:\tlearn: 79364.7575500\ttotal: 23.3s\tremaining: 13.1s\n",
            "641:\tlearn: 79335.0478352\ttotal: 23.4s\tremaining: 13s\n",
            "642:\tlearn: 79315.0288157\ttotal: 23.4s\tremaining: 13s\n",
            "643:\tlearn: 79299.2937992\ttotal: 23.4s\tremaining: 12.9s\n",
            "644:\tlearn: 79269.0169369\ttotal: 23.5s\tremaining: 12.9s\n",
            "645:\tlearn: 79231.3897020\ttotal: 23.5s\tremaining: 12.9s\n",
            "646:\tlearn: 79205.0893591\ttotal: 23.5s\tremaining: 12.8s\n",
            "647:\tlearn: 79166.8001106\ttotal: 23.6s\tremaining: 12.8s\n",
            "648:\tlearn: 79160.6881040\ttotal: 23.6s\tremaining: 12.8s\n",
            "649:\tlearn: 79149.5627991\ttotal: 23.6s\tremaining: 12.7s\n",
            "650:\tlearn: 79127.7884835\ttotal: 23.7s\tremaining: 12.7s\n",
            "651:\tlearn: 79110.9201941\ttotal: 23.7s\tremaining: 12.7s\n",
            "652:\tlearn: 79082.9081038\ttotal: 23.7s\tremaining: 12.6s\n",
            "653:\tlearn: 79058.0366509\ttotal: 23.8s\tremaining: 12.6s\n",
            "654:\tlearn: 79020.8255091\ttotal: 23.8s\tremaining: 12.5s\n",
            "655:\tlearn: 79001.9316201\ttotal: 23.9s\tremaining: 12.5s\n",
            "656:\tlearn: 78985.1988990\ttotal: 23.9s\tremaining: 12.5s\n",
            "657:\tlearn: 78967.7092549\ttotal: 23.9s\tremaining: 12.4s\n",
            "658:\tlearn: 78954.3171031\ttotal: 24s\tremaining: 12.4s\n",
            "659:\tlearn: 78943.1356058\ttotal: 24s\tremaining: 12.4s\n",
            "660:\tlearn: 78908.0232849\ttotal: 24.1s\tremaining: 12.3s\n",
            "661:\tlearn: 78896.7798192\ttotal: 24.1s\tremaining: 12.3s\n",
            "662:\tlearn: 78893.9101376\ttotal: 24.1s\tremaining: 12.3s\n",
            "663:\tlearn: 78872.8137270\ttotal: 24.2s\tremaining: 12.2s\n",
            "664:\tlearn: 78838.7592529\ttotal: 24.2s\tremaining: 12.2s\n",
            "665:\tlearn: 78812.4497351\ttotal: 24.2s\tremaining: 12.2s\n",
            "666:\tlearn: 78768.0409608\ttotal: 24.3s\tremaining: 12.1s\n",
            "667:\tlearn: 78742.9862605\ttotal: 24.3s\tremaining: 12.1s\n",
            "668:\tlearn: 78721.0115781\ttotal: 24.4s\tremaining: 12.1s\n",
            "669:\tlearn: 78711.9032254\ttotal: 24.4s\tremaining: 12s\n",
            "670:\tlearn: 78694.5518984\ttotal: 24.4s\tremaining: 12s\n",
            "671:\tlearn: 78679.7339487\ttotal: 24.5s\tremaining: 11.9s\n",
            "672:\tlearn: 78669.6671978\ttotal: 24.5s\tremaining: 11.9s\n",
            "673:\tlearn: 78638.1730700\ttotal: 24.5s\tremaining: 11.9s\n",
            "674:\tlearn: 78624.3637287\ttotal: 24.6s\tremaining: 11.8s\n",
            "675:\tlearn: 78612.6382626\ttotal: 24.6s\tremaining: 11.8s\n",
            "676:\tlearn: 78588.5639505\ttotal: 24.6s\tremaining: 11.8s\n",
            "677:\tlearn: 78582.7795761\ttotal: 24.7s\tremaining: 11.7s\n",
            "678:\tlearn: 78566.6695169\ttotal: 24.7s\tremaining: 11.7s\n",
            "679:\tlearn: 78553.1540702\ttotal: 24.7s\tremaining: 11.6s\n",
            "680:\tlearn: 78540.5381008\ttotal: 24.8s\tremaining: 11.6s\n",
            "681:\tlearn: 78517.6993718\ttotal: 24.8s\tremaining: 11.6s\n",
            "682:\tlearn: 78472.0700508\ttotal: 24.9s\tremaining: 11.5s\n",
            "683:\tlearn: 78455.5368826\ttotal: 24.9s\tremaining: 11.5s\n",
            "684:\tlearn: 78455.0493264\ttotal: 24.9s\tremaining: 11.5s\n",
            "685:\tlearn: 78437.7062419\ttotal: 25s\tremaining: 11.4s\n",
            "686:\tlearn: 78417.4417221\ttotal: 25s\tremaining: 11.4s\n",
            "687:\tlearn: 78398.9696788\ttotal: 25s\tremaining: 11.4s\n",
            "688:\tlearn: 78387.0027831\ttotal: 25.1s\tremaining: 11.3s\n",
            "689:\tlearn: 78359.5860895\ttotal: 25.1s\tremaining: 11.3s\n",
            "690:\tlearn: 78345.3694105\ttotal: 25.2s\tremaining: 11.2s\n",
            "691:\tlearn: 78319.2653389\ttotal: 25.2s\tremaining: 11.2s\n",
            "692:\tlearn: 78318.6430793\ttotal: 25.2s\tremaining: 11.2s\n",
            "693:\tlearn: 78297.0308206\ttotal: 25.3s\tremaining: 11.1s\n",
            "694:\tlearn: 78258.7371336\ttotal: 25.3s\tremaining: 11.1s\n",
            "695:\tlearn: 78238.1374913\ttotal: 25.3s\tremaining: 11.1s\n",
            "696:\tlearn: 78223.2497668\ttotal: 25.4s\tremaining: 11s\n",
            "697:\tlearn: 78193.5952732\ttotal: 25.4s\tremaining: 11s\n",
            "698:\tlearn: 78185.4785639\ttotal: 25.4s\tremaining: 10.9s\n",
            "699:\tlearn: 78179.0884377\ttotal: 25.5s\tremaining: 10.9s\n",
            "700:\tlearn: 78153.1323941\ttotal: 25.5s\tremaining: 10.9s\n",
            "701:\tlearn: 78148.1715645\ttotal: 25.5s\tremaining: 10.8s\n",
            "702:\tlearn: 78146.0425682\ttotal: 25.6s\tremaining: 10.8s\n",
            "703:\tlearn: 78145.3388928\ttotal: 25.6s\tremaining: 10.8s\n",
            "704:\tlearn: 78125.2850009\ttotal: 25.6s\tremaining: 10.7s\n",
            "705:\tlearn: 78114.5094288\ttotal: 25.7s\tremaining: 10.7s\n",
            "706:\tlearn: 78084.6072545\ttotal: 25.7s\tremaining: 10.6s\n",
            "707:\tlearn: 78070.7553292\ttotal: 25.7s\tremaining: 10.6s\n",
            "708:\tlearn: 78069.9845861\ttotal: 25.7s\tremaining: 10.6s\n",
            "709:\tlearn: 78034.8577203\ttotal: 25.8s\tremaining: 10.5s\n",
            "710:\tlearn: 78030.1687375\ttotal: 25.8s\tremaining: 10.5s\n",
            "711:\tlearn: 78018.3737696\ttotal: 25.9s\tremaining: 10.5s\n",
            "712:\tlearn: 77995.9320117\ttotal: 25.9s\tremaining: 10.4s\n",
            "713:\tlearn: 77974.0542094\ttotal: 26s\tremaining: 10.4s\n",
            "714:\tlearn: 77966.5579480\ttotal: 26s\tremaining: 10.4s\n",
            "715:\tlearn: 77958.9952902\ttotal: 26s\tremaining: 10.3s\n",
            "716:\tlearn: 77949.7323743\ttotal: 26.1s\tremaining: 10.3s\n",
            "717:\tlearn: 77931.0881920\ttotal: 26.1s\tremaining: 10.2s\n",
            "718:\tlearn: 77925.4570554\ttotal: 26.1s\tremaining: 10.2s\n",
            "719:\tlearn: 77917.0522036\ttotal: 26.1s\tremaining: 10.2s\n",
            "720:\tlearn: 77905.8330000\ttotal: 26.2s\tremaining: 10.1s\n",
            "721:\tlearn: 77876.9261654\ttotal: 26.2s\tremaining: 10.1s\n",
            "722:\tlearn: 77865.0402135\ttotal: 26.3s\tremaining: 10.1s\n",
            "723:\tlearn: 77849.8030556\ttotal: 26.3s\tremaining: 10s\n",
            "724:\tlearn: 77832.6317809\ttotal: 26.3s\tremaining: 9.99s\n",
            "725:\tlearn: 77795.7120095\ttotal: 26.4s\tremaining: 9.95s\n",
            "726:\tlearn: 77784.7997121\ttotal: 26.4s\tremaining: 9.91s\n",
            "727:\tlearn: 77772.1335292\ttotal: 26.4s\tremaining: 9.88s\n",
            "728:\tlearn: 77751.8846355\ttotal: 26.5s\tremaining: 9.85s\n",
            "729:\tlearn: 77729.6870274\ttotal: 26.5s\tremaining: 9.81s\n",
            "730:\tlearn: 77702.6844921\ttotal: 26.6s\tremaining: 9.78s\n",
            "731:\tlearn: 77700.3542636\ttotal: 26.6s\tremaining: 9.74s\n",
            "732:\tlearn: 77686.9947113\ttotal: 26.6s\tremaining: 9.7s\n",
            "733:\tlearn: 77677.5554174\ttotal: 26.7s\tremaining: 9.66s\n",
            "734:\tlearn: 77644.1556788\ttotal: 26.7s\tremaining: 9.63s\n",
            "735:\tlearn: 77628.6169019\ttotal: 26.8s\tremaining: 9.6s\n",
            "736:\tlearn: 77623.8497118\ttotal: 26.8s\tremaining: 9.56s\n",
            "737:\tlearn: 77612.4145548\ttotal: 26.8s\tremaining: 9.52s\n",
            "738:\tlearn: 77598.2998807\ttotal: 26.8s\tremaining: 9.48s\n",
            "739:\tlearn: 77571.1456317\ttotal: 26.9s\tremaining: 9.45s\n",
            "740:\tlearn: 77559.4479653\ttotal: 26.9s\tremaining: 9.41s\n",
            "741:\tlearn: 77558.9390676\ttotal: 27s\tremaining: 9.37s\n",
            "742:\tlearn: 77554.5549960\ttotal: 27s\tremaining: 9.33s\n",
            "743:\tlearn: 77554.0811446\ttotal: 27s\tremaining: 9.29s\n",
            "744:\tlearn: 77546.7565873\ttotal: 27s\tremaining: 9.26s\n",
            "745:\tlearn: 77531.8499609\ttotal: 27.1s\tremaining: 9.22s\n",
            "746:\tlearn: 77531.3818431\ttotal: 27.1s\tremaining: 9.18s\n",
            "747:\tlearn: 77518.5143081\ttotal: 27.1s\tremaining: 9.14s\n",
            "748:\tlearn: 77507.9276708\ttotal: 27.2s\tremaining: 9.11s\n",
            "749:\tlearn: 77507.4983909\ttotal: 27.2s\tremaining: 9.07s\n",
            "750:\tlearn: 77480.4846713\ttotal: 27.2s\tremaining: 9.03s\n",
            "751:\tlearn: 77461.6561211\ttotal: 27.3s\tremaining: 8.99s\n",
            "752:\tlearn: 77439.7564623\ttotal: 27.3s\tremaining: 8.96s\n",
            "753:\tlearn: 77432.6070903\ttotal: 27.3s\tremaining: 8.92s\n",
            "754:\tlearn: 77413.3362023\ttotal: 27.4s\tremaining: 8.88s\n",
            "755:\tlearn: 77398.8210795\ttotal: 27.4s\tremaining: 8.85s\n",
            "756:\tlearn: 77385.3080057\ttotal: 27.5s\tremaining: 8.81s\n",
            "757:\tlearn: 77384.8852547\ttotal: 27.5s\tremaining: 8.77s\n",
            "758:\tlearn: 77343.6505774\ttotal: 27.5s\tremaining: 8.74s\n",
            "759:\tlearn: 77316.2604920\ttotal: 27.6s\tremaining: 8.7s\n",
            "760:\tlearn: 77293.3780335\ttotal: 27.6s\tremaining: 8.66s\n",
            "761:\tlearn: 77269.2478248\ttotal: 27.6s\tremaining: 8.63s\n",
            "762:\tlearn: 77247.3704181\ttotal: 27.7s\tremaining: 8.59s\n",
            "763:\tlearn: 77238.5301726\ttotal: 27.7s\tremaining: 8.55s\n",
            "764:\tlearn: 77238.1143603\ttotal: 27.7s\tremaining: 8.52s\n",
            "765:\tlearn: 77219.3295504\ttotal: 27.8s\tremaining: 8.48s\n",
            "766:\tlearn: 77208.3058721\ttotal: 27.8s\tremaining: 8.44s\n",
            "767:\tlearn: 77193.5012743\ttotal: 27.8s\tremaining: 8.41s\n",
            "768:\tlearn: 77166.3071492\ttotal: 27.9s\tremaining: 8.37s\n",
            "769:\tlearn: 77165.8720287\ttotal: 27.9s\tremaining: 8.33s\n",
            "770:\tlearn: 77144.2688217\ttotal: 27.9s\tremaining: 8.3s\n",
            "771:\tlearn: 77129.7023603\ttotal: 28s\tremaining: 8.26s\n",
            "772:\tlearn: 77129.2500701\ttotal: 28s\tremaining: 8.22s\n",
            "773:\tlearn: 77117.1291662\ttotal: 28s\tremaining: 8.18s\n",
            "774:\tlearn: 77093.3658742\ttotal: 28.1s\tremaining: 8.15s\n",
            "775:\tlearn: 77065.1455209\ttotal: 28.1s\tremaining: 8.11s\n",
            "776:\tlearn: 77051.3365383\ttotal: 28.2s\tremaining: 8.08s\n",
            "777:\tlearn: 77039.1280430\ttotal: 28.2s\tremaining: 8.04s\n",
            "778:\tlearn: 77020.5637431\ttotal: 28.2s\tremaining: 8.01s\n",
            "779:\tlearn: 77005.8558134\ttotal: 28.3s\tremaining: 7.97s\n",
            "780:\tlearn: 76984.7940043\ttotal: 28.3s\tremaining: 7.94s\n",
            "781:\tlearn: 76965.1270860\ttotal: 28.3s\tremaining: 7.9s\n",
            "782:\tlearn: 76940.6506245\ttotal: 28.4s\tremaining: 7.86s\n",
            "783:\tlearn: 76929.3859944\ttotal: 28.4s\tremaining: 7.83s\n",
            "784:\tlearn: 76908.1323941\ttotal: 28.5s\tremaining: 7.79s\n",
            "785:\tlearn: 76897.8593377\ttotal: 28.5s\tremaining: 7.76s\n",
            "786:\tlearn: 76887.3838362\ttotal: 28.5s\tremaining: 7.72s\n",
            "787:\tlearn: 76871.1941058\ttotal: 28.6s\tremaining: 7.68s\n",
            "788:\tlearn: 76850.4570610\ttotal: 28.6s\tremaining: 7.65s\n",
            "789:\tlearn: 76840.5257825\ttotal: 28.6s\tremaining: 7.61s\n",
            "790:\tlearn: 76819.8054364\ttotal: 28.7s\tremaining: 7.57s\n",
            "791:\tlearn: 76802.9384317\ttotal: 28.7s\tremaining: 7.54s\n",
            "792:\tlearn: 76779.2001604\ttotal: 28.7s\tremaining: 7.5s\n",
            "793:\tlearn: 76760.2388761\ttotal: 28.8s\tremaining: 7.46s\n",
            "794:\tlearn: 76748.2397544\ttotal: 28.8s\tremaining: 7.43s\n",
            "795:\tlearn: 76744.3099158\ttotal: 28.8s\tremaining: 7.39s\n",
            "796:\tlearn: 76743.8857809\ttotal: 28.9s\tremaining: 7.35s\n",
            "797:\tlearn: 76717.1370740\ttotal: 28.9s\tremaining: 7.32s\n",
            "798:\tlearn: 76690.7125762\ttotal: 28.9s\tremaining: 7.28s\n",
            "799:\tlearn: 76679.9154585\ttotal: 29s\tremaining: 7.24s\n",
            "800:\tlearn: 76658.9918355\ttotal: 29s\tremaining: 7.21s\n",
            "801:\tlearn: 76655.2582553\ttotal: 29.1s\tremaining: 7.17s\n",
            "802:\tlearn: 76615.3100031\ttotal: 29.1s\tremaining: 7.14s\n",
            "803:\tlearn: 76586.6223137\ttotal: 29.1s\tremaining: 7.1s\n",
            "804:\tlearn: 76563.6143002\ttotal: 29.2s\tremaining: 7.07s\n",
            "805:\tlearn: 76561.6300905\ttotal: 29.2s\tremaining: 7.03s\n",
            "806:\tlearn: 76548.0499174\ttotal: 29.2s\tremaining: 6.99s\n",
            "807:\tlearn: 76534.9415858\ttotal: 29.3s\tremaining: 6.96s\n",
            "808:\tlearn: 76523.1673895\ttotal: 29.3s\tremaining: 6.92s\n",
            "809:\tlearn: 76498.7287236\ttotal: 29.3s\tremaining: 6.88s\n",
            "810:\tlearn: 76498.3260544\ttotal: 29.4s\tremaining: 6.85s\n",
            "811:\tlearn: 76486.8078518\ttotal: 29.4s\tremaining: 6.81s\n",
            "812:\tlearn: 76453.6414363\ttotal: 29.5s\tremaining: 6.77s\n",
            "813:\tlearn: 76433.1123671\ttotal: 29.5s\tremaining: 6.74s\n",
            "814:\tlearn: 76396.4521184\ttotal: 29.5s\tremaining: 6.7s\n",
            "815:\tlearn: 76374.9456454\ttotal: 29.6s\tremaining: 6.67s\n",
            "816:\tlearn: 76353.0239823\ttotal: 29.6s\tremaining: 6.63s\n",
            "817:\tlearn: 76314.2355710\ttotal: 29.6s\tremaining: 6.59s\n",
            "818:\tlearn: 76298.3995104\ttotal: 29.7s\tremaining: 6.56s\n",
            "819:\tlearn: 76282.8121855\ttotal: 29.7s\tremaining: 6.52s\n",
            "820:\tlearn: 76260.2539475\ttotal: 29.7s\tremaining: 6.49s\n",
            "821:\tlearn: 76245.2432004\ttotal: 29.8s\tremaining: 6.45s\n",
            "822:\tlearn: 76222.9478208\ttotal: 29.8s\tremaining: 6.41s\n",
            "823:\tlearn: 76217.8334369\ttotal: 29.8s\tremaining: 6.37s\n",
            "824:\tlearn: 76208.2384978\ttotal: 29.9s\tremaining: 6.34s\n",
            "825:\tlearn: 76198.9894461\ttotal: 29.9s\tremaining: 6.3s\n",
            "826:\tlearn: 76171.0236585\ttotal: 30s\tremaining: 6.27s\n",
            "827:\tlearn: 76151.3601568\ttotal: 30s\tremaining: 6.23s\n",
            "828:\tlearn: 76127.9202268\ttotal: 30s\tremaining: 6.19s\n",
            "829:\tlearn: 76113.3129003\ttotal: 30.1s\tremaining: 6.16s\n",
            "830:\tlearn: 76089.9162021\ttotal: 30.1s\tremaining: 6.12s\n",
            "831:\tlearn: 76080.5376284\ttotal: 30.1s\tremaining: 6.08s\n",
            "832:\tlearn: 76065.7006605\ttotal: 30.2s\tremaining: 6.05s\n",
            "833:\tlearn: 76042.2467824\ttotal: 30.2s\tremaining: 6.01s\n",
            "834:\tlearn: 76029.4702382\ttotal: 30.2s\tremaining: 5.98s\n",
            "835:\tlearn: 76018.6937895\ttotal: 30.3s\tremaining: 5.94s\n",
            "836:\tlearn: 75998.9181927\ttotal: 30.3s\tremaining: 5.9s\n",
            "837:\tlearn: 75972.0326888\ttotal: 30.4s\tremaining: 5.87s\n",
            "838:\tlearn: 75940.1886449\ttotal: 30.4s\tremaining: 5.83s\n",
            "839:\tlearn: 75924.4785312\ttotal: 30.4s\tremaining: 5.8s\n",
            "840:\tlearn: 75919.6642689\ttotal: 30.5s\tremaining: 5.76s\n",
            "841:\tlearn: 75908.0586532\ttotal: 30.5s\tremaining: 5.72s\n",
            "842:\tlearn: 75891.6361947\ttotal: 30.5s\tremaining: 5.69s\n",
            "843:\tlearn: 75876.8070957\ttotal: 30.6s\tremaining: 5.65s\n",
            "844:\tlearn: 75865.9544432\ttotal: 30.6s\tremaining: 5.61s\n",
            "845:\tlearn: 75862.2122519\ttotal: 30.6s\tremaining: 5.58s\n",
            "846:\tlearn: 75844.0612076\ttotal: 30.7s\tremaining: 5.54s\n",
            "847:\tlearn: 75824.2975118\ttotal: 30.7s\tremaining: 5.5s\n",
            "848:\tlearn: 75808.7997978\ttotal: 30.7s\tremaining: 5.47s\n",
            "849:\tlearn: 75803.6936985\ttotal: 30.8s\tremaining: 5.43s\n",
            "850:\tlearn: 75797.4565954\ttotal: 30.8s\tremaining: 5.39s\n",
            "851:\tlearn: 75780.9387089\ttotal: 30.8s\tremaining: 5.36s\n",
            "852:\tlearn: 75758.4019308\ttotal: 30.9s\tremaining: 5.32s\n",
            "853:\tlearn: 75742.1388189\ttotal: 30.9s\tremaining: 5.29s\n",
            "854:\tlearn: 75732.2754413\ttotal: 31s\tremaining: 5.25s\n",
            "855:\tlearn: 75709.0429848\ttotal: 31s\tremaining: 5.21s\n",
            "856:\tlearn: 75692.1646660\ttotal: 31s\tremaining: 5.18s\n",
            "857:\tlearn: 75666.0645409\ttotal: 31.1s\tremaining: 5.14s\n",
            "858:\tlearn: 75647.4972398\ttotal: 31.1s\tremaining: 5.11s\n",
            "859:\tlearn: 75637.2871049\ttotal: 31.1s\tremaining: 5.07s\n",
            "860:\tlearn: 75618.3305371\ttotal: 31.2s\tremaining: 5.03s\n",
            "861:\tlearn: 75607.0796288\ttotal: 31.2s\tremaining: 5s\n",
            "862:\tlearn: 75593.5160870\ttotal: 31.2s\tremaining: 4.96s\n",
            "863:\tlearn: 75581.8424410\ttotal: 31.3s\tremaining: 4.92s\n",
            "864:\tlearn: 75563.0746249\ttotal: 31.3s\tremaining: 4.89s\n",
            "865:\tlearn: 75537.6251785\ttotal: 31.4s\tremaining: 4.85s\n",
            "866:\tlearn: 75532.6894899\ttotal: 31.4s\tremaining: 4.82s\n",
            "867:\tlearn: 75514.6789211\ttotal: 31.4s\tremaining: 4.78s\n",
            "868:\tlearn: 75489.8311157\ttotal: 31.5s\tremaining: 4.75s\n",
            "869:\tlearn: 75484.7727825\ttotal: 31.5s\tremaining: 4.71s\n",
            "870:\tlearn: 75480.5769162\ttotal: 31.6s\tremaining: 4.68s\n",
            "871:\tlearn: 75462.7994562\ttotal: 31.6s\tremaining: 4.64s\n",
            "872:\tlearn: 75454.1748067\ttotal: 31.6s\tremaining: 4.6s\n",
            "873:\tlearn: 75431.8717279\ttotal: 31.7s\tremaining: 4.57s\n",
            "874:\tlearn: 75400.9707312\ttotal: 31.7s\tremaining: 4.53s\n",
            "875:\tlearn: 75377.4970981\ttotal: 31.8s\tremaining: 4.5s\n",
            "876:\tlearn: 75351.1410356\ttotal: 31.8s\tremaining: 4.46s\n",
            "877:\tlearn: 75343.2935779\ttotal: 31.8s\tremaining: 4.42s\n",
            "878:\tlearn: 75332.5811240\ttotal: 31.9s\tremaining: 4.39s\n",
            "879:\tlearn: 75327.8475596\ttotal: 31.9s\tremaining: 4.35s\n",
            "880:\tlearn: 75313.7172575\ttotal: 32s\tremaining: 4.32s\n",
            "881:\tlearn: 75300.5870327\ttotal: 32s\tremaining: 4.28s\n",
            "882:\tlearn: 75281.6895262\ttotal: 32s\tremaining: 4.24s\n",
            "883:\tlearn: 75280.7261805\ttotal: 32.1s\tremaining: 4.21s\n",
            "884:\tlearn: 75269.0895384\ttotal: 32.1s\tremaining: 4.17s\n",
            "885:\tlearn: 75264.1997938\ttotal: 32.1s\tremaining: 4.13s\n",
            "886:\tlearn: 75258.8205731\ttotal: 32.2s\tremaining: 4.1s\n",
            "887:\tlearn: 75239.2501236\ttotal: 32.2s\tremaining: 4.06s\n",
            "888:\tlearn: 75211.8591772\ttotal: 32.2s\tremaining: 4.03s\n",
            "889:\tlearn: 75202.2532270\ttotal: 32.3s\tremaining: 3.99s\n",
            "890:\tlearn: 75194.0664966\ttotal: 32.3s\tremaining: 3.95s\n",
            "891:\tlearn: 75171.0105242\ttotal: 32.3s\tremaining: 3.92s\n",
            "892:\tlearn: 75154.7097972\ttotal: 32.4s\tremaining: 3.88s\n",
            "893:\tlearn: 75142.7406850\ttotal: 32.4s\tremaining: 3.84s\n",
            "894:\tlearn: 75129.0086613\ttotal: 32.5s\tremaining: 3.81s\n",
            "895:\tlearn: 75114.0878939\ttotal: 32.5s\tremaining: 3.77s\n",
            "896:\tlearn: 75096.2449079\ttotal: 32.5s\tremaining: 3.74s\n",
            "897:\tlearn: 75066.8704572\ttotal: 32.6s\tremaining: 3.7s\n",
            "898:\tlearn: 75044.0934293\ttotal: 32.6s\tremaining: 3.66s\n",
            "899:\tlearn: 75025.6824522\ttotal: 32.7s\tremaining: 3.63s\n",
            "900:\tlearn: 75009.9042651\ttotal: 32.7s\tremaining: 3.59s\n",
            "901:\tlearn: 74991.3422010\ttotal: 32.7s\tremaining: 3.56s\n",
            "902:\tlearn: 74974.8746666\ttotal: 32.8s\tremaining: 3.52s\n",
            "903:\tlearn: 74959.7135552\ttotal: 32.8s\tremaining: 3.48s\n",
            "904:\tlearn: 74940.8217316\ttotal: 32.8s\tremaining: 3.45s\n",
            "905:\tlearn: 74925.5518995\ttotal: 32.9s\tremaining: 3.41s\n",
            "906:\tlearn: 74910.0845575\ttotal: 32.9s\tremaining: 3.38s\n",
            "907:\tlearn: 74894.8966137\ttotal: 33s\tremaining: 3.34s\n",
            "908:\tlearn: 74874.4458534\ttotal: 33s\tremaining: 3.3s\n",
            "909:\tlearn: 74856.4569348\ttotal: 33s\tremaining: 3.27s\n",
            "910:\tlearn: 74835.3518136\ttotal: 33.1s\tremaining: 3.23s\n",
            "911:\tlearn: 74833.8417255\ttotal: 33.1s\tremaining: 3.19s\n",
            "912:\tlearn: 74817.9464805\ttotal: 33.1s\tremaining: 3.16s\n",
            "913:\tlearn: 74806.4597033\ttotal: 33.2s\tremaining: 3.12s\n",
            "914:\tlearn: 74788.7149342\ttotal: 33.2s\tremaining: 3.08s\n",
            "915:\tlearn: 74777.5892410\ttotal: 33.2s\tremaining: 3.05s\n",
            "916:\tlearn: 74771.8458426\ttotal: 33.3s\tremaining: 3.01s\n",
            "917:\tlearn: 74763.7359974\ttotal: 33.3s\tremaining: 2.97s\n",
            "918:\tlearn: 74760.8065915\ttotal: 33.3s\tremaining: 2.94s\n",
            "919:\tlearn: 74736.2739770\ttotal: 33.4s\tremaining: 2.9s\n",
            "920:\tlearn: 74731.7450057\ttotal: 33.4s\tremaining: 2.87s\n",
            "921:\tlearn: 74721.0729970\ttotal: 33.4s\tremaining: 2.83s\n",
            "922:\tlearn: 74712.8323119\ttotal: 33.5s\tremaining: 2.79s\n",
            "923:\tlearn: 74708.5399909\ttotal: 33.5s\tremaining: 2.75s\n",
            "924:\tlearn: 74704.3380829\ttotal: 33.5s\tremaining: 2.72s\n",
            "925:\tlearn: 74703.1202048\ttotal: 33.6s\tremaining: 2.68s\n",
            "926:\tlearn: 74692.8805555\ttotal: 33.6s\tremaining: 2.65s\n",
            "927:\tlearn: 74679.2548312\ttotal: 33.6s\tremaining: 2.61s\n",
            "928:\tlearn: 74674.5846389\ttotal: 33.7s\tremaining: 2.57s\n",
            "929:\tlearn: 74657.8713771\ttotal: 33.7s\tremaining: 2.54s\n",
            "930:\tlearn: 74642.7265316\ttotal: 33.7s\tremaining: 2.5s\n",
            "931:\tlearn: 74622.9919295\ttotal: 33.8s\tremaining: 2.46s\n",
            "932:\tlearn: 74610.4578960\ttotal: 33.8s\tremaining: 2.43s\n",
            "933:\tlearn: 74592.4747432\ttotal: 33.8s\tremaining: 2.39s\n",
            "934:\tlearn: 74590.4454244\ttotal: 33.9s\tremaining: 2.35s\n",
            "935:\tlearn: 74567.1489455\ttotal: 33.9s\tremaining: 2.32s\n",
            "936:\tlearn: 74549.5260683\ttotal: 34s\tremaining: 2.28s\n",
            "937:\tlearn: 74536.5130680\ttotal: 34s\tremaining: 2.25s\n",
            "938:\tlearn: 74515.9596027\ttotal: 34s\tremaining: 2.21s\n",
            "939:\tlearn: 74498.7452749\ttotal: 34.1s\tremaining: 2.17s\n",
            "940:\tlearn: 74488.6190152\ttotal: 34.1s\tremaining: 2.14s\n",
            "941:\tlearn: 74471.0671739\ttotal: 34.1s\tremaining: 2.1s\n",
            "942:\tlearn: 74462.1479419\ttotal: 34.2s\tremaining: 2.06s\n",
            "943:\tlearn: 74453.4767330\ttotal: 34.2s\tremaining: 2.03s\n",
            "944:\tlearn: 74438.2262564\ttotal: 34.3s\tremaining: 1.99s\n",
            "945:\tlearn: 74415.2273233\ttotal: 34.3s\tremaining: 1.96s\n",
            "946:\tlearn: 74397.1150558\ttotal: 34.3s\tremaining: 1.92s\n",
            "947:\tlearn: 74376.4899810\ttotal: 34.4s\tremaining: 1.89s\n",
            "948:\tlearn: 74365.7689277\ttotal: 34.4s\tremaining: 1.85s\n",
            "949:\tlearn: 74357.9073170\ttotal: 34.4s\tremaining: 1.81s\n",
            "950:\tlearn: 74340.1298997\ttotal: 34.5s\tremaining: 1.78s\n",
            "951:\tlearn: 74320.6841404\ttotal: 34.5s\tremaining: 1.74s\n",
            "952:\tlearn: 74303.8832543\ttotal: 34.6s\tremaining: 1.7s\n",
            "953:\tlearn: 74280.7161462\ttotal: 34.6s\tremaining: 1.67s\n",
            "954:\tlearn: 74268.3333030\ttotal: 34.6s\tremaining: 1.63s\n",
            "955:\tlearn: 74253.4304212\ttotal: 34.7s\tremaining: 1.6s\n",
            "956:\tlearn: 74247.0608684\ttotal: 34.7s\tremaining: 1.56s\n",
            "957:\tlearn: 74243.0771717\ttotal: 34.7s\tremaining: 1.52s\n",
            "958:\tlearn: 74231.7391813\ttotal: 34.8s\tremaining: 1.49s\n",
            "959:\tlearn: 74217.6616090\ttotal: 34.8s\tremaining: 1.45s\n",
            "960:\tlearn: 74207.1090403\ttotal: 34.9s\tremaining: 1.41s\n",
            "961:\tlearn: 74192.5324760\ttotal: 34.9s\tremaining: 1.38s\n",
            "962:\tlearn: 74179.9778625\ttotal: 34.9s\tremaining: 1.34s\n",
            "963:\tlearn: 74159.6104184\ttotal: 35s\tremaining: 1.31s\n",
            "964:\tlearn: 74143.7589916\ttotal: 35s\tremaining: 1.27s\n",
            "965:\tlearn: 74133.8131565\ttotal: 35s\tremaining: 1.23s\n",
            "966:\tlearn: 74117.7379873\ttotal: 35.1s\tremaining: 1.2s\n",
            "967:\tlearn: 74106.9767019\ttotal: 35.1s\tremaining: 1.16s\n",
            "968:\tlearn: 74103.9673334\ttotal: 35.2s\tremaining: 1.12s\n",
            "969:\tlearn: 74088.6237785\ttotal: 35.2s\tremaining: 1.09s\n",
            "970:\tlearn: 74072.8534869\ttotal: 35.2s\tremaining: 1.05s\n",
            "971:\tlearn: 74070.3992326\ttotal: 35.3s\tremaining: 1.01s\n",
            "972:\tlearn: 74050.8799898\ttotal: 35.3s\tremaining: 980ms\n",
            "973:\tlearn: 74029.7837113\ttotal: 35.4s\tremaining: 944ms\n",
            "974:\tlearn: 74022.7128727\ttotal: 35.4s\tremaining: 907ms\n",
            "975:\tlearn: 74012.4577357\ttotal: 35.4s\tremaining: 871ms\n",
            "976:\tlearn: 74006.0042297\ttotal: 35.5s\tremaining: 835ms\n",
            "977:\tlearn: 73991.0684976\ttotal: 35.5s\tremaining: 798ms\n",
            "978:\tlearn: 73986.7425787\ttotal: 35.5s\tremaining: 762ms\n",
            "979:\tlearn: 73972.0233763\ttotal: 35.6s\tremaining: 726ms\n",
            "980:\tlearn: 73971.6901680\ttotal: 35.6s\tremaining: 689ms\n",
            "981:\tlearn: 73948.8084257\ttotal: 35.6s\tremaining: 653ms\n",
            "982:\tlearn: 73931.3688513\ttotal: 35.7s\tremaining: 617ms\n",
            "983:\tlearn: 73922.3902857\ttotal: 35.7s\tremaining: 581ms\n",
            "984:\tlearn: 73909.2109878\ttotal: 35.8s\tremaining: 544ms\n",
            "985:\tlearn: 73903.7882520\ttotal: 35.8s\tremaining: 508ms\n",
            "986:\tlearn: 73896.7491200\ttotal: 35.8s\tremaining: 472ms\n",
            "987:\tlearn: 73888.0625598\ttotal: 35.9s\tremaining: 436ms\n",
            "988:\tlearn: 73884.0450719\ttotal: 35.9s\tremaining: 399ms\n",
            "989:\tlearn: 73866.1635496\ttotal: 35.9s\tremaining: 363ms\n",
            "990:\tlearn: 73838.1577284\ttotal: 36s\tremaining: 327ms\n",
            "991:\tlearn: 73823.8871329\ttotal: 36s\tremaining: 290ms\n",
            "992:\tlearn: 73807.3709864\ttotal: 36s\tremaining: 254ms\n",
            "993:\tlearn: 73792.6146954\ttotal: 36.1s\tremaining: 218ms\n",
            "994:\tlearn: 73786.4363718\ttotal: 36.1s\tremaining: 181ms\n",
            "995:\tlearn: 73777.3767205\ttotal: 36.1s\tremaining: 145ms\n",
            "996:\tlearn: 73764.6583627\ttotal: 36.2s\tremaining: 109ms\n",
            "997:\tlearn: 73755.5056189\ttotal: 36.2s\tremaining: 72.6ms\n",
            "998:\tlearn: 73741.0467464\ttotal: 36.3s\tremaining: 36.3ms\n",
            "999:\tlearn: 73737.5618825\ttotal: 36.3s\tremaining: 0us\n"
          ]
        },
        {
          "output_type": "execute_result",
          "data": {
            "text/plain": [
              "<catboost.core.CatBoostRegressor at 0x7ff8a57ca050>"
            ]
          },
          "metadata": {},
          "execution_count": 169
        }
      ]
    },
    {
      "cell_type": "code",
      "metadata": {
        "id": "sVfpWrqTHMtg"
      },
      "source": [
        "import typing"
      ],
      "execution_count": 170,
      "outputs": []
    },
    {
      "cell_type": "code",
      "metadata": {
        "id": "YOupUc24HqjH"
      },
      "source": [
        "rmse = mean_squared_error(ctb.predict(valid_df), y_valid, squared=False)"
      ],
      "execution_count": 171,
      "outputs": []
    },
    {
      "cell_type": "code",
      "metadata": {
        "colab": {
          "base_uri": "https://localhost:8080/"
        },
        "id": "WPw1n1gbHwRJ",
        "outputId": "1ecc3401-a812-48f5-cc62-d0adcaab6c34"
      },
      "source": [
        "rmse"
      ],
      "execution_count": 172,
      "outputs": [
        {
          "output_type": "execute_result",
          "data": {
            "text/plain": [
              "88816.498269252"
            ]
          },
          "metadata": {},
          "execution_count": 172
        }
      ]
    },
    {
      "cell_type": "code",
      "metadata": {
        "id": "nVs9g5pvHVQs"
      },
      "source": [
        ""
      ],
      "execution_count": 172,
      "outputs": []
    },
    {
      "cell_type": "code",
      "metadata": {
        "id": "LnUcT6Z1Jyx1"
      },
      "source": [
        "import joblib"
      ],
      "execution_count": 173,
      "outputs": []
    },
    {
      "cell_type": "code",
      "metadata": {
        "colab": {
          "base_uri": "https://localhost:8080/"
        },
        "id": "WbLIihnOJ0Tp",
        "outputId": "40ed6027-ae18-4075-a075-d174b33095f9"
      },
      "source": [
        "joblib.dump(ctb,\"ctb.pkl\")#regressor"
      ],
      "execution_count": 174,
      "outputs": [
        {
          "output_type": "execute_result",
          "data": {
            "text/plain": [
              "['ctb.pkl']"
            ]
          },
          "metadata": {},
          "execution_count": 174
        }
      ]
    },
    {
      "cell_type": "code",
      "metadata": {
        "id": "_OtlghmKJ0dU"
      },
      "source": [
        "test_df = pd.read_csv('./drive/MyDrive/test.csv')"
      ],
      "execution_count": 175,
      "outputs": []
    },
    {
      "cell_type": "code",
      "metadata": {
        "id": "pCR-LK7YKRhl"
      },
      "source": [
        "test_df = test_df.drop(['floor'], axis=1)"
      ],
      "execution_count": 176,
      "outputs": []
    },
    {
      "cell_type": "code",
      "metadata": {
        "id": "UOYdogfUL_w-"
      },
      "source": [
        "test_dropped = test_df.drop(features_with_nan, axis = 1)"
      ],
      "execution_count": 177,
      "outputs": []
    },
    {
      "cell_type": "code",
      "metadata": {
        "id": "kNNsMK26Lx1a"
      },
      "source": [
        "test_dropped = test_dropped.drop(cat_features, axis = 1)"
      ],
      "execution_count": 178,
      "outputs": []
    },
    {
      "cell_type": "code",
      "metadata": {
        "id": "mUNqfJewOPvK"
      },
      "source": [
        "diff = []\n",
        "for i in df_dropped.columns:\n",
        "  if i not in test_dropped.columns:\n",
        "    diff.append(i)"
      ],
      "execution_count": 179,
      "outputs": []
    },
    {
      "cell_type": "code",
      "metadata": {
        "colab": {
          "base_uri": "https://localhost:8080/"
        },
        "id": "1ME0RtskO0uB",
        "outputId": "ebd7b862-ac34-42b9-bb9c-171dda3b7d95"
      },
      "source": [
        "diff"
      ],
      "execution_count": 180,
      "outputs": [
        {
          "output_type": "execute_result",
          "data": {
            "text/plain": [
              "[]"
            ]
          },
          "metadata": {},
          "execution_count": 180
        }
      ]
    },
    {
      "cell_type": "code",
      "metadata": {
        "colab": {
          "base_uri": "https://localhost:8080/"
        },
        "id": "fF0FC97cO2Xz",
        "outputId": "de6145fb-8e68-49d0-b85d-01862d9bf2d8"
      },
      "source": [
        "set()"
      ],
      "execution_count": 181,
      "outputs": [
        {
          "output_type": "execute_result",
          "data": {
            "text/plain": [
              "set()"
            ]
          },
          "metadata": {},
          "execution_count": 181
        }
      ]
    },
    {
      "cell_type": "code",
      "metadata": {
        "id": "2nzSjHG8KRtY"
      },
      "source": [
        "test_scaled = scaler.transform(test_dropped)"
      ],
      "execution_count": 182,
      "outputs": []
    },
    {
      "cell_type": "code",
      "metadata": {
        "id": "o-uIkJyRLyC_"
      },
      "source": [
        ""
      ],
      "execution_count": 182,
      "outputs": []
    },
    {
      "cell_type": "markdown",
      "metadata": {
        "id": "J3bywEejRacw"
      },
      "source": [
        "### Нужно будет объединить тест и трэйн"
      ]
    },
    {
      "cell_type": "code",
      "metadata": {
        "id": "kJa2Nw0KRmTV"
      },
      "source": [
        "clust = KMeans()"
      ],
      "execution_count": 187,
      "outputs": []
    },
    {
      "cell_type": "code",
      "metadata": {
        "id": "puOiyt4nLyGW"
      },
      "source": [
        "test_clst = clust.fit_predict(test_scaled)\n"
      ],
      "execution_count": 188,
      "outputs": []
    },
    {
      "cell_type": "code",
      "metadata": {
        "id": "CiHgv0cELyNF"
      },
      "source": [
        "labels = list(set(test_clst))"
      ],
      "execution_count": 189,
      "outputs": []
    },
    {
      "cell_type": "code",
      "metadata": {
        "id": "7rm8Q6U2RuZc"
      },
      "source": [
        "test_df['cluster'] = test_clst"
      ],
      "execution_count": 190,
      "outputs": []
    },
    {
      "cell_type": "code",
      "metadata": {
        "id": "4OvAy_OjRugt"
      },
      "source": [
        "sub_test = test_df[test_df[features_with_nan].isnull()]"
      ],
      "execution_count": 191,
      "outputs": []
    },
    {
      "cell_type": "code",
      "metadata": {
        "colab": {
          "base_uri": "https://localhost:8080/"
        },
        "id": "4EA7AhqDRukE",
        "outputId": "f93b07fd-346b-44ca-8281-5057e18da8e3"
      },
      "source": [
        "for drop in features_nan_num:\n",
        "  sub_test = test_df[test_df[drop].isnull()]\n",
        "  for clust in sub_test.groupby('cluster')['cluster'].unique():\n",
        "    similar_val_list = test_df[X_df['cluster'] == clust[0]][drop]\n",
        "    if len(similar_val_list) > 1:\n",
        "      missed_val = similar_val_list.dropna().mean()\n",
        "      test_df.loc[similar_val_list[similar_val_list.isnull()].index, drop] = missed_val"
      ],
      "execution_count": 192,
      "outputs": [
        {
          "output_type": "stream",
          "name": "stderr",
          "text": [
            "/usr/local/lib/python3.7/dist-packages/ipykernel_launcher.py:4: UserWarning: Boolean Series key will be reindexed to match DataFrame index.\n",
            "  after removing the cwd from sys.path.\n",
            "/usr/local/lib/python3.7/dist-packages/ipykernel_launcher.py:4: UserWarning: Boolean Series key will be reindexed to match DataFrame index.\n",
            "  after removing the cwd from sys.path.\n",
            "/usr/local/lib/python3.7/dist-packages/ipykernel_launcher.py:4: UserWarning: Boolean Series key will be reindexed to match DataFrame index.\n",
            "  after removing the cwd from sys.path.\n",
            "/usr/local/lib/python3.7/dist-packages/ipykernel_launcher.py:4: UserWarning: Boolean Series key will be reindexed to match DataFrame index.\n",
            "  after removing the cwd from sys.path.\n",
            "/usr/local/lib/python3.7/dist-packages/ipykernel_launcher.py:4: UserWarning: Boolean Series key will be reindexed to match DataFrame index.\n",
            "  after removing the cwd from sys.path.\n",
            "/usr/local/lib/python3.7/dist-packages/ipykernel_launcher.py:4: UserWarning: Boolean Series key will be reindexed to match DataFrame index.\n",
            "  after removing the cwd from sys.path.\n",
            "/usr/local/lib/python3.7/dist-packages/ipykernel_launcher.py:4: UserWarning: Boolean Series key will be reindexed to match DataFrame index.\n",
            "  after removing the cwd from sys.path.\n",
            "/usr/local/lib/python3.7/dist-packages/ipykernel_launcher.py:4: UserWarning: Boolean Series key will be reindexed to match DataFrame index.\n",
            "  after removing the cwd from sys.path.\n",
            "/usr/local/lib/python3.7/dist-packages/ipykernel_launcher.py:4: UserWarning: Boolean Series key will be reindexed to match DataFrame index.\n",
            "  after removing the cwd from sys.path.\n",
            "/usr/local/lib/python3.7/dist-packages/ipykernel_launcher.py:4: UserWarning: Boolean Series key will be reindexed to match DataFrame index.\n",
            "  after removing the cwd from sys.path.\n",
            "/usr/local/lib/python3.7/dist-packages/ipykernel_launcher.py:4: UserWarning: Boolean Series key will be reindexed to match DataFrame index.\n",
            "  after removing the cwd from sys.path.\n",
            "/usr/local/lib/python3.7/dist-packages/ipykernel_launcher.py:4: UserWarning: Boolean Series key will be reindexed to match DataFrame index.\n",
            "  after removing the cwd from sys.path.\n",
            "/usr/local/lib/python3.7/dist-packages/ipykernel_launcher.py:4: UserWarning: Boolean Series key will be reindexed to match DataFrame index.\n",
            "  after removing the cwd from sys.path.\n",
            "/usr/local/lib/python3.7/dist-packages/ipykernel_launcher.py:4: UserWarning: Boolean Series key will be reindexed to match DataFrame index.\n",
            "  after removing the cwd from sys.path.\n",
            "/usr/local/lib/python3.7/dist-packages/ipykernel_launcher.py:4: UserWarning: Boolean Series key will be reindexed to match DataFrame index.\n",
            "  after removing the cwd from sys.path.\n",
            "/usr/local/lib/python3.7/dist-packages/ipykernel_launcher.py:4: UserWarning: Boolean Series key will be reindexed to match DataFrame index.\n",
            "  after removing the cwd from sys.path.\n",
            "/usr/local/lib/python3.7/dist-packages/ipykernel_launcher.py:4: UserWarning: Boolean Series key will be reindexed to match DataFrame index.\n",
            "  after removing the cwd from sys.path.\n",
            "/usr/local/lib/python3.7/dist-packages/ipykernel_launcher.py:4: UserWarning: Boolean Series key will be reindexed to match DataFrame index.\n",
            "  after removing the cwd from sys.path.\n",
            "/usr/local/lib/python3.7/dist-packages/ipykernel_launcher.py:4: UserWarning: Boolean Series key will be reindexed to match DataFrame index.\n",
            "  after removing the cwd from sys.path.\n",
            "/usr/local/lib/python3.7/dist-packages/ipykernel_launcher.py:4: UserWarning: Boolean Series key will be reindexed to match DataFrame index.\n",
            "  after removing the cwd from sys.path.\n",
            "/usr/local/lib/python3.7/dist-packages/ipykernel_launcher.py:4: UserWarning: Boolean Series key will be reindexed to match DataFrame index.\n",
            "  after removing the cwd from sys.path.\n",
            "/usr/local/lib/python3.7/dist-packages/ipykernel_launcher.py:4: UserWarning: Boolean Series key will be reindexed to match DataFrame index.\n",
            "  after removing the cwd from sys.path.\n",
            "/usr/local/lib/python3.7/dist-packages/ipykernel_launcher.py:4: UserWarning: Boolean Series key will be reindexed to match DataFrame index.\n",
            "  after removing the cwd from sys.path.\n",
            "/usr/local/lib/python3.7/dist-packages/ipykernel_launcher.py:4: UserWarning: Boolean Series key will be reindexed to match DataFrame index.\n",
            "  after removing the cwd from sys.path.\n"
          ]
        }
      ]
    },
    {
      "cell_type": "code",
      "metadata": {
        "id": "zpQcYBD8SdHB"
      },
      "source": [
        "test_df['street'] = test_df['street'].str[1:]"
      ],
      "execution_count": 194,
      "outputs": []
    },
    {
      "cell_type": "code",
      "metadata": {
        "colab": {
          "base_uri": "https://localhost:8080/"
        },
        "id": "2OL-bgsCSdRp",
        "outputId": "13626c68-afa4-4e2e-e6c4-53c019715e4d"
      },
      "source": [
        "test_df['street'].fillna(0)"
      ],
      "execution_count": 195,
      "outputs": [
        {
          "output_type": "execute_result",
          "data": {
            "text/plain": [
              "0        6983\n",
              "1       29120\n",
              "2       23731\n",
              "3       14207\n",
              "4       20658\n",
              "        ...  \n",
              "2969     2650\n",
              "2970    11114\n",
              "2971    34005\n",
              "2972    21753\n",
              "2973    28997\n",
              "Name: street, Length: 2974, dtype: object"
            ]
          },
          "metadata": {},
          "execution_count": 195
        }
      ]
    },
    {
      "cell_type": "code",
      "metadata": {
        "id": "eQNPZjATSdWZ"
      },
      "source": [
        "test_df['street'] = pd.to_numeric(test_df['street'])"
      ],
      "execution_count": 196,
      "outputs": []
    },
    {
      "cell_type": "code",
      "metadata": {
        "colab": {
          "base_uri": "https://localhost:8080/"
        },
        "id": "nI-MwG8ISdaJ",
        "outputId": "4ce99791-eed2-4d6d-e1a5-356ce16e9390"
      },
      "source": [
        "test_df['street'].replace({0:test_df['street'].median()})"
      ],
      "execution_count": 197,
      "outputs": [
        {
          "output_type": "execute_result",
          "data": {
            "text/plain": [
              "0        6983.0\n",
              "1       29120.0\n",
              "2       23731.0\n",
              "3       14207.0\n",
              "4       20658.0\n",
              "         ...   \n",
              "2969     2650.0\n",
              "2970    11114.0\n",
              "2971    34005.0\n",
              "2972    21753.0\n",
              "2973    28997.0\n",
              "Name: street, Length: 2974, dtype: float64"
            ]
          },
          "metadata": {},
          "execution_count": 197
        }
      ]
    },
    {
      "cell_type": "code",
      "metadata": {
        "id": "C68HDQsHS6nj"
      },
      "source": [
        "test_df = test_df.drop(['id','date'], axis=1)\n",
        "test_df_num = test_df.drop(['region', 'city'], axis=1)\n",
        "test_df_num = test_df_num.drop(['osm_city_nearest_name'], axis=1)"
      ],
      "execution_count": 199,
      "outputs": []
    },
    {
      "cell_type": "code",
      "metadata": {
        "id": "veLIhLFjSu9_"
      },
      "source": [
        "answer = ctb.predict(test_df_num)"
      ],
      "execution_count": 200,
      "outputs": []
    },
    {
      "cell_type": "code",
      "metadata": {
        "colab": {
          "base_uri": "https://localhost:8080/"
        },
        "id": "q6evxr5DSvJz",
        "outputId": "1e7a9ed2-b148-44f6-8f00-8aeb66602c74"
      },
      "source": [
        "answer.shape"
      ],
      "execution_count": 202,
      "outputs": [
        {
          "output_type": "execute_result",
          "data": {
            "text/plain": [
              "(2974,)"
            ]
          },
          "metadata": {},
          "execution_count": 202
        }
      ]
    },
    {
      "cell_type": "code",
      "metadata": {
        "id": "zHCyKErhSvQ_"
      },
      "source": [
        ""
      ],
      "execution_count": null,
      "outputs": []
    },
    {
      "cell_type": "code",
      "metadata": {
        "id": "y2yNy7sxSddG"
      },
      "source": [
        "submission = pd.read_csv('./drive/MyDrive/test_submission.csv')"
      ],
      "execution_count": 203,
      "outputs": []
    },
    {
      "cell_type": "code",
      "metadata": {
        "id": "9ectB-yKTtY3"
      },
      "source": [
        "submission['per_square_meter_price'] = answer"
      ],
      "execution_count": 207,
      "outputs": []
    },
    {
      "cell_type": "code",
      "metadata": {
        "colab": {
          "base_uri": "https://localhost:8080/",
          "height": 423
        },
        "id": "SeSFj067Tthg",
        "outputId": "c3228aba-b024-4353-89ff-88595c175f87"
      },
      "source": [
        "submission"
      ],
      "execution_count": 208,
      "outputs": [
        {
          "output_type": "execute_result",
          "data": {
            "text/html": [
              "<div>\n",
              "<style scoped>\n",
              "    .dataframe tbody tr th:only-of-type {\n",
              "        vertical-align: middle;\n",
              "    }\n",
              "\n",
              "    .dataframe tbody tr th {\n",
              "        vertical-align: top;\n",
              "    }\n",
              "\n",
              "    .dataframe thead th {\n",
              "        text-align: right;\n",
              "    }\n",
              "</style>\n",
              "<table border=\"1\" class=\"dataframe\">\n",
              "  <thead>\n",
              "    <tr style=\"text-align: right;\">\n",
              "      <th></th>\n",
              "      <th>id</th>\n",
              "      <th>per_square_meter_price</th>\n",
              "    </tr>\n",
              "  </thead>\n",
              "  <tbody>\n",
              "    <tr>\n",
              "      <th>0</th>\n",
              "      <td>COL_289284</td>\n",
              "      <td>27529.908167</td>\n",
              "    </tr>\n",
              "    <tr>\n",
              "      <th>1</th>\n",
              "      <td>COL_289305</td>\n",
              "      <td>53475.359313</td>\n",
              "    </tr>\n",
              "    <tr>\n",
              "      <th>2</th>\n",
              "      <td>COL_289318</td>\n",
              "      <td>54625.658465</td>\n",
              "    </tr>\n",
              "    <tr>\n",
              "      <th>3</th>\n",
              "      <td>COL_289354</td>\n",
              "      <td>87061.653513</td>\n",
              "    </tr>\n",
              "    <tr>\n",
              "      <th>4</th>\n",
              "      <td>COL_289399</td>\n",
              "      <td>79533.405834</td>\n",
              "    </tr>\n",
              "    <tr>\n",
              "      <th>...</th>\n",
              "      <td>...</td>\n",
              "      <td>...</td>\n",
              "    </tr>\n",
              "    <tr>\n",
              "      <th>2969</th>\n",
              "      <td>COL_455089</td>\n",
              "      <td>29667.955964</td>\n",
              "    </tr>\n",
              "    <tr>\n",
              "      <th>2970</th>\n",
              "      <td>COL_455212</td>\n",
              "      <td>40112.203496</td>\n",
              "    </tr>\n",
              "    <tr>\n",
              "      <th>2971</th>\n",
              "      <td>COL_455261</td>\n",
              "      <td>38674.315726</td>\n",
              "    </tr>\n",
              "    <tr>\n",
              "      <th>2972</th>\n",
              "      <td>COL_455381</td>\n",
              "      <td>59331.040212</td>\n",
              "    </tr>\n",
              "    <tr>\n",
              "      <th>2973</th>\n",
              "      <td>COL_455397</td>\n",
              "      <td>61599.214046</td>\n",
              "    </tr>\n",
              "  </tbody>\n",
              "</table>\n",
              "<p>2974 rows × 2 columns</p>\n",
              "</div>"
            ],
            "text/plain": [
              "              id  per_square_meter_price\n",
              "0     COL_289284            27529.908167\n",
              "1     COL_289305            53475.359313\n",
              "2     COL_289318            54625.658465\n",
              "3     COL_289354            87061.653513\n",
              "4     COL_289399            79533.405834\n",
              "...          ...                     ...\n",
              "2969  COL_455089            29667.955964\n",
              "2970  COL_455212            40112.203496\n",
              "2971  COL_455261            38674.315726\n",
              "2972  COL_455381            59331.040212\n",
              "2973  COL_455397            61599.214046\n",
              "\n",
              "[2974 rows x 2 columns]"
            ]
          },
          "metadata": {},
          "execution_count": 208
        }
      ]
    },
    {
      "cell_type": "code",
      "metadata": {
        "id": "mfClyx-0TtmS"
      },
      "source": [
        ""
      ],
      "execution_count": null,
      "outputs": []
    },
    {
      "cell_type": "code",
      "metadata": {
        "colab": {
          "base_uri": "https://localhost:8080/",
          "height": 17
        },
        "id": "wOZjd2owTtqP",
        "outputId": "3b402d9e-b0fb-4b51-bb98-b2f8974cea68"
      },
      "source": [
        "from google.colab import files\n",
        "submission.to_csv('first.csv') \n",
        "files.download('first.csv')"
      ],
      "execution_count": 209,
      "outputs": [
        {
          "output_type": "display_data",
          "data": {
            "application/javascript": [
              "\n",
              "    async function download(id, filename, size) {\n",
              "      if (!google.colab.kernel.accessAllowed) {\n",
              "        return;\n",
              "      }\n",
              "      const div = document.createElement('div');\n",
              "      const label = document.createElement('label');\n",
              "      label.textContent = `Downloading \"${filename}\": `;\n",
              "      div.appendChild(label);\n",
              "      const progress = document.createElement('progress');\n",
              "      progress.max = size;\n",
              "      div.appendChild(progress);\n",
              "      document.body.appendChild(div);\n",
              "\n",
              "      const buffers = [];\n",
              "      let downloaded = 0;\n",
              "\n",
              "      const channel = await google.colab.kernel.comms.open(id);\n",
              "      // Send a message to notify the kernel that we're ready.\n",
              "      channel.send({})\n",
              "\n",
              "      for await (const message of channel.messages) {\n",
              "        // Send a message to notify the kernel that we're ready.\n",
              "        channel.send({})\n",
              "        if (message.buffers) {\n",
              "          for (const buffer of message.buffers) {\n",
              "            buffers.push(buffer);\n",
              "            downloaded += buffer.byteLength;\n",
              "            progress.value = downloaded;\n",
              "          }\n",
              "        }\n",
              "      }\n",
              "      const blob = new Blob(buffers, {type: 'application/binary'});\n",
              "      const a = document.createElement('a');\n",
              "      a.href = window.URL.createObjectURL(blob);\n",
              "      a.download = filename;\n",
              "      div.appendChild(a);\n",
              "      a.click();\n",
              "      div.remove();\n",
              "    }\n",
              "  "
            ],
            "text/plain": [
              "<IPython.core.display.Javascript object>"
            ]
          },
          "metadata": {}
        },
        {
          "output_type": "display_data",
          "data": {
            "application/javascript": [
              "download(\"download_b2d83800-952f-45b5-a03e-41f1b4ef2603\", \"first.csv\", 100695)"
            ],
            "text/plain": [
              "<IPython.core.display.Javascript object>"
            ]
          },
          "metadata": {}
        }
      ]
    },
    {
      "cell_type": "code",
      "metadata": {
        "id": "CGYjhP_GXvi6"
      },
      "source": [
        ""
      ],
      "execution_count": null,
      "outputs": []
    },
    {
      "cell_type": "code",
      "metadata": {
        "id": "oEH56RWQXvxd"
      },
      "source": [
        ""
      ],
      "execution_count": null,
      "outputs": []
    },
    {
      "cell_type": "code",
      "metadata": {
        "id": "zb78tC8CXv5I"
      },
      "source": [
        ""
      ],
      "execution_count": null,
      "outputs": []
    },
    {
      "cell_type": "code",
      "metadata": {
        "id": "BeoOk2tjXv73"
      },
      "source": [
        ""
      ],
      "execution_count": null,
      "outputs": []
    }
  ]
}