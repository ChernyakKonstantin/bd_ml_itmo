{
 "cells": [
  {
   "cell_type": "code",
   "execution_count": 496,
   "id": "7153c04d",
   "metadata": {},
   "outputs": [],
   "source": [
    "import os\n",
    "import pandas as pd\n",
    "import numpy as np\n",
    "import pandas_profiling\n",
    "import seaborn as sns\n",
    "from sklearn.decomposition import PCA\n",
    "from baseline.raif_hack.metrics import deviation_metric\n",
    "from sklearn.ensemble import GradientBoostingRegressor\n",
    "from sklearn.preprocessing import MinMaxScaler, OrdinalEncoder\n",
    "from sklearn.model_selection import train_test_split\n",
    "import joblib"
   ]
  },
  {
   "cell_type": "code",
   "execution_count": 413,
   "id": "ae99bbbb",
   "metadata": {},
   "outputs": [],
   "source": [
    "DATA_DIR = 'data'\n",
    "FILENAME = 'train.csv'"
   ]
  },
  {
   "cell_type": "code",
   "execution_count": 414,
   "id": "34a66d08",
   "metadata": {},
   "outputs": [
    {
     "name": "stderr",
     "output_type": "stream",
     "text": [
      "C:\\Users\\Konstantin\\.virtualenvs\\bd_ml_itmo-1eel-7OV\\lib\\site-packages\\IPython\\core\\interactiveshell.py:3169: DtypeWarning: Columns (1) have mixed types.Specify dtype option on import or set low_memory=False.\n",
      "  has_raised = await self.run_ast_nodes(code_ast.body, cell_name,\n"
     ]
    }
   ],
   "source": [
    "df = pd.read_csv(os.path.join(DATA_DIR, FILENAME))"
   ]
  },
  {
   "cell_type": "code",
   "execution_count": 415,
   "id": "74b6fce9",
   "metadata": {},
   "outputs": [
    {
     "data": {
      "text/html": [
       "<div>\n",
       "<style scoped>\n",
       "    .dataframe tbody tr th:only-of-type {\n",
       "        vertical-align: middle;\n",
       "    }\n",
       "\n",
       "    .dataframe tbody tr th {\n",
       "        vertical-align: top;\n",
       "    }\n",
       "\n",
       "    .dataframe thead th {\n",
       "        text-align: right;\n",
       "    }\n",
       "</style>\n",
       "<table border=\"1\" class=\"dataframe\">\n",
       "  <thead>\n",
       "    <tr style=\"text-align: right;\">\n",
       "      <th></th>\n",
       "      <th>city</th>\n",
       "      <th>floor</th>\n",
       "      <th>id</th>\n",
       "      <th>lat</th>\n",
       "      <th>lng</th>\n",
       "      <th>osm_amenity_points_in_0.001</th>\n",
       "      <th>osm_amenity_points_in_0.005</th>\n",
       "      <th>osm_amenity_points_in_0.0075</th>\n",
       "      <th>osm_amenity_points_in_0.01</th>\n",
       "      <th>osm_building_points_in_0.001</th>\n",
       "      <th>...</th>\n",
       "      <th>reform_mean_floor_count_1000</th>\n",
       "      <th>reform_mean_floor_count_500</th>\n",
       "      <th>reform_mean_year_building_1000</th>\n",
       "      <th>reform_mean_year_building_500</th>\n",
       "      <th>region</th>\n",
       "      <th>total_square</th>\n",
       "      <th>street</th>\n",
       "      <th>date</th>\n",
       "      <th>realty_type</th>\n",
       "      <th>price_type</th>\n",
       "    </tr>\n",
       "  </thead>\n",
       "  <tbody>\n",
       "    <tr>\n",
       "      <th>0</th>\n",
       "      <td>Пермь</td>\n",
       "      <td>NaN</td>\n",
       "      <td>COL_0</td>\n",
       "      <td>57.998207</td>\n",
       "      <td>56.292797</td>\n",
       "      <td>4</td>\n",
       "      <td>19</td>\n",
       "      <td>35</td>\n",
       "      <td>52</td>\n",
       "      <td>0</td>\n",
       "      <td>...</td>\n",
       "      <td>5.762963</td>\n",
       "      <td>5.530612</td>\n",
       "      <td>1964.118519</td>\n",
       "      <td>1960.959184</td>\n",
       "      <td>Пермский край</td>\n",
       "      <td>32.0</td>\n",
       "      <td>S27289</td>\n",
       "      <td>2020-01-05</td>\n",
       "      <td>10</td>\n",
       "      <td>0</td>\n",
       "    </tr>\n",
       "    <tr>\n",
       "      <th>1</th>\n",
       "      <td>Шатура</td>\n",
       "      <td>NaN</td>\n",
       "      <td>COL_1</td>\n",
       "      <td>55.574284</td>\n",
       "      <td>39.543835</td>\n",
       "      <td>3</td>\n",
       "      <td>24</td>\n",
       "      <td>37</td>\n",
       "      <td>59</td>\n",
       "      <td>0</td>\n",
       "      <td>...</td>\n",
       "      <td>2.894366</td>\n",
       "      <td>3.527778</td>\n",
       "      <td>1952.321678</td>\n",
       "      <td>1957.222222</td>\n",
       "      <td>Московская область</td>\n",
       "      <td>280.0</td>\n",
       "      <td>S17052</td>\n",
       "      <td>2020-01-05</td>\n",
       "      <td>10</td>\n",
       "      <td>0</td>\n",
       "    </tr>\n",
       "    <tr>\n",
       "      <th>2</th>\n",
       "      <td>Ярославль</td>\n",
       "      <td>NaN</td>\n",
       "      <td>COL_2</td>\n",
       "      <td>57.619140</td>\n",
       "      <td>39.850525</td>\n",
       "      <td>1</td>\n",
       "      <td>30</td>\n",
       "      <td>67</td>\n",
       "      <td>128</td>\n",
       "      <td>0</td>\n",
       "      <td>...</td>\n",
       "      <td>6.141414</td>\n",
       "      <td>7.222222</td>\n",
       "      <td>1968.150000</td>\n",
       "      <td>1973.370370</td>\n",
       "      <td>Ярославская область</td>\n",
       "      <td>297.4</td>\n",
       "      <td>S16913</td>\n",
       "      <td>2020-01-05</td>\n",
       "      <td>110</td>\n",
       "      <td>0</td>\n",
       "    </tr>\n",
       "    <tr>\n",
       "      <th>3</th>\n",
       "      <td>Новокузнецк</td>\n",
       "      <td>NaN</td>\n",
       "      <td>COL_3</td>\n",
       "      <td>53.897083</td>\n",
       "      <td>87.108604</td>\n",
       "      <td>0</td>\n",
       "      <td>0</td>\n",
       "      <td>5</td>\n",
       "      <td>21</td>\n",
       "      <td>0</td>\n",
       "      <td>...</td>\n",
       "      <td>8.581081</td>\n",
       "      <td>9.000000</td>\n",
       "      <td>1992.716216</td>\n",
       "      <td>2014.000000</td>\n",
       "      <td>Кемеровская область</td>\n",
       "      <td>190.0</td>\n",
       "      <td>S10148</td>\n",
       "      <td>2020-01-05</td>\n",
       "      <td>110</td>\n",
       "      <td>0</td>\n",
       "    </tr>\n",
       "    <tr>\n",
       "      <th>4</th>\n",
       "      <td>Москва</td>\n",
       "      <td>NaN</td>\n",
       "      <td>COL_4</td>\n",
       "      <td>55.802590</td>\n",
       "      <td>37.487110</td>\n",
       "      <td>1</td>\n",
       "      <td>23</td>\n",
       "      <td>64</td>\n",
       "      <td>153</td>\n",
       "      <td>0</td>\n",
       "      <td>...</td>\n",
       "      <td>7.263889</td>\n",
       "      <td>5.684211</td>\n",
       "      <td>1963.229167</td>\n",
       "      <td>1960.500000</td>\n",
       "      <td>Москва</td>\n",
       "      <td>60.2</td>\n",
       "      <td>S1338</td>\n",
       "      <td>2020-01-05</td>\n",
       "      <td>10</td>\n",
       "      <td>0</td>\n",
       "    </tr>\n",
       "  </tbody>\n",
       "</table>\n",
       "<p>5 rows × 77 columns</p>\n",
       "</div>"
      ],
      "text/plain": [
       "          city floor     id        lat        lng  \\\n",
       "0        Пермь   NaN  COL_0  57.998207  56.292797   \n",
       "1       Шатура   NaN  COL_1  55.574284  39.543835   \n",
       "2    Ярославль   NaN  COL_2  57.619140  39.850525   \n",
       "3  Новокузнецк   NaN  COL_3  53.897083  87.108604   \n",
       "4       Москва   NaN  COL_4  55.802590  37.487110   \n",
       "\n",
       "   osm_amenity_points_in_0.001  osm_amenity_points_in_0.005  \\\n",
       "0                            4                           19   \n",
       "1                            3                           24   \n",
       "2                            1                           30   \n",
       "3                            0                            0   \n",
       "4                            1                           23   \n",
       "\n",
       "   osm_amenity_points_in_0.0075  osm_amenity_points_in_0.01  \\\n",
       "0                            35                          52   \n",
       "1                            37                          59   \n",
       "2                            67                         128   \n",
       "3                             5                          21   \n",
       "4                            64                         153   \n",
       "\n",
       "   osm_building_points_in_0.001  ...  reform_mean_floor_count_1000  \\\n",
       "0                             0  ...                      5.762963   \n",
       "1                             0  ...                      2.894366   \n",
       "2                             0  ...                      6.141414   \n",
       "3                             0  ...                      8.581081   \n",
       "4                             0  ...                      7.263889   \n",
       "\n",
       "   reform_mean_floor_count_500  reform_mean_year_building_1000  \\\n",
       "0                     5.530612                     1964.118519   \n",
       "1                     3.527778                     1952.321678   \n",
       "2                     7.222222                     1968.150000   \n",
       "3                     9.000000                     1992.716216   \n",
       "4                     5.684211                     1963.229167   \n",
       "\n",
       "   reform_mean_year_building_500               region  total_square  street  \\\n",
       "0                    1960.959184        Пермский край          32.0  S27289   \n",
       "1                    1957.222222   Московская область         280.0  S17052   \n",
       "2                    1973.370370  Ярославская область         297.4  S16913   \n",
       "3                    2014.000000  Кемеровская область         190.0  S10148   \n",
       "4                    1960.500000               Москва          60.2   S1338   \n",
       "\n",
       "         date realty_type  price_type  \n",
       "0  2020-01-05          10           0  \n",
       "1  2020-01-05          10           0  \n",
       "2  2020-01-05         110           0  \n",
       "3  2020-01-05         110           0  \n",
       "4  2020-01-05          10           0  \n",
       "\n",
       "[5 rows x 77 columns]"
      ]
     },
     "execution_count": 415,
     "metadata": {},
     "output_type": "execute_result"
    }
   ],
   "source": [
    "df.head()"
   ]
  },
  {
   "cell_type": "code",
   "execution_count": 67,
   "id": "c8ea92c8",
   "metadata": {},
   "outputs": [],
   "source": [
    "profile = pandas_profiling.ProfileReport(df, title='Profile report', minimal=True)"
   ]
  },
  {
   "cell_type": "code",
   "execution_count": 68,
   "id": "5ab11b8e",
   "metadata": {},
   "outputs": [
    {
     "data": {
      "application/vnd.jupyter.widget-view+json": {
       "model_id": "8479b8aa1c1346728c3760480952b22e",
       "version_major": 2,
       "version_minor": 0
      },
      "text/plain": [
       "Summarize dataset:   0%|          | 0/85 [00:00<?, ?it/s]"
      ]
     },
     "metadata": {},
     "output_type": "display_data"
    },
    {
     "data": {
      "application/vnd.jupyter.widget-view+json": {
       "model_id": "1999e59642794db99846bec91f25744c",
       "version_major": 2,
       "version_minor": 0
      },
      "text/plain": [
       "Generate report structure:   0%|          | 0/1 [00:00<?, ?it/s]"
      ]
     },
     "metadata": {},
     "output_type": "display_data"
    },
    {
     "data": {
      "application/vnd.jupyter.widget-view+json": {
       "model_id": "",
       "version_major": 2,
       "version_minor": 0
      },
      "text/plain": [
       "Render widgets:   0%|          | 0/1 [00:00<?, ?it/s]"
      ]
     },
     "metadata": {},
     "output_type": "display_data"
    },
    {
     "data": {
      "application/vnd.jupyter.widget-view+json": {
       "model_id": "f9065725713f4c56994abcf880669b2d",
       "version_major": 2,
       "version_minor": 0
      },
      "text/plain": [
       "VBox(children=(Tab(children=(Tab(children=(GridBox(children=(VBox(children=(GridspecLayout(children=(HTML(valu…"
      ]
     },
     "metadata": {},
     "output_type": "display_data"
    }
   ],
   "source": [
    "# profile.to_file(\"output.html\")\n",
    "profile.to_widgets()"
   ]
  },
  {
   "cell_type": "code",
   "execution_count": 416,
   "id": "3c024451",
   "metadata": {},
   "outputs": [],
   "source": [
    "target_column = 'per_square_meter_price'\n",
    "target = df[target_column]\n",
    "df = df[[c for c in df.columns if c != target_column]]"
   ]
  },
  {
   "cell_type": "code",
   "execution_count": 417,
   "id": "c75bfdab",
   "metadata": {},
   "outputs": [
    {
     "data": {
      "text/plain": [
       "['city',\n",
       " 'floor',\n",
       " 'id',\n",
       " 'lat',\n",
       " 'lng',\n",
       " 'osm_amenity_points_in_0.001',\n",
       " 'osm_amenity_points_in_0.005',\n",
       " 'osm_amenity_points_in_0.0075',\n",
       " 'osm_amenity_points_in_0.01',\n",
       " 'osm_building_points_in_0.001',\n",
       " 'osm_building_points_in_0.005',\n",
       " 'osm_building_points_in_0.0075',\n",
       " 'osm_building_points_in_0.01',\n",
       " 'osm_catering_points_in_0.001',\n",
       " 'osm_catering_points_in_0.005',\n",
       " 'osm_catering_points_in_0.0075',\n",
       " 'osm_catering_points_in_0.01',\n",
       " 'osm_city_closest_dist',\n",
       " 'osm_city_nearest_name',\n",
       " 'osm_city_nearest_population',\n",
       " 'osm_crossing_closest_dist',\n",
       " 'osm_crossing_points_in_0.001',\n",
       " 'osm_crossing_points_in_0.005',\n",
       " 'osm_crossing_points_in_0.0075',\n",
       " 'osm_crossing_points_in_0.01',\n",
       " 'osm_culture_points_in_0.001',\n",
       " 'osm_culture_points_in_0.005',\n",
       " 'osm_culture_points_in_0.0075',\n",
       " 'osm_culture_points_in_0.01',\n",
       " 'osm_finance_points_in_0.001',\n",
       " 'osm_finance_points_in_0.005',\n",
       " 'osm_finance_points_in_0.0075',\n",
       " 'osm_finance_points_in_0.01',\n",
       " 'osm_healthcare_points_in_0.005',\n",
       " 'osm_healthcare_points_in_0.0075',\n",
       " 'osm_healthcare_points_in_0.01',\n",
       " 'osm_historic_points_in_0.005',\n",
       " 'osm_historic_points_in_0.0075',\n",
       " 'osm_historic_points_in_0.01',\n",
       " 'osm_hotels_points_in_0.005',\n",
       " 'osm_hotels_points_in_0.0075',\n",
       " 'osm_hotels_points_in_0.01',\n",
       " 'osm_leisure_points_in_0.005',\n",
       " 'osm_leisure_points_in_0.0075',\n",
       " 'osm_leisure_points_in_0.01',\n",
       " 'osm_offices_points_in_0.001',\n",
       " 'osm_offices_points_in_0.005',\n",
       " 'osm_offices_points_in_0.0075',\n",
       " 'osm_offices_points_in_0.01',\n",
       " 'osm_shops_points_in_0.001',\n",
       " 'osm_shops_points_in_0.005',\n",
       " 'osm_shops_points_in_0.0075',\n",
       " 'osm_shops_points_in_0.01',\n",
       " 'osm_subway_closest_dist',\n",
       " 'osm_train_stop_closest_dist',\n",
       " 'osm_train_stop_points_in_0.005',\n",
       " 'osm_train_stop_points_in_0.0075',\n",
       " 'osm_train_stop_points_in_0.01',\n",
       " 'osm_transport_stop_closest_dist',\n",
       " 'osm_transport_stop_points_in_0.005',\n",
       " 'osm_transport_stop_points_in_0.0075',\n",
       " 'osm_transport_stop_points_in_0.01',\n",
       " 'reform_count_of_houses_1000',\n",
       " 'reform_count_of_houses_500',\n",
       " 'reform_house_population_1000',\n",
       " 'reform_house_population_500',\n",
       " 'reform_mean_floor_count_1000',\n",
       " 'reform_mean_floor_count_500',\n",
       " 'reform_mean_year_building_1000',\n",
       " 'reform_mean_year_building_500',\n",
       " 'region',\n",
       " 'total_square',\n",
       " 'street',\n",
       " 'date',\n",
       " 'realty_type',\n",
       " 'price_type']"
      ]
     },
     "execution_count": 417,
     "metadata": {},
     "output_type": "execute_result"
    }
   ],
   "source": [
    "list(df.columns)"
   ]
  },
  {
   "cell_type": "code",
   "execution_count": 418,
   "id": "698fe418",
   "metadata": {},
   "outputs": [
    {
     "name": "stdout",
     "output_type": "stream",
     "text": [
      "price_type                        0.000000\n",
      "osm_city_nearest_population       0.000197\n",
      "street                            0.005740\n",
      "reform_house_population_1000      0.052167\n",
      "reform_mean_year_building_1000    0.058040\n",
      "reform_mean_floor_count_1000      0.059716\n",
      "reform_house_population_500       0.097337\n",
      "reform_mean_year_building_500     0.105925\n",
      "reform_mean_floor_count_500       0.107823\n",
      "floor                             0.629886\n",
      "dtype: float64\n"
     ]
    }
   ],
   "source": [
    "# Отбросить признаки с большим числом пропусков\n",
    "print((df.isna().astype(int).sum(0) / df.shape[0]).sort_values()[-10:])\n",
    "\n",
    "features_to_drop = ['floor', 'id', 'date']\n",
    "df = df[[c for c in df.columns if c not in features_to_drop]]"
   ]
  },
  {
   "cell_type": "code",
   "execution_count": 482,
   "id": "a6f41b9d",
   "metadata": {},
   "outputs": [],
   "source": [
    "# df = df[[c for c in df.columns if c != 'street']]"
   ]
  },
  {
   "cell_type": "code",
   "execution_count": 481,
   "id": "9a1a95d4",
   "metadata": {},
   "outputs": [],
   "source": [
    "# Разделим данные на категории\n",
    "categorical_features = ['price_type', 'realty_type', 'region', 'city', 'osm_city_nearest_name']  # 'street', \n",
    "numerical_features = [c for c in df.columns if c not in categorical_features]"
   ]
  },
  {
   "cell_type": "code",
   "execution_count": 420,
   "id": "8ee90d2b",
   "metadata": {},
   "outputs": [],
   "source": [
    "df[[c for c in df[categorical_features] if df[c].dtype != 'O']] += 1\n",
    "df.replace(np.nan, 0, inplace=True)"
   ]
  },
  {
   "cell_type": "code",
   "execution_count": 421,
   "id": "a3e35167",
   "metadata": {},
   "outputs": [],
   "source": [
    "# Отфильтруем данные по значениям целевой переменной\n",
    "target_threshold = np.quantile(target.to_numpy(), 0.95)\n",
    "filter_idx = np.where(target.to_numpy() < target_threshold)\n",
    "target = target.iloc[filter_idx].reset_index(drop=True)\n",
    "df = df.iloc[filter_idx].reset_index(drop=True)"
   ]
  },
  {
   "cell_type": "code",
   "execution_count": 422,
   "id": "dfe6db70",
   "metadata": {},
   "outputs": [],
   "source": [
    "# fig, ax = plt.subplots(1, figsize=(28,14))\n",
    "# target[target < target_threshold].plot(ax=ax, ls='', marker='.', alpha=0.5)  # .hist(ax=ax)\n",
    "# target.plot(ax=ax, ls='', marker='.', alpha=0.5)  # .hist(ax=ax, alpha=0.7)"
   ]
  },
  {
   "cell_type": "code",
   "execution_count": 423,
   "id": "747ea188",
   "metadata": {},
   "outputs": [],
   "source": [
    "# Не проканало особо\n",
    "# # Вычислить число заведений в каждой из зон\n",
    "\n",
    "# facilities_in_raduis_columns = [c for c in df.columns if ('osm' in c and 'points' in c)]\n",
    "# category_names = np.unique([c.split('_in_')[0] for c in facilities_in_raduis_columns])\n",
    "# category_column_names = [[c for c in facilities_in_raduis_columns if category_name in c] for category_name in category_names]\n",
    "# tmp = []\n",
    "# for columns in category_column_names:\n",
    "#     columns = list(reversed(columns))\n",
    "# #     facilities_num = df[columns]\n",
    "#     for i in range(len(columns) - 1):\n",
    "#         facilities_per_zone_num = df[columns[i]] - df[columns[i + 1]]\n",
    "#         df[columns[i]] = facilities_per_zone_num"
   ]
  },
  {
   "cell_type": "code",
   "execution_count": 447,
   "id": "8e9ce605",
   "metadata": {},
   "outputs": [
    {
     "data": {
      "image/png": "[encoded data removed]",
      "text/plain": [
       "<Figure size 864x720 with 2 Axes>"
      ]
     },
     "metadata": {
      "needs_background": "light"
     },
     "output_type": "display_data"
    }
   ],
   "source": [
    "# Пробую PCA по фану\n",
    "pca = PCA(n_components='mle')\n",
    "pca_res = pca.fit_transform(df[numerical_features].to_numpy())\n",
    "pca_res = pd.DataFrame(data=a, columns=list(range(a.shape[1])))\n",
    "\n",
    "corr = pca_res.corr()\n",
    "plt.figure(figsize=(12, 10))\n",
    "\n",
    "sns.heatmap(corr[(corr >= 0.5) | (corr <= -0.4)], \n",
    "            cmap='viridis', vmax=1.0, vmin=-1.0, linewidths=0.1,\n",
    "            annot=True, annot_kws={\"size\": 8}, square=True);"
   ]
  },
  {
   "cell_type": "code",
   "execution_count": 449,
   "id": "2958bc25",
   "metadata": {},
   "outputs": [],
   "source": [
    "df = df[[c for c in df.columns if c not in numerical_features]]\n",
    "df = pd.concat([df, pca_res], axis=1)"
   ]
  },
  {
   "cell_type": "code",
   "execution_count": 476,
   "id": "76e67dcd",
   "metadata": {},
   "outputs": [],
   "source": [
    "# idx = df[categorical_features].select_dtypes('O') == 0\n",
    "# df[idx].replace(0, 'Missing', inplace=True)"
   ]
  },
  {
   "cell_type": "code",
   "execution_count": 484,
   "id": "40db4d77",
   "metadata": {},
   "outputs": [
    {
     "name": "stdout",
     "output_type": "stream",
     "text": [
      "region                   0\n",
      "city                     0\n",
      "osm_city_nearest_name    0\n",
      "dtype: int64\n"
     ]
    },
    {
     "name": "stderr",
     "output_type": "stream",
     "text": [
      "C:\\Users\\KONSTA~1\\AppData\\Local\\Temp/ipykernel_9164/1307016445.py:3: SettingWithCopyWarning: \n",
      "A value is trying to be set on a copy of a slice from a DataFrame.\n",
      "Try using .loc[row_indexer,col_indexer] = value instead\n",
      "\n",
      "See the caveats in the documentation: https://pandas.pydata.org/pandas-docs/stable/user_guide/indexing.html#returning-a-view-versus-a-copy\n",
      "  df[categorical_features] = encoder.fit_transform(df[categorical_features])\n",
      "C:\\Users\\Konstantin\\.virtualenvs\\bd_ml_itmo-1eel-7OV\\lib\\site-packages\\pandas\\core\\indexing.py:1734: SettingWithCopyWarning: \n",
      "A value is trying to be set on a copy of a slice from a DataFrame.\n",
      "Try using .loc[row_indexer,col_indexer] = value instead\n",
      "\n",
      "See the caveats in the documentation: https://pandas.pydata.org/pandas-docs/stable/user_guide/indexing.html#returning-a-view-versus-a-copy\n",
      "  isetter(loc, value[:, i].tolist())\n"
     ]
    }
   ],
   "source": [
    "encoder = OrdinalEncoder()\n",
    "print((df[categorical_features].select_dtypes('O') == 0).astype(int).sum())\n",
    "df[categorical_features] = encoder.fit_transform(df[categorical_features])"
   ]
  },
  {
   "cell_type": "code",
   "execution_count": 489,
   "id": "aa79578e",
   "metadata": {},
   "outputs": [],
   "source": [
    "x_train, x_val, y_train, y_val = train_test_split(df.to_numpy(), target.to_numpy())"
   ]
  },
  {
   "cell_type": "code",
   "execution_count": 491,
   "id": "06186f1c",
   "metadata": {},
   "outputs": [
    {
     "data": {
      "text/plain": [
       "GradientBoostingRegressor()"
      ]
     },
     "execution_count": 491,
     "metadata": {},
     "output_type": "execute_result"
    }
   ],
   "source": [
    "gb = GradientBoostingRegressor()\n",
    "gb.fit(x_train, y_train)"
   ]
  },
  {
   "cell_type": "code",
   "execution_count": 493,
   "id": "08bd5889",
   "metadata": {},
   "outputs": [],
   "source": [
    "y_hat_train = gb.predict(x_train)\n",
    "y_hat_val = gb.predict(x_val)"
   ]
  },
  {
   "cell_type": "code",
   "execution_count": 494,
   "id": "ff8b6cf2",
   "metadata": {},
   "outputs": [
    {
     "data": {
      "text/plain": [
       "3.9223240689393664"
      ]
     },
     "execution_count": 494,
     "metadata": {},
     "output_type": "execute_result"
    }
   ],
   "source": [
    "deviation_metric(y_train, y_hat_train)"
   ]
  },
  {
   "cell_type": "code",
   "execution_count": 495,
   "id": "11ea7c41",
   "metadata": {},
   "outputs": [
    {
     "data": {
      "text/plain": [
       "3.950736799330586"
      ]
     },
     "execution_count": 495,
     "metadata": {},
     "output_type": "execute_result"
    }
   ],
   "source": [
    "deviation_metric(y_val, y_hat_val)"
   ]
  },
  {
   "cell_type": "code",
   "execution_count": 499,
   "id": "3f14e9d9",
   "metadata": {},
   "outputs": [
    {
     "data": {
      "text/plain": [
       "['object\\\\pca.gzip']"
      ]
     },
     "execution_count": 499,
     "metadata": {},
     "output_type": "execute_result"
    }
   ],
   "source": [
    "#Save\n",
    "OBJECTS_FOLDER = 'object'\n",
    "if not os.path.exists(OBJECTS_FOLDER):\n",
    "    os.mkdir(OBJECTS_FOLDER)\n",
    "joblib.dump(encoder, os.path.join(OBJECTS_FOLDER, 'encoder.gzip'))\n",
    "joblib.dump(gb, os.path.join(OBJECTS_FOLDER, 'gb.gzip'))\n",
    "joblib.dump(pca, os.path.join(OBJECTS_FOLDER, 'pca.gzip'))"
   ]
  },
  {
   "cell_type": "code",
   "execution_count": null,
   "id": "ba6f6252",
   "metadata": {},
   "outputs": [],
   "source": []
  }
 ],
 "metadata": {
  "kernelspec": {
   "display_name": "Python 3 (ipykernel)",
   "language": "python",
   "name": "python3"
  },
  "language_info": {
   "codemirror_mode": {
    "name": "ipython",
    "version": 3
   },
   "file_extension": ".py",
   "mimetype": "text/x-python",
   "name": "python",
   "nbconvert_exporter": "python",
   "pygments_lexer": "ipython3",
   "version": "3.8.6"
  }
 },
 "nbformat": 4,
 "nbformat_minor": 5
}
